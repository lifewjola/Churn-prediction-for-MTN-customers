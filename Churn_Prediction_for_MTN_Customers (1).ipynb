{
  "nbformat": 4,
  "nbformat_minor": 0,
  "metadata": {
    "colab": {
      "provenance": []
    },
    "kernelspec": {
      "name": "python3",
      "display_name": "Python 3"
    },
    "language_info": {
      "name": "python"
    }
  },
  "cells": [
    {
      "cell_type": "markdown",
      "source": [
        "# Churn Prediction for  a Telecommunication Company (MTN) Customers"
      ],
      "metadata": {
        "id": "aIMqmqJj5hRD"
      }
    },
    {
      "cell_type": "markdown",
      "source": [
        "### Welcome, grab a sit, today we'll be predicting the likelihood of customers of a telecommunication company (MTN) to churn.\n",
        "\n",
        "> By churn, I mean stop using their services\n",
        "\n",
        "### We'll also try to identify a common factor (reason) for their churning based on historical churning data so MTN would know what to improve on"
      ],
      "metadata": {
        "id": "87CiJiIg5l_a"
      }
    },
    {
      "cell_type": "markdown",
      "source": [
        "##### As always, I'd be documenting this project to the very last detail so let's go!!!"
      ],
      "metadata": {
        "id": "o0Kw9lXi6JJ4"
      }
    },
    {
      "cell_type": "markdown",
      "source": [
        "First things first, we'd be importing all the libraries needed for this project\n",
        "\n",
        "- I decided to use Random Forest model for the analysis because it seems like a good choice for this project, let's see"
      ],
      "metadata": {
        "id": "7C8lWAdl6uej"
      }
    },
    {
      "cell_type": "code",
      "execution_count": 1,
      "metadata": {
        "id": "ihNn50BpTobZ"
      },
      "outputs": [],
      "source": [
        "import numpy as np\n",
        "import pandas as pd\n",
        "from sklearn.ensemble import RandomForestClassifier\n",
        "from sklearn.metrics import  accuracy_score, precision_score, recall_score, f1_score, confusion_matrix"
      ]
    },
    {
      "cell_type": "markdown",
      "source": [
        "Next, we'd load our training data into the notebook and get a glimpse of it to understand the kind of data we're dealing with here"
      ],
      "metadata": {
        "id": "ddKnlMst8nsu"
      }
    },
    {
      "cell_type": "code",
      "source": [
        "train_data = pd.read_csv('churntrain.csv')\n",
        "train_data"
      ],
      "metadata": {
        "id": "CtXyx7Qq8GKc",
        "colab": {
          "base_uri": "https://localhost:8080/",
          "height": 488
        },
        "outputId": "c3b754e7-8057-4731-b4a6-821372a873ed"
      },
      "execution_count": 2,
      "outputs": [
        {
          "output_type": "execute_result",
          "data": {
            "text/plain": [
              "     state  account_length      area_code international_plan voice_mail_plan  \\\n",
              "0       OH             107  area_code_415                 no             yes   \n",
              "1       NJ             137  area_code_415                 no              no   \n",
              "2       OH              84  area_code_408                yes              no   \n",
              "3       OK              75  area_code_415                yes              no   \n",
              "4       MA             121  area_code_510                 no             yes   \n",
              "...    ...             ...            ...                ...             ...   \n",
              "4245    MT              83  area_code_415                 no              no   \n",
              "4246    WV              73  area_code_408                 no              no   \n",
              "4247    NC              75  area_code_408                 no              no   \n",
              "4248    HI              50  area_code_408                 no             yes   \n",
              "4249    VT              86  area_code_415                 no             yes   \n",
              "\n",
              "      number_vmail_messages  total_day_minutes  total_day_calls  \\\n",
              "0                        26              161.6              123   \n",
              "1                         0              243.4              114   \n",
              "2                         0              299.4               71   \n",
              "3                         0              166.7              113   \n",
              "4                        24              218.2               88   \n",
              "...                     ...                ...              ...   \n",
              "4245                      0              188.3               70   \n",
              "4246                      0              177.9               89   \n",
              "4247                      0              170.7              101   \n",
              "4248                     40              235.7              127   \n",
              "4249                     34              129.4              102   \n",
              "\n",
              "      total_day_charge  total_eve_minutes  total_eve_calls  total_eve_charge  \\\n",
              "0                27.47              195.5              103             16.62   \n",
              "1                41.38              121.2              110             10.30   \n",
              "2                50.90               61.9               88              5.26   \n",
              "3                28.34              148.3              122             12.61   \n",
              "4                37.09              348.5              108             29.62   \n",
              "...                ...                ...              ...               ...   \n",
              "4245             32.01              243.8               88             20.72   \n",
              "4246             30.24              131.2               82             11.15   \n",
              "4247             29.02              193.1              126             16.41   \n",
              "4248             40.07              223.0              126             18.96   \n",
              "4249             22.00              267.1              104             22.70   \n",
              "\n",
              "      total_night_minutes  total_night_calls  total_night_charge  \\\n",
              "0                   254.4                103               11.45   \n",
              "1                   162.6                104                7.32   \n",
              "2                   196.9                 89                8.86   \n",
              "3                   186.9                121                8.41   \n",
              "4                   212.6                118                9.57   \n",
              "...                   ...                ...                 ...   \n",
              "4245                213.7                 79                9.62   \n",
              "4246                186.2                 89                8.38   \n",
              "4247                129.1                104                5.81   \n",
              "4248                297.5                116               13.39   \n",
              "4249                154.8                100                6.97   \n",
              "\n",
              "      total_intl_minutes  total_intl_calls  total_intl_charge  \\\n",
              "0                   13.7                 3               3.70   \n",
              "1                   12.2                 5               3.29   \n",
              "2                    6.6                 7               1.78   \n",
              "3                   10.1                 3               2.73   \n",
              "4                    7.5                 7               2.03   \n",
              "...                  ...               ...                ...   \n",
              "4245                10.3                 6               2.78   \n",
              "4246                11.5                 6               3.11   \n",
              "4247                 6.9                 7               1.86   \n",
              "4248                 9.9                 5               2.67   \n",
              "4249                 9.3                16               2.51   \n",
              "\n",
              "      number_customer_service_calls churn  \n",
              "0                                 1    no  \n",
              "1                                 0    no  \n",
              "2                                 2    no  \n",
              "3                                 3    no  \n",
              "4                                 3    no  \n",
              "...                             ...   ...  \n",
              "4245                              0    no  \n",
              "4246                              3    no  \n",
              "4247                              1    no  \n",
              "4248                              2    no  \n",
              "4249                              0    no  \n",
              "\n",
              "[4250 rows x 20 columns]"
            ],
            "text/html": [
              "\n",
              "  <div id=\"df-f04a8883-49a1-45e6-9607-32146bef46c1\">\n",
              "    <div class=\"colab-df-container\">\n",
              "      <div>\n",
              "<style scoped>\n",
              "    .dataframe tbody tr th:only-of-type {\n",
              "        vertical-align: middle;\n",
              "    }\n",
              "\n",
              "    .dataframe tbody tr th {\n",
              "        vertical-align: top;\n",
              "    }\n",
              "\n",
              "    .dataframe thead th {\n",
              "        text-align: right;\n",
              "    }\n",
              "</style>\n",
              "<table border=\"1\" class=\"dataframe\">\n",
              "  <thead>\n",
              "    <tr style=\"text-align: right;\">\n",
              "      <th></th>\n",
              "      <th>state</th>\n",
              "      <th>account_length</th>\n",
              "      <th>area_code</th>\n",
              "      <th>international_plan</th>\n",
              "      <th>voice_mail_plan</th>\n",
              "      <th>number_vmail_messages</th>\n",
              "      <th>total_day_minutes</th>\n",
              "      <th>total_day_calls</th>\n",
              "      <th>total_day_charge</th>\n",
              "      <th>total_eve_minutes</th>\n",
              "      <th>total_eve_calls</th>\n",
              "      <th>total_eve_charge</th>\n",
              "      <th>total_night_minutes</th>\n",
              "      <th>total_night_calls</th>\n",
              "      <th>total_night_charge</th>\n",
              "      <th>total_intl_minutes</th>\n",
              "      <th>total_intl_calls</th>\n",
              "      <th>total_intl_charge</th>\n",
              "      <th>number_customer_service_calls</th>\n",
              "      <th>churn</th>\n",
              "    </tr>\n",
              "  </thead>\n",
              "  <tbody>\n",
              "    <tr>\n",
              "      <th>0</th>\n",
              "      <td>OH</td>\n",
              "      <td>107</td>\n",
              "      <td>area_code_415</td>\n",
              "      <td>no</td>\n",
              "      <td>yes</td>\n",
              "      <td>26</td>\n",
              "      <td>161.6</td>\n",
              "      <td>123</td>\n",
              "      <td>27.47</td>\n",
              "      <td>195.5</td>\n",
              "      <td>103</td>\n",
              "      <td>16.62</td>\n",
              "      <td>254.4</td>\n",
              "      <td>103</td>\n",
              "      <td>11.45</td>\n",
              "      <td>13.7</td>\n",
              "      <td>3</td>\n",
              "      <td>3.70</td>\n",
              "      <td>1</td>\n",
              "      <td>no</td>\n",
              "    </tr>\n",
              "    <tr>\n",
              "      <th>1</th>\n",
              "      <td>NJ</td>\n",
              "      <td>137</td>\n",
              "      <td>area_code_415</td>\n",
              "      <td>no</td>\n",
              "      <td>no</td>\n",
              "      <td>0</td>\n",
              "      <td>243.4</td>\n",
              "      <td>114</td>\n",
              "      <td>41.38</td>\n",
              "      <td>121.2</td>\n",
              "      <td>110</td>\n",
              "      <td>10.30</td>\n",
              "      <td>162.6</td>\n",
              "      <td>104</td>\n",
              "      <td>7.32</td>\n",
              "      <td>12.2</td>\n",
              "      <td>5</td>\n",
              "      <td>3.29</td>\n",
              "      <td>0</td>\n",
              "      <td>no</td>\n",
              "    </tr>\n",
              "    <tr>\n",
              "      <th>2</th>\n",
              "      <td>OH</td>\n",
              "      <td>84</td>\n",
              "      <td>area_code_408</td>\n",
              "      <td>yes</td>\n",
              "      <td>no</td>\n",
              "      <td>0</td>\n",
              "      <td>299.4</td>\n",
              "      <td>71</td>\n",
              "      <td>50.90</td>\n",
              "      <td>61.9</td>\n",
              "      <td>88</td>\n",
              "      <td>5.26</td>\n",
              "      <td>196.9</td>\n",
              "      <td>89</td>\n",
              "      <td>8.86</td>\n",
              "      <td>6.6</td>\n",
              "      <td>7</td>\n",
              "      <td>1.78</td>\n",
              "      <td>2</td>\n",
              "      <td>no</td>\n",
              "    </tr>\n",
              "    <tr>\n",
              "      <th>3</th>\n",
              "      <td>OK</td>\n",
              "      <td>75</td>\n",
              "      <td>area_code_415</td>\n",
              "      <td>yes</td>\n",
              "      <td>no</td>\n",
              "      <td>0</td>\n",
              "      <td>166.7</td>\n",
              "      <td>113</td>\n",
              "      <td>28.34</td>\n",
              "      <td>148.3</td>\n",
              "      <td>122</td>\n",
              "      <td>12.61</td>\n",
              "      <td>186.9</td>\n",
              "      <td>121</td>\n",
              "      <td>8.41</td>\n",
              "      <td>10.1</td>\n",
              "      <td>3</td>\n",
              "      <td>2.73</td>\n",
              "      <td>3</td>\n",
              "      <td>no</td>\n",
              "    </tr>\n",
              "    <tr>\n",
              "      <th>4</th>\n",
              "      <td>MA</td>\n",
              "      <td>121</td>\n",
              "      <td>area_code_510</td>\n",
              "      <td>no</td>\n",
              "      <td>yes</td>\n",
              "      <td>24</td>\n",
              "      <td>218.2</td>\n",
              "      <td>88</td>\n",
              "      <td>37.09</td>\n",
              "      <td>348.5</td>\n",
              "      <td>108</td>\n",
              "      <td>29.62</td>\n",
              "      <td>212.6</td>\n",
              "      <td>118</td>\n",
              "      <td>9.57</td>\n",
              "      <td>7.5</td>\n",
              "      <td>7</td>\n",
              "      <td>2.03</td>\n",
              "      <td>3</td>\n",
              "      <td>no</td>\n",
              "    </tr>\n",
              "    <tr>\n",
              "      <th>...</th>\n",
              "      <td>...</td>\n",
              "      <td>...</td>\n",
              "      <td>...</td>\n",
              "      <td>...</td>\n",
              "      <td>...</td>\n",
              "      <td>...</td>\n",
              "      <td>...</td>\n",
              "      <td>...</td>\n",
              "      <td>...</td>\n",
              "      <td>...</td>\n",
              "      <td>...</td>\n",
              "      <td>...</td>\n",
              "      <td>...</td>\n",
              "      <td>...</td>\n",
              "      <td>...</td>\n",
              "      <td>...</td>\n",
              "      <td>...</td>\n",
              "      <td>...</td>\n",
              "      <td>...</td>\n",
              "      <td>...</td>\n",
              "    </tr>\n",
              "    <tr>\n",
              "      <th>4245</th>\n",
              "      <td>MT</td>\n",
              "      <td>83</td>\n",
              "      <td>area_code_415</td>\n",
              "      <td>no</td>\n",
              "      <td>no</td>\n",
              "      <td>0</td>\n",
              "      <td>188.3</td>\n",
              "      <td>70</td>\n",
              "      <td>32.01</td>\n",
              "      <td>243.8</td>\n",
              "      <td>88</td>\n",
              "      <td>20.72</td>\n",
              "      <td>213.7</td>\n",
              "      <td>79</td>\n",
              "      <td>9.62</td>\n",
              "      <td>10.3</td>\n",
              "      <td>6</td>\n",
              "      <td>2.78</td>\n",
              "      <td>0</td>\n",
              "      <td>no</td>\n",
              "    </tr>\n",
              "    <tr>\n",
              "      <th>4246</th>\n",
              "      <td>WV</td>\n",
              "      <td>73</td>\n",
              "      <td>area_code_408</td>\n",
              "      <td>no</td>\n",
              "      <td>no</td>\n",
              "      <td>0</td>\n",
              "      <td>177.9</td>\n",
              "      <td>89</td>\n",
              "      <td>30.24</td>\n",
              "      <td>131.2</td>\n",
              "      <td>82</td>\n",
              "      <td>11.15</td>\n",
              "      <td>186.2</td>\n",
              "      <td>89</td>\n",
              "      <td>8.38</td>\n",
              "      <td>11.5</td>\n",
              "      <td>6</td>\n",
              "      <td>3.11</td>\n",
              "      <td>3</td>\n",
              "      <td>no</td>\n",
              "    </tr>\n",
              "    <tr>\n",
              "      <th>4247</th>\n",
              "      <td>NC</td>\n",
              "      <td>75</td>\n",
              "      <td>area_code_408</td>\n",
              "      <td>no</td>\n",
              "      <td>no</td>\n",
              "      <td>0</td>\n",
              "      <td>170.7</td>\n",
              "      <td>101</td>\n",
              "      <td>29.02</td>\n",
              "      <td>193.1</td>\n",
              "      <td>126</td>\n",
              "      <td>16.41</td>\n",
              "      <td>129.1</td>\n",
              "      <td>104</td>\n",
              "      <td>5.81</td>\n",
              "      <td>6.9</td>\n",
              "      <td>7</td>\n",
              "      <td>1.86</td>\n",
              "      <td>1</td>\n",
              "      <td>no</td>\n",
              "    </tr>\n",
              "    <tr>\n",
              "      <th>4248</th>\n",
              "      <td>HI</td>\n",
              "      <td>50</td>\n",
              "      <td>area_code_408</td>\n",
              "      <td>no</td>\n",
              "      <td>yes</td>\n",
              "      <td>40</td>\n",
              "      <td>235.7</td>\n",
              "      <td>127</td>\n",
              "      <td>40.07</td>\n",
              "      <td>223.0</td>\n",
              "      <td>126</td>\n",
              "      <td>18.96</td>\n",
              "      <td>297.5</td>\n",
              "      <td>116</td>\n",
              "      <td>13.39</td>\n",
              "      <td>9.9</td>\n",
              "      <td>5</td>\n",
              "      <td>2.67</td>\n",
              "      <td>2</td>\n",
              "      <td>no</td>\n",
              "    </tr>\n",
              "    <tr>\n",
              "      <th>4249</th>\n",
              "      <td>VT</td>\n",
              "      <td>86</td>\n",
              "      <td>area_code_415</td>\n",
              "      <td>no</td>\n",
              "      <td>yes</td>\n",
              "      <td>34</td>\n",
              "      <td>129.4</td>\n",
              "      <td>102</td>\n",
              "      <td>22.00</td>\n",
              "      <td>267.1</td>\n",
              "      <td>104</td>\n",
              "      <td>22.70</td>\n",
              "      <td>154.8</td>\n",
              "      <td>100</td>\n",
              "      <td>6.97</td>\n",
              "      <td>9.3</td>\n",
              "      <td>16</td>\n",
              "      <td>2.51</td>\n",
              "      <td>0</td>\n",
              "      <td>no</td>\n",
              "    </tr>\n",
              "  </tbody>\n",
              "</table>\n",
              "<p>4250 rows × 20 columns</p>\n",
              "</div>\n",
              "      <button class=\"colab-df-convert\" onclick=\"convertToInteractive('df-f04a8883-49a1-45e6-9607-32146bef46c1')\"\n",
              "              title=\"Convert this dataframe to an interactive table.\"\n",
              "              style=\"display:none;\">\n",
              "        \n",
              "  <svg xmlns=\"http://www.w3.org/2000/svg\" height=\"24px\"viewBox=\"0 0 24 24\"\n",
              "       width=\"24px\">\n",
              "    <path d=\"M0 0h24v24H0V0z\" fill=\"none\"/>\n",
              "    <path d=\"M18.56 5.44l.94 2.06.94-2.06 2.06-.94-2.06-.94-.94-2.06-.94 2.06-2.06.94zm-11 1L8.5 8.5l.94-2.06 2.06-.94-2.06-.94L8.5 2.5l-.94 2.06-2.06.94zm10 10l.94 2.06.94-2.06 2.06-.94-2.06-.94-.94-2.06-.94 2.06-2.06.94z\"/><path d=\"M17.41 7.96l-1.37-1.37c-.4-.4-.92-.59-1.43-.59-.52 0-1.04.2-1.43.59L10.3 9.45l-7.72 7.72c-.78.78-.78 2.05 0 2.83L4 21.41c.39.39.9.59 1.41.59.51 0 1.02-.2 1.41-.59l7.78-7.78 2.81-2.81c.8-.78.8-2.07 0-2.86zM5.41 20L4 18.59l7.72-7.72 1.47 1.35L5.41 20z\"/>\n",
              "  </svg>\n",
              "      </button>\n",
              "      \n",
              "  <style>\n",
              "    .colab-df-container {\n",
              "      display:flex;\n",
              "      flex-wrap:wrap;\n",
              "      gap: 12px;\n",
              "    }\n",
              "\n",
              "    .colab-df-convert {\n",
              "      background-color: #E8F0FE;\n",
              "      border: none;\n",
              "      border-radius: 50%;\n",
              "      cursor: pointer;\n",
              "      display: none;\n",
              "      fill: #1967D2;\n",
              "      height: 32px;\n",
              "      padding: 0 0 0 0;\n",
              "      width: 32px;\n",
              "    }\n",
              "\n",
              "    .colab-df-convert:hover {\n",
              "      background-color: #E2EBFA;\n",
              "      box-shadow: 0px 1px 2px rgba(60, 64, 67, 0.3), 0px 1px 3px 1px rgba(60, 64, 67, 0.15);\n",
              "      fill: #174EA6;\n",
              "    }\n",
              "\n",
              "    [theme=dark] .colab-df-convert {\n",
              "      background-color: #3B4455;\n",
              "      fill: #D2E3FC;\n",
              "    }\n",
              "\n",
              "    [theme=dark] .colab-df-convert:hover {\n",
              "      background-color: #434B5C;\n",
              "      box-shadow: 0px 1px 3px 1px rgba(0, 0, 0, 0.15);\n",
              "      filter: drop-shadow(0px 1px 2px rgba(0, 0, 0, 0.3));\n",
              "      fill: #FFFFFF;\n",
              "    }\n",
              "  </style>\n",
              "\n",
              "      <script>\n",
              "        const buttonEl =\n",
              "          document.querySelector('#df-f04a8883-49a1-45e6-9607-32146bef46c1 button.colab-df-convert');\n",
              "        buttonEl.style.display =\n",
              "          google.colab.kernel.accessAllowed ? 'block' : 'none';\n",
              "\n",
              "        async function convertToInteractive(key) {\n",
              "          const element = document.querySelector('#df-f04a8883-49a1-45e6-9607-32146bef46c1');\n",
              "          const dataTable =\n",
              "            await google.colab.kernel.invokeFunction('convertToInteractive',\n",
              "                                                     [key], {});\n",
              "          if (!dataTable) return;\n",
              "\n",
              "          const docLinkHtml = 'Like what you see? Visit the ' +\n",
              "            '<a target=\"_blank\" href=https://colab.research.google.com/notebooks/data_table.ipynb>data table notebook</a>'\n",
              "            + ' to learn more about interactive tables.';\n",
              "          element.innerHTML = '';\n",
              "          dataTable['output_type'] = 'display_data';\n",
              "          await google.colab.output.renderOutput(dataTable, element);\n",
              "          const docLink = document.createElement('div');\n",
              "          docLink.innerHTML = docLinkHtml;\n",
              "          element.appendChild(docLink);\n",
              "        }\n",
              "      </script>\n",
              "    </div>\n",
              "  </div>\n",
              "  "
            ]
          },
          "metadata": {},
          "execution_count": 2
        }
      ]
    },
    {
      "cell_type": "markdown",
      "source": [
        "I want a list of all the columns and their data types so I'll easily copy and paste the columns I need and also understand the data better"
      ],
      "metadata": {
        "id": "9qN3Ib9S8zId"
      }
    },
    {
      "cell_type": "code",
      "source": [
        "train_data.info()"
      ],
      "metadata": {
        "id": "vLpYprl48VnK",
        "colab": {
          "base_uri": "https://localhost:8080/"
        },
        "outputId": "384ba3a0-5e2c-4cba-d39d-393e0cabbffd"
      },
      "execution_count": 3,
      "outputs": [
        {
          "output_type": "stream",
          "name": "stdout",
          "text": [
            "<class 'pandas.core.frame.DataFrame'>\n",
            "RangeIndex: 4250 entries, 0 to 4249\n",
            "Data columns (total 20 columns):\n",
            " #   Column                         Non-Null Count  Dtype  \n",
            "---  ------                         --------------  -----  \n",
            " 0   state                          4250 non-null   object \n",
            " 1   account_length                 4250 non-null   int64  \n",
            " 2   area_code                      4250 non-null   object \n",
            " 3   international_plan             4250 non-null   object \n",
            " 4   voice_mail_plan                4250 non-null   object \n",
            " 5   number_vmail_messages          4250 non-null   int64  \n",
            " 6   total_day_minutes              4250 non-null   float64\n",
            " 7   total_day_calls                4250 non-null   int64  \n",
            " 8   total_day_charge               4250 non-null   float64\n",
            " 9   total_eve_minutes              4250 non-null   float64\n",
            " 10  total_eve_calls                4250 non-null   int64  \n",
            " 11  total_eve_charge               4250 non-null   float64\n",
            " 12  total_night_minutes            4250 non-null   float64\n",
            " 13  total_night_calls              4250 non-null   int64  \n",
            " 14  total_night_charge             4250 non-null   float64\n",
            " 15  total_intl_minutes             4250 non-null   float64\n",
            " 16  total_intl_calls               4250 non-null   int64  \n",
            " 17  total_intl_charge              4250 non-null   float64\n",
            " 18  number_customer_service_calls  4250 non-null   int64  \n",
            " 19  churn                          4250 non-null   object \n",
            "dtypes: float64(8), int64(7), object(5)\n",
            "memory usage: 664.2+ KB\n"
          ]
        }
      ]
    },
    {
      "cell_type": "code",
      "source": [
        "train_data.columns"
      ],
      "metadata": {
        "id": "tKPACBkBqnPE",
        "colab": {
          "base_uri": "https://localhost:8080/"
        },
        "outputId": "772aa83c-47fc-4704-bc50-23554290a6a3"
      },
      "execution_count": 4,
      "outputs": [
        {
          "output_type": "execute_result",
          "data": {
            "text/plain": [
              "Index(['state', 'account_length', 'area_code', 'international_plan',\n",
              "       'voice_mail_plan', 'number_vmail_messages', 'total_day_minutes',\n",
              "       'total_day_calls', 'total_day_charge', 'total_eve_minutes',\n",
              "       'total_eve_calls', 'total_eve_charge', 'total_night_minutes',\n",
              "       'total_night_calls', 'total_night_charge', 'total_intl_minutes',\n",
              "       'total_intl_calls', 'total_intl_charge',\n",
              "       'number_customer_service_calls', 'churn'],\n",
              "      dtype='object')"
            ]
          },
          "metadata": {},
          "execution_count": 4
        }
      ]
    },
    {
      "cell_type": "markdown",
      "source": [
        "### We can create new columns to find the total calls, total minutes, and total charge irrespective of the time of the day"
      ],
      "metadata": {
        "id": "pHmW0n8xhLu-"
      }
    },
    {
      "cell_type": "code",
      "source": [
        "train_data['total_calls'] = train_data['total_day_calls'] + train_data['total_eve_calls'] + train_data['total_night_calls']\n",
        "train_data['total_minutes'] = train_data['total_day_minutes'] + train_data['total_eve_minutes'] + train_data['total_night_minutes']\n",
        "train_data['total_charges'] = train_data['total_day_charge'] + train_data['total_eve_charge'] + train_data['total_night_charge']"
      ],
      "metadata": {
        "id": "FthjZQ3WhXwK"
      },
      "execution_count": 5,
      "outputs": []
    },
    {
      "cell_type": "markdown",
      "source": [
        "We'll select our 'feature' data  (X) and 'target' data (y) that'll be used to train our model\n",
        "\n",
        "- Now, note that at first, I picked out the features based on the heatmap above\n",
        "- At the end of my analysis, I would have performed feature engineering to filter out items that reduce the quality of my model\n",
        "\n",
        "Let's go!!!"
      ],
      "metadata": {
        "id": "UZIXhA6Z9FBZ"
      }
    },
    {
      "cell_type": "markdown",
      "source": [
        "### WAIT, HOLD ON\n",
        "Our model only works with numerical or categorical data i.e. boolean\n",
        "\n",
        "And my intuition tells me that a customer having an international plan or not  OR having a voicemail plan or not may affect his/her likelihood of churning\n",
        "\n",
        "Both columns contain invalid data types, so we'll have to\n",
        "- convert the data in the respective columns to boolean data using the pandas function 'map()'\n",
        "\n",
        "- To ensure we don't get the NaN error, we further convert the dtype to boolean using astype() function"
      ],
      "metadata": {
        "id": "Okc1nfxDA2pq"
      }
    },
    {
      "cell_type": "code",
      "source": [
        "train_data['international_plan'] = train_data['international_plan'].map({'yes':True, 'no':False}).astype(bool)\n",
        "train_data['voice_mail_plan'] = train_data['voice_mail_plan'].map({'yes':True, 'no':False}).astype(bool)"
      ],
      "metadata": {
        "id": "c7S51hUXAr2m"
      },
      "execution_count": 6,
      "outputs": []
    },
    {
      "cell_type": "markdown",
      "source": [
        "Let's confirm our data is as we want it"
      ],
      "metadata": {
        "id": "3DgnLnrnFjtR"
      }
    },
    {
      "cell_type": "code",
      "source": [
        "train_data['international_plan'].head()"
      ],
      "metadata": {
        "id": "EheLZbfPDgdS",
        "colab": {
          "base_uri": "https://localhost:8080/"
        },
        "outputId": "26c21379-ed44-4841-8f39-273fb584ffbc"
      },
      "execution_count": 7,
      "outputs": [
        {
          "output_type": "execute_result",
          "data": {
            "text/plain": [
              "0    False\n",
              "1    False\n",
              "2     True\n",
              "3     True\n",
              "4    False\n",
              "Name: international_plan, dtype: bool"
            ]
          },
          "metadata": {},
          "execution_count": 7
        }
      ]
    },
    {
      "cell_type": "code",
      "source": [
        "train_data['voice_mail_plan'].head()"
      ],
      "metadata": {
        "id": "sL_JgjYWF5F2",
        "colab": {
          "base_uri": "https://localhost:8080/"
        },
        "outputId": "3c9eb959-9767-4dac-c973-9f4828611402"
      },
      "execution_count": 8,
      "outputs": [
        {
          "output_type": "execute_result",
          "data": {
            "text/plain": [
              "0     True\n",
              "1    False\n",
              "2    False\n",
              "3    False\n",
              "4     True\n",
              "Name: voice_mail_plan, dtype: bool"
            ]
          },
          "metadata": {},
          "execution_count": 8
        }
      ]
    },
    {
      "cell_type": "markdown",
      "source": [
        "### Oh, great! Everything is shipshape and perfect\n",
        "Okay, now we're ready to select our features and target"
      ],
      "metadata": {
        "id": "n6O-ndseB44k"
      }
    },
    {
      "cell_type": "code",
      "source": [
        "features = ['international_plan', 'voice_mail_plan', 'account_length', 'total_intl_minutes', 'total_calls', 'total_minutes', 'total_charges', 'total_intl_calls', 'total_intl_charge', 'total_day_minutes','total_day_calls', 'total_eve_minutes', 'total_eve_calls', 'total_night_minutes', 'total_night_calls']\n",
        "X = train_data[features]\n",
        "y = train_data.churn"
      ],
      "metadata": {
        "id": "ei6I-nV38iy5"
      },
      "execution_count": 9,
      "outputs": []
    },
    {
      "cell_type": "markdown",
      "source": [
        "### UGH, WAIT A MINUTE... AGAIN\n",
        "\n",
        "Our churn data is also in an invalid format.\n",
        "\n",
        "Well, easy, we'd just convert it to boolean as we did for the other categorical data\n"
      ],
      "metadata": {
        "id": "-bEZDI4fJ8aP"
      }
    },
    {
      "cell_type": "code",
      "source": [
        "train_data['churn'] = train_data['churn'].map({'yes':True, 'no':False}).astype(bool)\n",
        "y = train_data.churn\n",
        "y.head()"
      ],
      "metadata": {
        "id": "Q5We3fx_Jr69",
        "colab": {
          "base_uri": "https://localhost:8080/"
        },
        "outputId": "3ac9639c-d15a-459a-8741-9b1e360535d6"
      },
      "execution_count": 10,
      "outputs": [
        {
          "output_type": "execute_result",
          "data": {
            "text/plain": [
              "0    False\n",
              "1    False\n",
              "2    False\n",
              "3    False\n",
              "4    False\n",
              "Name: churn, dtype: bool"
            ]
          },
          "metadata": {},
          "execution_count": 10
        }
      ]
    },
    {
      "cell_type": "markdown",
      "source": [
        "### YAY! We're good to go!\n",
        "Now, We'd define our model now as a random forrest model"
      ],
      "metadata": {
        "id": "xPZj4wHLAWr1"
      }
    },
    {
      "cell_type": "code",
      "source": [
        "churn_model = RandomForestClassifier()"
      ],
      "metadata": {
        "id": "4oRH-3gIAN-Z"
      },
      "execution_count": 11,
      "outputs": []
    },
    {
      "cell_type": "markdown",
      "source": [
        "Next, we'd fit (train) our model using the training data"
      ],
      "metadata": {
        "id": "3bEuQf2PAbtK"
      }
    },
    {
      "cell_type": "code",
      "source": [
        "churn_model.fit(X, y)"
      ],
      "metadata": {
        "id": "48X7WZ8N_AT3",
        "colab": {
          "base_uri": "https://localhost:8080/",
          "height": 75
        },
        "outputId": "4b70213d-bbfe-4814-bf75-7a32040e33e9"
      },
      "execution_count": 12,
      "outputs": [
        {
          "output_type": "execute_result",
          "data": {
            "text/plain": [
              "RandomForestClassifier()"
            ],
            "text/html": [
              "<style>#sk-container-id-1 {color: black;background-color: white;}#sk-container-id-1 pre{padding: 0;}#sk-container-id-1 div.sk-toggleable {background-color: white;}#sk-container-id-1 label.sk-toggleable__label {cursor: pointer;display: block;width: 100%;margin-bottom: 0;padding: 0.3em;box-sizing: border-box;text-align: center;}#sk-container-id-1 label.sk-toggleable__label-arrow:before {content: \"▸\";float: left;margin-right: 0.25em;color: #696969;}#sk-container-id-1 label.sk-toggleable__label-arrow:hover:before {color: black;}#sk-container-id-1 div.sk-estimator:hover label.sk-toggleable__label-arrow:before {color: black;}#sk-container-id-1 div.sk-toggleable__content {max-height: 0;max-width: 0;overflow: hidden;text-align: left;background-color: #f0f8ff;}#sk-container-id-1 div.sk-toggleable__content pre {margin: 0.2em;color: black;border-radius: 0.25em;background-color: #f0f8ff;}#sk-container-id-1 input.sk-toggleable__control:checked~div.sk-toggleable__content {max-height: 200px;max-width: 100%;overflow: auto;}#sk-container-id-1 input.sk-toggleable__control:checked~label.sk-toggleable__label-arrow:before {content: \"▾\";}#sk-container-id-1 div.sk-estimator input.sk-toggleable__control:checked~label.sk-toggleable__label {background-color: #d4ebff;}#sk-container-id-1 div.sk-label input.sk-toggleable__control:checked~label.sk-toggleable__label {background-color: #d4ebff;}#sk-container-id-1 input.sk-hidden--visually {border: 0;clip: rect(1px 1px 1px 1px);clip: rect(1px, 1px, 1px, 1px);height: 1px;margin: -1px;overflow: hidden;padding: 0;position: absolute;width: 1px;}#sk-container-id-1 div.sk-estimator {font-family: monospace;background-color: #f0f8ff;border: 1px dotted black;border-radius: 0.25em;box-sizing: border-box;margin-bottom: 0.5em;}#sk-container-id-1 div.sk-estimator:hover {background-color: #d4ebff;}#sk-container-id-1 div.sk-parallel-item::after {content: \"\";width: 100%;border-bottom: 1px solid gray;flex-grow: 1;}#sk-container-id-1 div.sk-label:hover label.sk-toggleable__label {background-color: #d4ebff;}#sk-container-id-1 div.sk-serial::before {content: \"\";position: absolute;border-left: 1px solid gray;box-sizing: border-box;top: 0;bottom: 0;left: 50%;z-index: 0;}#sk-container-id-1 div.sk-serial {display: flex;flex-direction: column;align-items: center;background-color: white;padding-right: 0.2em;padding-left: 0.2em;position: relative;}#sk-container-id-1 div.sk-item {position: relative;z-index: 1;}#sk-container-id-1 div.sk-parallel {display: flex;align-items: stretch;justify-content: center;background-color: white;position: relative;}#sk-container-id-1 div.sk-item::before, #sk-container-id-1 div.sk-parallel-item::before {content: \"\";position: absolute;border-left: 1px solid gray;box-sizing: border-box;top: 0;bottom: 0;left: 50%;z-index: -1;}#sk-container-id-1 div.sk-parallel-item {display: flex;flex-direction: column;z-index: 1;position: relative;background-color: white;}#sk-container-id-1 div.sk-parallel-item:first-child::after {align-self: flex-end;width: 50%;}#sk-container-id-1 div.sk-parallel-item:last-child::after {align-self: flex-start;width: 50%;}#sk-container-id-1 div.sk-parallel-item:only-child::after {width: 0;}#sk-container-id-1 div.sk-dashed-wrapped {border: 1px dashed gray;margin: 0 0.4em 0.5em 0.4em;box-sizing: border-box;padding-bottom: 0.4em;background-color: white;}#sk-container-id-1 div.sk-label label {font-family: monospace;font-weight: bold;display: inline-block;line-height: 1.2em;}#sk-container-id-1 div.sk-label-container {text-align: center;}#sk-container-id-1 div.sk-container {/* jupyter's `normalize.less` sets `[hidden] { display: none; }` but bootstrap.min.css set `[hidden] { display: none !important; }` so we also need the `!important` here to be able to override the default hidden behavior on the sphinx rendered scikit-learn.org. See: https://github.com/scikit-learn/scikit-learn/issues/21755 */display: inline-block !important;position: relative;}#sk-container-id-1 div.sk-text-repr-fallback {display: none;}</style><div id=\"sk-container-id-1\" class=\"sk-top-container\"><div class=\"sk-text-repr-fallback\"><pre>RandomForestClassifier()</pre><b>In a Jupyter environment, please rerun this cell to show the HTML representation or trust the notebook. <br />On GitHub, the HTML representation is unable to render, please try loading this page with nbviewer.org.</b></div><div class=\"sk-container\" hidden><div class=\"sk-item\"><div class=\"sk-estimator sk-toggleable\"><input class=\"sk-toggleable__control sk-hidden--visually\" id=\"sk-estimator-id-1\" type=\"checkbox\" checked><label for=\"sk-estimator-id-1\" class=\"sk-toggleable__label sk-toggleable__label-arrow\">RandomForestClassifier</label><div class=\"sk-toggleable__content\"><pre>RandomForestClassifier()</pre></div></div></div></div></div>"
            ]
          },
          "metadata": {},
          "execution_count": 12
        }
      ]
    },
    {
      "cell_type": "markdown",
      "source": [
        "###Awesome! It's time to know if our model really works\n",
        "\n",
        "Let's get testing!"
      ],
      "metadata": {
        "id": "ua0z3maQKqE3"
      }
    },
    {
      "cell_type": "code",
      "source": [
        "test_data = pd.read_csv('churntest.csv')\n",
        "test_data.head()"
      ],
      "metadata": {
        "id": "cTDkzfTaAk2s",
        "colab": {
          "base_uri": "https://localhost:8080/",
          "height": 270
        },
        "outputId": "1b71105d-0125-4246-d065-ea01ab5ce5e7"
      },
      "execution_count": 13,
      "outputs": [
        {
          "output_type": "execute_result",
          "data": {
            "text/plain": [
              "   id state  account_length      area_code international_plan voice_mail_plan  \\\n",
              "0   1    KS             128  area_code_415                 no             yes   \n",
              "1   2    AL             118  area_code_510                yes              no   \n",
              "2   3    IA              62  area_code_415                 no              no   \n",
              "3   4    VT              93  area_code_510                 no              no   \n",
              "4   5    NE             174  area_code_415                 no              no   \n",
              "\n",
              "   number_vmail_messages  total_day_minutes  total_day_calls  \\\n",
              "0                     25              265.1              110   \n",
              "1                      0              223.4               98   \n",
              "2                      0              120.7               70   \n",
              "3                      0              190.7              114   \n",
              "4                      0              124.3               76   \n",
              "\n",
              "   total_day_charge  total_eve_minutes  total_eve_calls  total_eve_charge  \\\n",
              "0             45.07              197.4               99             16.78   \n",
              "1             37.98              220.6              101             18.75   \n",
              "2             20.52              307.2               76             26.11   \n",
              "3             32.42              218.2              111             18.55   \n",
              "4             21.13              277.1              112             23.55   \n",
              "\n",
              "   total_night_minutes  total_night_calls  total_night_charge  \\\n",
              "0                244.7                 91               11.01   \n",
              "1                203.9                118                9.18   \n",
              "2                203.0                 99                9.14   \n",
              "3                129.6                121                5.83   \n",
              "4                250.7                115               11.28   \n",
              "\n",
              "   total_intl_minutes  total_intl_calls  total_intl_charge  \\\n",
              "0                10.0                 3               2.70   \n",
              "1                 6.3                 6               1.70   \n",
              "2                13.1                 6               3.54   \n",
              "3                 8.1                 3               2.19   \n",
              "4                15.5                 5               4.19   \n",
              "\n",
              "   number_customer_service_calls  \n",
              "0                              1  \n",
              "1                              0  \n",
              "2                              4  \n",
              "3                              3  \n",
              "4                              3  "
            ],
            "text/html": [
              "\n",
              "  <div id=\"df-3cfa2403-4798-4389-bd48-81eb9926788a\">\n",
              "    <div class=\"colab-df-container\">\n",
              "      <div>\n",
              "<style scoped>\n",
              "    .dataframe tbody tr th:only-of-type {\n",
              "        vertical-align: middle;\n",
              "    }\n",
              "\n",
              "    .dataframe tbody tr th {\n",
              "        vertical-align: top;\n",
              "    }\n",
              "\n",
              "    .dataframe thead th {\n",
              "        text-align: right;\n",
              "    }\n",
              "</style>\n",
              "<table border=\"1\" class=\"dataframe\">\n",
              "  <thead>\n",
              "    <tr style=\"text-align: right;\">\n",
              "      <th></th>\n",
              "      <th>id</th>\n",
              "      <th>state</th>\n",
              "      <th>account_length</th>\n",
              "      <th>area_code</th>\n",
              "      <th>international_plan</th>\n",
              "      <th>voice_mail_plan</th>\n",
              "      <th>number_vmail_messages</th>\n",
              "      <th>total_day_minutes</th>\n",
              "      <th>total_day_calls</th>\n",
              "      <th>total_day_charge</th>\n",
              "      <th>total_eve_minutes</th>\n",
              "      <th>total_eve_calls</th>\n",
              "      <th>total_eve_charge</th>\n",
              "      <th>total_night_minutes</th>\n",
              "      <th>total_night_calls</th>\n",
              "      <th>total_night_charge</th>\n",
              "      <th>total_intl_minutes</th>\n",
              "      <th>total_intl_calls</th>\n",
              "      <th>total_intl_charge</th>\n",
              "      <th>number_customer_service_calls</th>\n",
              "    </tr>\n",
              "  </thead>\n",
              "  <tbody>\n",
              "    <tr>\n",
              "      <th>0</th>\n",
              "      <td>1</td>\n",
              "      <td>KS</td>\n",
              "      <td>128</td>\n",
              "      <td>area_code_415</td>\n",
              "      <td>no</td>\n",
              "      <td>yes</td>\n",
              "      <td>25</td>\n",
              "      <td>265.1</td>\n",
              "      <td>110</td>\n",
              "      <td>45.07</td>\n",
              "      <td>197.4</td>\n",
              "      <td>99</td>\n",
              "      <td>16.78</td>\n",
              "      <td>244.7</td>\n",
              "      <td>91</td>\n",
              "      <td>11.01</td>\n",
              "      <td>10.0</td>\n",
              "      <td>3</td>\n",
              "      <td>2.70</td>\n",
              "      <td>1</td>\n",
              "    </tr>\n",
              "    <tr>\n",
              "      <th>1</th>\n",
              "      <td>2</td>\n",
              "      <td>AL</td>\n",
              "      <td>118</td>\n",
              "      <td>area_code_510</td>\n",
              "      <td>yes</td>\n",
              "      <td>no</td>\n",
              "      <td>0</td>\n",
              "      <td>223.4</td>\n",
              "      <td>98</td>\n",
              "      <td>37.98</td>\n",
              "      <td>220.6</td>\n",
              "      <td>101</td>\n",
              "      <td>18.75</td>\n",
              "      <td>203.9</td>\n",
              "      <td>118</td>\n",
              "      <td>9.18</td>\n",
              "      <td>6.3</td>\n",
              "      <td>6</td>\n",
              "      <td>1.70</td>\n",
              "      <td>0</td>\n",
              "    </tr>\n",
              "    <tr>\n",
              "      <th>2</th>\n",
              "      <td>3</td>\n",
              "      <td>IA</td>\n",
              "      <td>62</td>\n",
              "      <td>area_code_415</td>\n",
              "      <td>no</td>\n",
              "      <td>no</td>\n",
              "      <td>0</td>\n",
              "      <td>120.7</td>\n",
              "      <td>70</td>\n",
              "      <td>20.52</td>\n",
              "      <td>307.2</td>\n",
              "      <td>76</td>\n",
              "      <td>26.11</td>\n",
              "      <td>203.0</td>\n",
              "      <td>99</td>\n",
              "      <td>9.14</td>\n",
              "      <td>13.1</td>\n",
              "      <td>6</td>\n",
              "      <td>3.54</td>\n",
              "      <td>4</td>\n",
              "    </tr>\n",
              "    <tr>\n",
              "      <th>3</th>\n",
              "      <td>4</td>\n",
              "      <td>VT</td>\n",
              "      <td>93</td>\n",
              "      <td>area_code_510</td>\n",
              "      <td>no</td>\n",
              "      <td>no</td>\n",
              "      <td>0</td>\n",
              "      <td>190.7</td>\n",
              "      <td>114</td>\n",
              "      <td>32.42</td>\n",
              "      <td>218.2</td>\n",
              "      <td>111</td>\n",
              "      <td>18.55</td>\n",
              "      <td>129.6</td>\n",
              "      <td>121</td>\n",
              "      <td>5.83</td>\n",
              "      <td>8.1</td>\n",
              "      <td>3</td>\n",
              "      <td>2.19</td>\n",
              "      <td>3</td>\n",
              "    </tr>\n",
              "    <tr>\n",
              "      <th>4</th>\n",
              "      <td>5</td>\n",
              "      <td>NE</td>\n",
              "      <td>174</td>\n",
              "      <td>area_code_415</td>\n",
              "      <td>no</td>\n",
              "      <td>no</td>\n",
              "      <td>0</td>\n",
              "      <td>124.3</td>\n",
              "      <td>76</td>\n",
              "      <td>21.13</td>\n",
              "      <td>277.1</td>\n",
              "      <td>112</td>\n",
              "      <td>23.55</td>\n",
              "      <td>250.7</td>\n",
              "      <td>115</td>\n",
              "      <td>11.28</td>\n",
              "      <td>15.5</td>\n",
              "      <td>5</td>\n",
              "      <td>4.19</td>\n",
              "      <td>3</td>\n",
              "    </tr>\n",
              "  </tbody>\n",
              "</table>\n",
              "</div>\n",
              "      <button class=\"colab-df-convert\" onclick=\"convertToInteractive('df-3cfa2403-4798-4389-bd48-81eb9926788a')\"\n",
              "              title=\"Convert this dataframe to an interactive table.\"\n",
              "              style=\"display:none;\">\n",
              "        \n",
              "  <svg xmlns=\"http://www.w3.org/2000/svg\" height=\"24px\"viewBox=\"0 0 24 24\"\n",
              "       width=\"24px\">\n",
              "    <path d=\"M0 0h24v24H0V0z\" fill=\"none\"/>\n",
              "    <path d=\"M18.56 5.44l.94 2.06.94-2.06 2.06-.94-2.06-.94-.94-2.06-.94 2.06-2.06.94zm-11 1L8.5 8.5l.94-2.06 2.06-.94-2.06-.94L8.5 2.5l-.94 2.06-2.06.94zm10 10l.94 2.06.94-2.06 2.06-.94-2.06-.94-.94-2.06-.94 2.06-2.06.94z\"/><path d=\"M17.41 7.96l-1.37-1.37c-.4-.4-.92-.59-1.43-.59-.52 0-1.04.2-1.43.59L10.3 9.45l-7.72 7.72c-.78.78-.78 2.05 0 2.83L4 21.41c.39.39.9.59 1.41.59.51 0 1.02-.2 1.41-.59l7.78-7.78 2.81-2.81c.8-.78.8-2.07 0-2.86zM5.41 20L4 18.59l7.72-7.72 1.47 1.35L5.41 20z\"/>\n",
              "  </svg>\n",
              "      </button>\n",
              "      \n",
              "  <style>\n",
              "    .colab-df-container {\n",
              "      display:flex;\n",
              "      flex-wrap:wrap;\n",
              "      gap: 12px;\n",
              "    }\n",
              "\n",
              "    .colab-df-convert {\n",
              "      background-color: #E8F0FE;\n",
              "      border: none;\n",
              "      border-radius: 50%;\n",
              "      cursor: pointer;\n",
              "      display: none;\n",
              "      fill: #1967D2;\n",
              "      height: 32px;\n",
              "      padding: 0 0 0 0;\n",
              "      width: 32px;\n",
              "    }\n",
              "\n",
              "    .colab-df-convert:hover {\n",
              "      background-color: #E2EBFA;\n",
              "      box-shadow: 0px 1px 2px rgba(60, 64, 67, 0.3), 0px 1px 3px 1px rgba(60, 64, 67, 0.15);\n",
              "      fill: #174EA6;\n",
              "    }\n",
              "\n",
              "    [theme=dark] .colab-df-convert {\n",
              "      background-color: #3B4455;\n",
              "      fill: #D2E3FC;\n",
              "    }\n",
              "\n",
              "    [theme=dark] .colab-df-convert:hover {\n",
              "      background-color: #434B5C;\n",
              "      box-shadow: 0px 1px 3px 1px rgba(0, 0, 0, 0.15);\n",
              "      filter: drop-shadow(0px 1px 2px rgba(0, 0, 0, 0.3));\n",
              "      fill: #FFFFFF;\n",
              "    }\n",
              "  </style>\n",
              "\n",
              "      <script>\n",
              "        const buttonEl =\n",
              "          document.querySelector('#df-3cfa2403-4798-4389-bd48-81eb9926788a button.colab-df-convert');\n",
              "        buttonEl.style.display =\n",
              "          google.colab.kernel.accessAllowed ? 'block' : 'none';\n",
              "\n",
              "        async function convertToInteractive(key) {\n",
              "          const element = document.querySelector('#df-3cfa2403-4798-4389-bd48-81eb9926788a');\n",
              "          const dataTable =\n",
              "            await google.colab.kernel.invokeFunction('convertToInteractive',\n",
              "                                                     [key], {});\n",
              "          if (!dataTable) return;\n",
              "\n",
              "          const docLinkHtml = 'Like what you see? Visit the ' +\n",
              "            '<a target=\"_blank\" href=https://colab.research.google.com/notebooks/data_table.ipynb>data table notebook</a>'\n",
              "            + ' to learn more about interactive tables.';\n",
              "          element.innerHTML = '';\n",
              "          dataTable['output_type'] = 'display_data';\n",
              "          await google.colab.output.renderOutput(dataTable, element);\n",
              "          const docLink = document.createElement('div');\n",
              "          docLink.innerHTML = docLinkHtml;\n",
              "          element.appendChild(docLink);\n",
              "        }\n",
              "      </script>\n",
              "    </div>\n",
              "  </div>\n",
              "  "
            ]
          },
          "metadata": {},
          "execution_count": 13
        }
      ]
    },
    {
      "cell_type": "markdown",
      "source": [
        "### As seen above, our test data doesn't contain the churn column\n",
        "\n",
        "> Instead, the churn column has been saved in another file called 'churn.csv' (we'll use it later)\n",
        "\n",
        "### For now, let's preprocess our testing data as we did for the training data\n"
      ],
      "metadata": {
        "id": "1czDi7QUK5l3"
      }
    },
    {
      "cell_type": "code",
      "source": [
        "test_data['international_plan'] = test_data['international_plan'].map({'yes':True, 'no':False}).astype(bool)\n",
        "test_data['voice_mail_plan'] = test_data['voice_mail_plan'].map({'yes':True, 'no':False}).astype(bool)"
      ],
      "metadata": {
        "id": "9PTw49IKK2h-"
      },
      "execution_count": 14,
      "outputs": []
    },
    {
      "cell_type": "markdown",
      "source": [
        "Let's check if that worked"
      ],
      "metadata": {
        "id": "IHTQGIFiOarX"
      }
    },
    {
      "cell_type": "code",
      "source": [
        "test_data['international_plan'].value_counts()"
      ],
      "metadata": {
        "id": "jMxNvIXiOXmb",
        "colab": {
          "base_uri": "https://localhost:8080/"
        },
        "outputId": "506605fe-5d1d-4f38-a093-8189010c43d7"
      },
      "execution_count": 15,
      "outputs": [
        {
          "output_type": "execute_result",
          "data": {
            "text/plain": [
              "False    673\n",
              "True      77\n",
              "Name: international_plan, dtype: int64"
            ]
          },
          "metadata": {},
          "execution_count": 15
        }
      ]
    },
    {
      "cell_type": "markdown",
      "source": [
        "### Great! It worked. Let's move on\n",
        "\n",
        "First, we'll create the total calls, total minutes, and total charges columns for our testing data\n",
        "\n",
        "Then, we'll select our testing features (the same columns as training features)"
      ],
      "metadata": {
        "id": "xTp4QqtzMs5_"
      }
    },
    {
      "cell_type": "code",
      "source": [
        "test_data['total_calls'] = test_data['total_day_calls'] + test_data['total_eve_calls'] + test_data['total_night_calls']\n",
        "test_data['total_minutes'] = test_data['total_day_minutes'] + test_data['total_eve_minutes'] + test_data['total_night_minutes']\n",
        "test_data['total_charges'] = test_data['total_day_charge'] + test_data['total_eve_charge'] + test_data['total_night_charge']"
      ],
      "metadata": {
        "id": "pauWwuTkIJDh"
      },
      "execution_count": 16,
      "outputs": []
    },
    {
      "cell_type": "code",
      "source": [
        "features = ['international_plan', 'voice_mail_plan', 'account_length', 'total_intl_minutes', 'total_calls', 'total_minutes', 'total_charges', 'total_intl_calls', 'total_intl_charge', 'total_day_minutes','total_day_calls', 'total_eve_minutes', 'total_eve_calls', 'total_night_minutes', 'total_night_calls']\n",
        "test_X = test_data[features]\n",
        "test_X.head()"
      ],
      "metadata": {
        "id": "LP5M-QTVM10u",
        "colab": {
          "base_uri": "https://localhost:8080/",
          "height": 270
        },
        "outputId": "4e85d2c9-db32-4571-b826-ee56bf78964e"
      },
      "execution_count": 17,
      "outputs": [
        {
          "output_type": "execute_result",
          "data": {
            "text/plain": [
              "   international_plan  voice_mail_plan  account_length  total_intl_minutes  \\\n",
              "0               False             True             128                10.0   \n",
              "1                True            False             118                 6.3   \n",
              "2               False            False              62                13.1   \n",
              "3               False            False              93                 8.1   \n",
              "4               False            False             174                15.5   \n",
              "\n",
              "   total_calls  total_minutes  total_charges  total_intl_calls  \\\n",
              "0          300          707.2          72.86                 3   \n",
              "1          317          647.9          65.91                 6   \n",
              "2          245          630.9          55.77                 6   \n",
              "3          346          538.5          56.80                 3   \n",
              "4          303          652.1          55.96                 5   \n",
              "\n",
              "   total_intl_charge  total_day_minutes  total_day_calls  total_eve_minutes  \\\n",
              "0               2.70              265.1              110              197.4   \n",
              "1               1.70              223.4               98              220.6   \n",
              "2               3.54              120.7               70              307.2   \n",
              "3               2.19              190.7              114              218.2   \n",
              "4               4.19              124.3               76              277.1   \n",
              "\n",
              "   total_eve_calls  total_night_minutes  total_night_calls  \n",
              "0               99                244.7                 91  \n",
              "1              101                203.9                118  \n",
              "2               76                203.0                 99  \n",
              "3              111                129.6                121  \n",
              "4              112                250.7                115  "
            ],
            "text/html": [
              "\n",
              "  <div id=\"df-c6e8118b-1cdd-4c5e-b417-d89575fc15be\">\n",
              "    <div class=\"colab-df-container\">\n",
              "      <div>\n",
              "<style scoped>\n",
              "    .dataframe tbody tr th:only-of-type {\n",
              "        vertical-align: middle;\n",
              "    }\n",
              "\n",
              "    .dataframe tbody tr th {\n",
              "        vertical-align: top;\n",
              "    }\n",
              "\n",
              "    .dataframe thead th {\n",
              "        text-align: right;\n",
              "    }\n",
              "</style>\n",
              "<table border=\"1\" class=\"dataframe\">\n",
              "  <thead>\n",
              "    <tr style=\"text-align: right;\">\n",
              "      <th></th>\n",
              "      <th>international_plan</th>\n",
              "      <th>voice_mail_plan</th>\n",
              "      <th>account_length</th>\n",
              "      <th>total_intl_minutes</th>\n",
              "      <th>total_calls</th>\n",
              "      <th>total_minutes</th>\n",
              "      <th>total_charges</th>\n",
              "      <th>total_intl_calls</th>\n",
              "      <th>total_intl_charge</th>\n",
              "      <th>total_day_minutes</th>\n",
              "      <th>total_day_calls</th>\n",
              "      <th>total_eve_minutes</th>\n",
              "      <th>total_eve_calls</th>\n",
              "      <th>total_night_minutes</th>\n",
              "      <th>total_night_calls</th>\n",
              "    </tr>\n",
              "  </thead>\n",
              "  <tbody>\n",
              "    <tr>\n",
              "      <th>0</th>\n",
              "      <td>False</td>\n",
              "      <td>True</td>\n",
              "      <td>128</td>\n",
              "      <td>10.0</td>\n",
              "      <td>300</td>\n",
              "      <td>707.2</td>\n",
              "      <td>72.86</td>\n",
              "      <td>3</td>\n",
              "      <td>2.70</td>\n",
              "      <td>265.1</td>\n",
              "      <td>110</td>\n",
              "      <td>197.4</td>\n",
              "      <td>99</td>\n",
              "      <td>244.7</td>\n",
              "      <td>91</td>\n",
              "    </tr>\n",
              "    <tr>\n",
              "      <th>1</th>\n",
              "      <td>True</td>\n",
              "      <td>False</td>\n",
              "      <td>118</td>\n",
              "      <td>6.3</td>\n",
              "      <td>317</td>\n",
              "      <td>647.9</td>\n",
              "      <td>65.91</td>\n",
              "      <td>6</td>\n",
              "      <td>1.70</td>\n",
              "      <td>223.4</td>\n",
              "      <td>98</td>\n",
              "      <td>220.6</td>\n",
              "      <td>101</td>\n",
              "      <td>203.9</td>\n",
              "      <td>118</td>\n",
              "    </tr>\n",
              "    <tr>\n",
              "      <th>2</th>\n",
              "      <td>False</td>\n",
              "      <td>False</td>\n",
              "      <td>62</td>\n",
              "      <td>13.1</td>\n",
              "      <td>245</td>\n",
              "      <td>630.9</td>\n",
              "      <td>55.77</td>\n",
              "      <td>6</td>\n",
              "      <td>3.54</td>\n",
              "      <td>120.7</td>\n",
              "      <td>70</td>\n",
              "      <td>307.2</td>\n",
              "      <td>76</td>\n",
              "      <td>203.0</td>\n",
              "      <td>99</td>\n",
              "    </tr>\n",
              "    <tr>\n",
              "      <th>3</th>\n",
              "      <td>False</td>\n",
              "      <td>False</td>\n",
              "      <td>93</td>\n",
              "      <td>8.1</td>\n",
              "      <td>346</td>\n",
              "      <td>538.5</td>\n",
              "      <td>56.80</td>\n",
              "      <td>3</td>\n",
              "      <td>2.19</td>\n",
              "      <td>190.7</td>\n",
              "      <td>114</td>\n",
              "      <td>218.2</td>\n",
              "      <td>111</td>\n",
              "      <td>129.6</td>\n",
              "      <td>121</td>\n",
              "    </tr>\n",
              "    <tr>\n",
              "      <th>4</th>\n",
              "      <td>False</td>\n",
              "      <td>False</td>\n",
              "      <td>174</td>\n",
              "      <td>15.5</td>\n",
              "      <td>303</td>\n",
              "      <td>652.1</td>\n",
              "      <td>55.96</td>\n",
              "      <td>5</td>\n",
              "      <td>4.19</td>\n",
              "      <td>124.3</td>\n",
              "      <td>76</td>\n",
              "      <td>277.1</td>\n",
              "      <td>112</td>\n",
              "      <td>250.7</td>\n",
              "      <td>115</td>\n",
              "    </tr>\n",
              "  </tbody>\n",
              "</table>\n",
              "</div>\n",
              "      <button class=\"colab-df-convert\" onclick=\"convertToInteractive('df-c6e8118b-1cdd-4c5e-b417-d89575fc15be')\"\n",
              "              title=\"Convert this dataframe to an interactive table.\"\n",
              "              style=\"display:none;\">\n",
              "        \n",
              "  <svg xmlns=\"http://www.w3.org/2000/svg\" height=\"24px\"viewBox=\"0 0 24 24\"\n",
              "       width=\"24px\">\n",
              "    <path d=\"M0 0h24v24H0V0z\" fill=\"none\"/>\n",
              "    <path d=\"M18.56 5.44l.94 2.06.94-2.06 2.06-.94-2.06-.94-.94-2.06-.94 2.06-2.06.94zm-11 1L8.5 8.5l.94-2.06 2.06-.94-2.06-.94L8.5 2.5l-.94 2.06-2.06.94zm10 10l.94 2.06.94-2.06 2.06-.94-2.06-.94-.94-2.06-.94 2.06-2.06.94z\"/><path d=\"M17.41 7.96l-1.37-1.37c-.4-.4-.92-.59-1.43-.59-.52 0-1.04.2-1.43.59L10.3 9.45l-7.72 7.72c-.78.78-.78 2.05 0 2.83L4 21.41c.39.39.9.59 1.41.59.51 0 1.02-.2 1.41-.59l7.78-7.78 2.81-2.81c.8-.78.8-2.07 0-2.86zM5.41 20L4 18.59l7.72-7.72 1.47 1.35L5.41 20z\"/>\n",
              "  </svg>\n",
              "      </button>\n",
              "      \n",
              "  <style>\n",
              "    .colab-df-container {\n",
              "      display:flex;\n",
              "      flex-wrap:wrap;\n",
              "      gap: 12px;\n",
              "    }\n",
              "\n",
              "    .colab-df-convert {\n",
              "      background-color: #E8F0FE;\n",
              "      border: none;\n",
              "      border-radius: 50%;\n",
              "      cursor: pointer;\n",
              "      display: none;\n",
              "      fill: #1967D2;\n",
              "      height: 32px;\n",
              "      padding: 0 0 0 0;\n",
              "      width: 32px;\n",
              "    }\n",
              "\n",
              "    .colab-df-convert:hover {\n",
              "      background-color: #E2EBFA;\n",
              "      box-shadow: 0px 1px 2px rgba(60, 64, 67, 0.3), 0px 1px 3px 1px rgba(60, 64, 67, 0.15);\n",
              "      fill: #174EA6;\n",
              "    }\n",
              "\n",
              "    [theme=dark] .colab-df-convert {\n",
              "      background-color: #3B4455;\n",
              "      fill: #D2E3FC;\n",
              "    }\n",
              "\n",
              "    [theme=dark] .colab-df-convert:hover {\n",
              "      background-color: #434B5C;\n",
              "      box-shadow: 0px 1px 3px 1px rgba(0, 0, 0, 0.15);\n",
              "      filter: drop-shadow(0px 1px 2px rgba(0, 0, 0, 0.3));\n",
              "      fill: #FFFFFF;\n",
              "    }\n",
              "  </style>\n",
              "\n",
              "      <script>\n",
              "        const buttonEl =\n",
              "          document.querySelector('#df-c6e8118b-1cdd-4c5e-b417-d89575fc15be button.colab-df-convert');\n",
              "        buttonEl.style.display =\n",
              "          google.colab.kernel.accessAllowed ? 'block' : 'none';\n",
              "\n",
              "        async function convertToInteractive(key) {\n",
              "          const element = document.querySelector('#df-c6e8118b-1cdd-4c5e-b417-d89575fc15be');\n",
              "          const dataTable =\n",
              "            await google.colab.kernel.invokeFunction('convertToInteractive',\n",
              "                                                     [key], {});\n",
              "          if (!dataTable) return;\n",
              "\n",
              "          const docLinkHtml = 'Like what you see? Visit the ' +\n",
              "            '<a target=\"_blank\" href=https://colab.research.google.com/notebooks/data_table.ipynb>data table notebook</a>'\n",
              "            + ' to learn more about interactive tables.';\n",
              "          element.innerHTML = '';\n",
              "          dataTable['output_type'] = 'display_data';\n",
              "          await google.colab.output.renderOutput(dataTable, element);\n",
              "          const docLink = document.createElement('div');\n",
              "          docLink.innerHTML = docLinkHtml;\n",
              "          element.appendChild(docLink);\n",
              "        }\n",
              "      </script>\n",
              "    </div>\n",
              "  </div>\n",
              "  "
            ]
          },
          "metadata": {},
          "execution_count": 17
        }
      ]
    },
    {
      "cell_type": "markdown",
      "source": [
        "### Ooouuu, everything looks READY TO GO\n",
        "What are we waiting for? Let's get predicting!"
      ],
      "metadata": {
        "id": "oCE3Ck0cQ8LU"
      }
    },
    {
      "cell_type": "code",
      "source": [
        "pred = churn_model.predict(test_X)\n",
        "pred"
      ],
      "metadata": {
        "id": "xnyCJfpeNlG0",
        "colab": {
          "base_uri": "https://localhost:8080/"
        },
        "outputId": "bb8abdae-67e3-4643-a371-cbc85b8dbf64"
      },
      "execution_count": 18,
      "outputs": [
        {
          "output_type": "execute_result",
          "data": {
            "text/plain": [
              "array([False, False, False, False, False, False, False, False, False,\n",
              "       False, False, False, False, False, False, False, False, False,\n",
              "       False, False, False, False, False, False, False, False, False,\n",
              "       False, False, False, False, False, False, False, False, False,\n",
              "       False,  True, False,  True, False, False, False,  True, False,\n",
              "       False, False, False, False, False, False, False,  True, False,\n",
              "        True, False,  True, False, False, False, False, False,  True,\n",
              "       False, False, False, False, False,  True, False, False, False,\n",
              "        True, False, False, False, False, False, False, False, False,\n",
              "       False, False, False, False, False, False, False, False, False,\n",
              "       False, False, False, False, False, False, False, False, False,\n",
              "        True, False, False, False, False,  True, False, False, False,\n",
              "        True, False, False, False, False, False, False, False, False,\n",
              "       False, False, False, False, False, False, False, False, False,\n",
              "       False, False, False, False, False, False, False, False, False,\n",
              "       False, False, False, False, False,  True, False, False, False,\n",
              "       False, False, False, False, False,  True, False, False, False,\n",
              "       False, False, False, False, False, False, False, False,  True,\n",
              "       False, False, False, False, False, False, False, False, False,\n",
              "       False, False, False, False, False, False, False, False, False,\n",
              "       False, False, False, False, False, False, False, False, False,\n",
              "       False, False, False, False, False, False, False,  True, False,\n",
              "       False, False, False, False,  True, False, False, False, False,\n",
              "       False, False, False, False, False, False, False, False, False,\n",
              "       False, False, False,  True, False, False, False, False, False,\n",
              "       False, False,  True, False, False, False, False, False, False,\n",
              "       False, False, False, False, False, False,  True, False, False,\n",
              "       False, False, False, False, False, False, False,  True, False,\n",
              "       False,  True, False, False, False, False, False, False, False,\n",
              "       False, False, False, False, False, False, False, False, False,\n",
              "       False, False, False, False, False,  True, False, False, False,\n",
              "       False, False, False, False, False, False, False, False, False,\n",
              "       False, False, False,  True, False, False, False, False, False,\n",
              "       False, False, False, False, False, False, False, False, False,\n",
              "       False, False, False, False, False, False, False, False, False,\n",
              "       False, False, False,  True, False, False, False, False,  True,\n",
              "       False, False, False, False, False, False, False,  True, False,\n",
              "       False, False, False, False, False, False, False, False, False,\n",
              "       False, False, False, False, False, False, False, False, False,\n",
              "       False, False, False, False, False, False,  True, False, False,\n",
              "        True,  True,  True, False, False,  True, False,  True, False,\n",
              "       False,  True, False, False, False, False, False, False, False,\n",
              "       False, False, False, False, False, False, False, False, False,\n",
              "       False, False, False, False, False, False, False,  True, False,\n",
              "       False,  True, False, False, False, False, False, False,  True,\n",
              "       False, False, False, False,  True, False, False,  True, False,\n",
              "       False, False,  True,  True, False, False, False, False, False,\n",
              "       False, False, False,  True, False, False, False,  True, False,\n",
              "       False, False, False, False, False, False, False, False, False,\n",
              "       False, False, False, False, False, False, False, False, False,\n",
              "       False, False, False, False, False, False, False, False, False,\n",
              "       False, False, False, False, False, False, False, False, False,\n",
              "       False, False, False, False, False, False, False, False, False,\n",
              "       False, False, False, False, False,  True, False, False, False,\n",
              "       False, False, False,  True, False, False, False, False,  True,\n",
              "       False, False, False, False, False, False, False, False, False,\n",
              "       False, False, False, False, False, False, False, False, False,\n",
              "       False, False, False, False, False, False, False, False, False,\n",
              "       False, False, False, False,  True, False, False, False, False,\n",
              "       False, False, False, False,  True, False, False, False, False,\n",
              "       False, False, False, False, False, False, False, False, False,\n",
              "       False, False, False, False, False, False, False, False, False,\n",
              "       False, False, False, False, False, False,  True, False, False,\n",
              "       False, False, False, False, False, False, False,  True,  True,\n",
              "       False, False, False, False, False, False, False, False, False,\n",
              "       False, False, False, False, False, False, False, False, False,\n",
              "       False, False, False, False, False, False, False, False, False,\n",
              "       False, False, False, False, False, False, False, False,  True,\n",
              "       False, False, False, False, False, False, False, False, False,\n",
              "       False, False, False, False, False, False, False, False, False,\n",
              "       False, False, False, False, False,  True, False,  True, False,\n",
              "       False, False, False, False, False, False,  True, False, False,\n",
              "        True, False,  True, False, False, False, False, False, False,\n",
              "        True, False, False, False, False,  True, False, False, False,\n",
              "       False, False, False, False, False, False, False, False, False,\n",
              "       False, False, False, False, False, False, False,  True, False,\n",
              "        True, False, False, False, False, False, False,  True, False,\n",
              "       False, False, False, False, False,  True, False, False, False,\n",
              "       False, False, False, False, False,  True, False, False, False,\n",
              "       False, False, False, False, False, False, False, False,  True,\n",
              "       False, False, False, False, False, False,  True, False, False,\n",
              "       False, False, False, False, False, False, False,  True, False,\n",
              "        True, False, False, False, False, False, False, False, False,\n",
              "       False, False, False])"
            ]
          },
          "metadata": {},
          "execution_count": 18
        }
      ]
    },
    {
      "cell_type": "markdown",
      "source": [
        "###YEAH, That's what I'm talking about!\n",
        "\n",
        "Now, let's see how good this model is, shall we?"
      ],
      "metadata": {
        "id": "9m8vK00mZsGH"
      }
    },
    {
      "cell_type": "markdown",
      "source": [
        "### Model Evaluation Time!"
      ],
      "metadata": {
        "id": "VX5Jra5EM0_5"
      }
    },
    {
      "cell_type": "markdown",
      "source": [
        "Hey, do you remember the churn.csv file I mentioned earlier?\n",
        "\n",
        "Yeah, we're using that now!\n",
        "\n",
        "Churn.csv contains the actual churn column for the test data.\n",
        "\n",
        "So we're going to compare it with our predicted churn values to see how accurate our model was"
      ],
      "metadata": {
        "id": "nnPynUbQZ0ib"
      }
    },
    {
      "cell_type": "code",
      "source": [
        "test_y = pd.read_csv('churn.csv', index_col = 'id')\n",
        "test_y.head()"
      ],
      "metadata": {
        "id": "LsseegtMPRWb",
        "colab": {
          "base_uri": "https://localhost:8080/",
          "height": 238
        },
        "outputId": "7a155a8a-9c8b-4117-982f-491d2554267e"
      },
      "execution_count": 19,
      "outputs": [
        {
          "output_type": "execute_result",
          "data": {
            "text/plain": [
              "   churn\n",
              "id      \n",
              "1    yes\n",
              "2     no\n",
              "3     no\n",
              "4    yes\n",
              "5    yes"
            ],
            "text/html": [
              "\n",
              "  <div id=\"df-97529674-8d96-401a-a544-9cff4684043e\">\n",
              "    <div class=\"colab-df-container\">\n",
              "      <div>\n",
              "<style scoped>\n",
              "    .dataframe tbody tr th:only-of-type {\n",
              "        vertical-align: middle;\n",
              "    }\n",
              "\n",
              "    .dataframe tbody tr th {\n",
              "        vertical-align: top;\n",
              "    }\n",
              "\n",
              "    .dataframe thead th {\n",
              "        text-align: right;\n",
              "    }\n",
              "</style>\n",
              "<table border=\"1\" class=\"dataframe\">\n",
              "  <thead>\n",
              "    <tr style=\"text-align: right;\">\n",
              "      <th></th>\n",
              "      <th>churn</th>\n",
              "    </tr>\n",
              "    <tr>\n",
              "      <th>id</th>\n",
              "      <th></th>\n",
              "    </tr>\n",
              "  </thead>\n",
              "  <tbody>\n",
              "    <tr>\n",
              "      <th>1</th>\n",
              "      <td>yes</td>\n",
              "    </tr>\n",
              "    <tr>\n",
              "      <th>2</th>\n",
              "      <td>no</td>\n",
              "    </tr>\n",
              "    <tr>\n",
              "      <th>3</th>\n",
              "      <td>no</td>\n",
              "    </tr>\n",
              "    <tr>\n",
              "      <th>4</th>\n",
              "      <td>yes</td>\n",
              "    </tr>\n",
              "    <tr>\n",
              "      <th>5</th>\n",
              "      <td>yes</td>\n",
              "    </tr>\n",
              "  </tbody>\n",
              "</table>\n",
              "</div>\n",
              "      <button class=\"colab-df-convert\" onclick=\"convertToInteractive('df-97529674-8d96-401a-a544-9cff4684043e')\"\n",
              "              title=\"Convert this dataframe to an interactive table.\"\n",
              "              style=\"display:none;\">\n",
              "        \n",
              "  <svg xmlns=\"http://www.w3.org/2000/svg\" height=\"24px\"viewBox=\"0 0 24 24\"\n",
              "       width=\"24px\">\n",
              "    <path d=\"M0 0h24v24H0V0z\" fill=\"none\"/>\n",
              "    <path d=\"M18.56 5.44l.94 2.06.94-2.06 2.06-.94-2.06-.94-.94-2.06-.94 2.06-2.06.94zm-11 1L8.5 8.5l.94-2.06 2.06-.94-2.06-.94L8.5 2.5l-.94 2.06-2.06.94zm10 10l.94 2.06.94-2.06 2.06-.94-2.06-.94-.94-2.06-.94 2.06-2.06.94z\"/><path d=\"M17.41 7.96l-1.37-1.37c-.4-.4-.92-.59-1.43-.59-.52 0-1.04.2-1.43.59L10.3 9.45l-7.72 7.72c-.78.78-.78 2.05 0 2.83L4 21.41c.39.39.9.59 1.41.59.51 0 1.02-.2 1.41-.59l7.78-7.78 2.81-2.81c.8-.78.8-2.07 0-2.86zM5.41 20L4 18.59l7.72-7.72 1.47 1.35L5.41 20z\"/>\n",
              "  </svg>\n",
              "      </button>\n",
              "      \n",
              "  <style>\n",
              "    .colab-df-container {\n",
              "      display:flex;\n",
              "      flex-wrap:wrap;\n",
              "      gap: 12px;\n",
              "    }\n",
              "\n",
              "    .colab-df-convert {\n",
              "      background-color: #E8F0FE;\n",
              "      border: none;\n",
              "      border-radius: 50%;\n",
              "      cursor: pointer;\n",
              "      display: none;\n",
              "      fill: #1967D2;\n",
              "      height: 32px;\n",
              "      padding: 0 0 0 0;\n",
              "      width: 32px;\n",
              "    }\n",
              "\n",
              "    .colab-df-convert:hover {\n",
              "      background-color: #E2EBFA;\n",
              "      box-shadow: 0px 1px 2px rgba(60, 64, 67, 0.3), 0px 1px 3px 1px rgba(60, 64, 67, 0.15);\n",
              "      fill: #174EA6;\n",
              "    }\n",
              "\n",
              "    [theme=dark] .colab-df-convert {\n",
              "      background-color: #3B4455;\n",
              "      fill: #D2E3FC;\n",
              "    }\n",
              "\n",
              "    [theme=dark] .colab-df-convert:hover {\n",
              "      background-color: #434B5C;\n",
              "      box-shadow: 0px 1px 3px 1px rgba(0, 0, 0, 0.15);\n",
              "      filter: drop-shadow(0px 1px 2px rgba(0, 0, 0, 0.3));\n",
              "      fill: #FFFFFF;\n",
              "    }\n",
              "  </style>\n",
              "\n",
              "      <script>\n",
              "        const buttonEl =\n",
              "          document.querySelector('#df-97529674-8d96-401a-a544-9cff4684043e button.colab-df-convert');\n",
              "        buttonEl.style.display =\n",
              "          google.colab.kernel.accessAllowed ? 'block' : 'none';\n",
              "\n",
              "        async function convertToInteractive(key) {\n",
              "          const element = document.querySelector('#df-97529674-8d96-401a-a544-9cff4684043e');\n",
              "          const dataTable =\n",
              "            await google.colab.kernel.invokeFunction('convertToInteractive',\n",
              "                                                     [key], {});\n",
              "          if (!dataTable) return;\n",
              "\n",
              "          const docLinkHtml = 'Like what you see? Visit the ' +\n",
              "            '<a target=\"_blank\" href=https://colab.research.google.com/notebooks/data_table.ipynb>data table notebook</a>'\n",
              "            + ' to learn more about interactive tables.';\n",
              "          element.innerHTML = '';\n",
              "          dataTable['output_type'] = 'display_data';\n",
              "          await google.colab.output.renderOutput(dataTable, element);\n",
              "          const docLink = document.createElement('div');\n",
              "          docLink.innerHTML = docLinkHtml;\n",
              "          element.appendChild(docLink);\n",
              "        }\n",
              "      </script>\n",
              "    </div>\n",
              "  </div>\n",
              "  "
            ]
          },
          "metadata": {},
          "execution_count": 19
        }
      ]
    },
    {
      "cell_type": "markdown",
      "source": [
        "####Our data is in an invalid state.\n",
        "- We only need the churn column so we converted the id column to the index as done above\n",
        "\n",
        "Secondly,\n",
        "- We need the churn column to be in boolean form\n"
      ],
      "metadata": {
        "id": "EL3EQN_2aNHJ"
      }
    },
    {
      "cell_type": "markdown",
      "source": [
        "So just as we did for the training data, we'd transform our testing data to boolean using map function"
      ],
      "metadata": {
        "id": "OYKXsW7LbRUn"
      }
    },
    {
      "cell_type": "code",
      "source": [
        "test_y['churn'] = test_y['churn'].map({'yes':True, 'no':False}).astype(bool)\n",
        "test_y = test_y.churn\n",
        "test_y.head()"
      ],
      "metadata": {
        "id": "nsOvKiMiZ_uJ",
        "colab": {
          "base_uri": "https://localhost:8080/"
        },
        "outputId": "5081e301-dd3d-4851-db14-be7db6540108"
      },
      "execution_count": 20,
      "outputs": [
        {
          "output_type": "execute_result",
          "data": {
            "text/plain": [
              "id\n",
              "1     True\n",
              "2    False\n",
              "3    False\n",
              "4     True\n",
              "5     True\n",
              "Name: churn, dtype: bool"
            ]
          },
          "metadata": {},
          "execution_count": 20
        }
      ]
    },
    {
      "cell_type": "markdown",
      "source": [
        "###Looks good!\n",
        "\n",
        "Now, let's cut right into it (evaluate our model)"
      ],
      "metadata": {
        "id": "7QdOYEKjcFvU"
      }
    },
    {
      "cell_type": "markdown",
      "source": [
        "### We'll be using a few evaluation functions to determine if our model is a good one or not\n",
        "\n",
        "I'll briefly explain what each of the evaluation metric we'll be using does before we get to the code:\n",
        "\n",
        "- Accuracy: tells us how often our Rmodel is correct\n",
        "- Precision: tells us how many of the positive predictions are actually correct\n",
        "- Recall: tells us how many of the actual true values were correctly predicted.\n",
        "- F1 Score: balances precision and recall\n",
        "- Confusion Matrix: breakdown of the model's predictions into four categories\n",
        "\n",
        "\n",
        "[[true negative, false positive],\n",
        "\n",
        "[false negative, and true positive]]"
      ],
      "metadata": {
        "id": "COGNjPcKdtq1"
      }
    },
    {
      "cell_type": "code",
      "source": [
        "eval_metrics = {\n",
        "    'Accuracy': accuracy_score(test_y, pred),\n",
        "    'Precision': precision_score(test_y, pred),\n",
        "    'Recall': recall_score(test_y, pred),\n",
        "    'F1-score': f1_score(test_y, pred),\n",
        "    'Confusion Matrix': confusion_matrix(test_y, pred)\n",
        "}"
      ],
      "metadata": {
        "id": "TEWwDJFDhnQg"
      },
      "execution_count": 21,
      "outputs": []
    },
    {
      "cell_type": "markdown",
      "source": [
        "Let's run this dictionary through a for loop to see our validation figures"
      ],
      "metadata": {
        "id": "P-lbEOs_hutR"
      }
    },
    {
      "cell_type": "code",
      "source": [
        "for metric_name, metric_value in eval_metrics.items():\n",
        "    print(metric_name, \":\", metric_value)"
      ],
      "metadata": {
        "id": "9QaV7lNOht9e",
        "colab": {
          "base_uri": "https://localhost:8080/"
        },
        "outputId": "bc6a71ac-62fc-42c0-a72e-c83633c79747"
      },
      "execution_count": 22,
      "outputs": [
        {
          "output_type": "stream",
          "name": "stdout",
          "text": [
            "Accuracy : 0.5933333333333334\n",
            "Precision : 0.36764705882352944\n",
            "Recall : 0.08710801393728224\n",
            "F1-score : 0.14084507042253522\n",
            "Confusion Matrix : [[420  43]\n",
            " [262  25]]\n"
          ]
        }
      ]
    },
    {
      "cell_type": "markdown",
      "source": [
        "#FEATURE ENGINEERING DOCUMENTATION\n",
        "\n",
        "###Model 1\n",
        "- All usable columns\n",
        "> Result:\n",
        "    - Accuracy : 0.5813333333333334\n",
        "    - Precision : 0.35789473684210527\n",
        "    - Recall : 0.11846689895470383\n",
        "    - F1-score : 0.17801047120418848\n",
        "    - Confusion Matrix :\n",
        "    \n",
        "        [[402  61]\n",
        "    \n",
        "        [253  34]]\n",
        "-\n",
        "###Model 2\n",
        "- All usable columns except ['account_length']\n",
        "> Result: Slightly better\n",
        "    - Accuracy : 0.584\n",
        "    - Precision : 0.3655913978494624\n",
        "    - Recall : 0.11846689895470383\n",
        "    - F1-score : 0.17894736842105263\n",
        "    - Confusion Matrix :\n",
        "            [[404  59]\n",
        "            [253  34]]\n",
        "###Model 3\n",
        "- All usable columns except ['total_day_charge', 'total_eve_charge', 'total_night_charge','total_intl_charge','account_length']\n",
        "> Result: Slightly better\n",
        "    - Accuracy : 0.5866666666666667\n",
        "    - Precision : 0.3707865168539326\n",
        "    - Recall : 0.11498257839721254\n",
        "    - F1-score : 0.17553191489361702\n",
        "    - Confusion Matrix :\n",
        "            [[407  56]\n",
        "            [254  33]]\n",
        "\n",
        "###Model 4\n",
        "- Colmuns: ['international_plan', 'voice_mail_plan', 'total_intl_minutes', 'total_calls', 'total_minutes', 'total_charges', 'total_intl_calls', 'total_intl_charge' ]\n",
        "> Result: Slightly better\n",
        "    - Accuracy : 0.588\n",
        "    - Precision : 0.34285714285714286\n",
        "    - Recall : 0.08362369337979095\n",
        "    - F1-score : 0.13445378151260506\n",
        "    - Confusion Matrix :\n",
        "            [[417  46]\n",
        "            [263  24]]\n",
        "\n",
        "###Model 5\n",
        "- Columns: ['international_plan', 'voice_mail_plan', 'total_intl_minutes', 'total_calls', 'total_minutes', 'total_charges', 'total_intl_calls', 'total_intl_charge', 'total_day_minutes','total_day_calls', 'total_eve_minutes', 'total_eve_calls', 'total_night_minutes', 'total_night_calls']\n",
        "> Result: Slightly better\n",
        "    - Accuracy : 0.592\n",
        "    - Precision : 0.36231884057971014\n",
        "    - Recall: 0.08710801393728224\n",
        "    - F1-score : 0.1404494382022472\n",
        "    - Confusion Matrix :\n",
        "    \n",
        "            [[419  44]\n",
        "            [262  25]]\n",
        "\n",
        "###Model 6\n",
        "\n",
        "Columns: ['international_plan', 'voice_mail_plan', 'account_length', 'total_intl_minutes', 'total_calls', 'total_minutes', 'total_charges', 'total_intl_calls', 'total_intl_charge', 'total_day_minutes','total_day_calls', 'total_eve_minutes', 'total_eve_calls', 'total_night_minutes', 'total_night_calls']\n",
        "> Result: Tiny bit better\n",
        "    - Accuracy : 0.5933333333333334\n",
        "    - Precision : 0.36764705882352944\n",
        "    - Recall : 0.08710801393728224\n",
        "    - F1-score : 0.14084507042253522\n",
        "    - Confusion Matrix :\n",
        "    \n",
        "            [[420  43]\n",
        "            [262  25]]\n",
        "\n",
        "\n",
        "\n",
        "\n",
        "        \n",
        "\n",
        "\n"
      ],
      "metadata": {
        "id": "UyCzyVs-nLMZ"
      }
    },
    {
      "cell_type": "markdown",
      "source": [
        "# We'll go with model 6! Thanks for sticking around!"
      ],
      "metadata": {
        "id": "MsJRCWGDNjXL"
      }
    },
    {
      "cell_type": "markdown",
      "source": [
        "# VISUALS USING PLOTLY"
      ],
      "metadata": {
        "id": "o10w6fXPpwiK"
      }
    },
    {
      "cell_type": "markdown",
      "source": [
        "## Identifying some key factors responsible for churning using visuals"
      ],
      "metadata": {
        "id": "UfE6TQDOpnB3"
      }
    },
    {
      "cell_type": "code",
      "source": [
        "import plotly.express as px\n",
        "\n",
        "# Creating a 3D scatter plot using plotly express\n",
        "fig = px.scatter_3d(train_data, x='total_calls', y='total_minutes', z='total_charges', color='churn')\n",
        "\n",
        "fig.update_layout(\n",
        "    scene=dict(\n",
        "        xaxis=dict(title='Total Calls'),\n",
        "        yaxis=dict(title='Total Minutes'),\n",
        "        zaxis=dict(title='Total Charges'),\n",
        "    ),\n",
        "    width=800,\n",
        "    height=600,\n",
        "    autosize=True,\n",
        "    title='Churning rate based on total values'\n",
        ")\n",
        "\n",
        "fig.show()\n",
        "\n"
      ],
      "metadata": {
        "colab": {
          "base_uri": "https://localhost:8080/",
          "height": 617
        },
        "id": "bRqTaHVCTZ9T",
        "outputId": "a1c7139e-9dd8-4d08-ae9f-cc47f8a5ed49"
      },
      "execution_count": 23,
      "outputs": [
        {
          "output_type": "display_data",
          "data": {
            "text/html": [
              "<html>\n",
              "<head><meta charset=\"utf-8\" /></head>\n",
              "<body>\n",
              "    <div>            <script src=\"https://cdnjs.cloudflare.com/ajax/libs/mathjax/2.7.5/MathJax.js?config=TeX-AMS-MML_SVG\"></script><script type=\"text/javascript\">if (window.MathJax && window.MathJax.Hub && window.MathJax.Hub.Config) {window.MathJax.Hub.Config({SVG: {font: \"STIX-Web\"}});}</script>                <script type=\"text/javascript\">window.PlotlyConfig = {MathJaxConfig: 'local'};</script>\n",
              "        <script src=\"https://cdn.plot.ly/plotly-2.18.2.min.js\"></script>                <div id=\"d6ea32ca-2628-40c5-9359-690672de6765\" class=\"plotly-graph-div\" style=\"height:600px; width:800px;\"></div>            <script type=\"text/javascript\">                                    window.PLOTLYENV=window.PLOTLYENV || {};                                    if (document.getElementById(\"d6ea32ca-2628-40c5-9359-690672de6765\")) {                    Plotly.newPlot(                        \"d6ea32ca-2628-40c5-9359-690672de6765\",                        [{\"hovertemplate\":\"churn=False<br>total_calls=%{x}<br>total_minutes=%{y}<br>total_charges=%{z}<extra></extra>\",\"legendgroup\":\"False\",\"marker\":{\"color\":\"#636efa\",\"symbol\":\"circle\"},\"mode\":\"markers\",\"name\":\"False\",\"scene\":\"scene\",\"showlegend\":true,\"x\":[329,328,248,356,314,269,267,292,369,295,278,304,239,252,343,289,310,273,342,241,295,316,310,285,317,288,312,322,258,279,271,305,360,334,272,291,301,235,252,250,288,324,245,331,209,301,264,276,351,210,280,242,277,368,302,273,289,276,292,292,267,268,292,245,260,269,310,243,254,276,289,315,307,278,278,291,332,319,269,343,312,272,314,285,311,323,308,334,262,299,329,291,375,258,317,325,264,220,311,281,320,227,322,278,291,315,319,372,248,355,337,268,367,324,307,385,320,313,230,289,274,330,321,335,313,281,346,364,308,282,311,372,316,300,311,282,270,337,251,264,360,259,378,325,290,243,278,270,254,279,289,290,279,297,322,253,326,313,285,312,339,286,328,299,300,284,313,344,297,362,329,316,349,293,254,296,288,218,280,343,293,280,305,331,299,282,270,261,307,319,253,253,311,265,318,322,308,285,301,283,272,249,339,324,272,279,300,308,258,249,314,314,332,269,376,235,274,337,272,309,284,293,290,294,296,226,335,317,324,281,256,254,273,294,317,324,329,206,316,312,282,327,264,231,251,367,296,252,268,294,370,308,327,334,299,234,331,265,313,309,263,365,361,287,334,335,361,277,303,302,309,314,337,309,261,315,260,284,297,303,238,339,316,335,359,267,274,359,330,293,341,279,265,277,335,261,262,274,256,283,233,277,376,320,281,303,341,362,334,286,325,314,306,268,332,252,279,322,287,352,255,359,343,364,343,289,307,293,314,241,226,233,325,323,316,333,251,288,335,286,270,365,345,356,301,256,320,276,297,308,311,340,344,317,294,367,329,292,316,325,277,217,273,323,312,282,288,264,308,320,291,293,300,316,276,349,322,307,348,324,267,238,299,326,287,353,330,286,242,332,317,311,282,265,262,291,316,300,306,295,307,278,304,288,276,314,313,282,321,284,324,295,313,285,316,261,334,385,295,286,336,317,340,325,247,277,299,306,284,354,355,321,254,304,222,367,325,271,381,380,300,297,339,307,313,300,287,304,299,276,305,298,318,251,354,316,306,310,295,328,267,300,308,357,343,352,322,245,289,325,320,304,289,266,252,302,307,374,322,333,320,314,281,240,248,326,287,324,291,264,305,333,240,327,287,334,326,315,274,332,298,321,268,251,263,279,305,316,326,286,290,262,287,318,256,297,283,335,256,340,285,350,286,268,338,304,311,310,322,324,333,328,291,331,279,286,213,314,341,296,299,336,341,328,278,291,255,317,314,278,297,307,305,247,319,332,296,255,379,272,302,269,298,257,320,243,255,291,386,256,268,341,210,292,254,267,239,316,294,337,343,365,294,331,286,261,240,280,316,296,340,342,258,299,293,293,273,324,331,329,285,230,309,353,348,210,278,318,284,263,317,306,340,342,310,276,302,252,278,297,298,338,264,299,376,343,300,278,333,358,360,290,319,315,341,258,317,337,281,303,309,309,248,310,248,364,314,267,338,326,243,326,297,337,306,356,320,309,299,280,228,270,308,309,270,314,333,277,305,320,266,224,252,322,316,297,301,321,291,310,315,287,316,286,294,350,281,312,322,285,285,318,292,255,323,305,351,354,263,313,305,203,242,294,255,320,368,224,295,257,279,283,263,257,318,322,268,315,328,305,385,338,299,326,301,300,303,262,284,294,299,278,271,317,290,244,279,325,335,322,241,352,307,335,332,262,367,231,292,286,316,281,349,276,289,298,305,253,284,299,326,373,285,296,350,312,274,326,281,266,299,302,324,342,380,312,300,262,347,257,321,283,311,384,247,280,269,279,287,284,340,265,274,310,318,302,363,253,319,290,287,288,264,321,324,344,293,293,307,291,297,334,262,311,327,294,286,290,301,292,295,341,274,349,341,296,315,301,250,280,209,312,302,329,271,345,340,251,318,261,272,262,297,231,323,337,346,338,322,340,281,252,232,320,281,276,306,253,322,315,296,272,283,295,255,326,327,290,283,298,295,329,289,322,276,273,341,337,273,278,339,319,234,297,319,341,289,333,310,285,293,346,301,316,318,319,250,317,305,278,307,301,303,269,295,323,275,252,297,229,322,219,324,281,345,308,318,276,285,375,282,268,306,333,332,295,283,278,325,260,310,345,322,345,262,338,300,290,313,287,321,282,324,287,305,227,365,301,264,297,291,344,284,329,304,284,326,312,285,388,333,310,278,274,332,302,291,373,340,336,281,306,321,292,286,253,363,308,281,341,258,346,319,346,300,288,290,335,343,254,326,288,312,219,341,276,311,300,329,316,283,315,253,321,317,248,305,344,295,286,331,286,327,397,308,253,321,336,301,357,343,311,314,306,350,231,309,326,292,296,326,214,268,322,279,264,284,264,342,296,263,290,259,263,330,298,257,286,300,293,224,380,298,357,299,293,332,293,262,338,278,296,342,362,281,343,263,312,232,343,336,234,291,324,336,251,334,291,260,323,274,340,238,295,273,289,315,239,326,254,329,308,295,309,313,296,336,271,273,331,280,331,291,308,317,305,302,300,291,294,299,386,265,342,282,308,270,277,294,324,327,285,299,309,342,214,308,298,301,319,299,272,290,329,338,259,273,318,344,314,275,258,261,316,371,232,280,313,301,257,299,291,255,352,239,314,291,298,297,300,260,267,269,298,247,371,276,288,312,294,283,329,227,300,315,258,339,314,268,314,304,284,306,343,364,285,246,336,356,273,286,291,266,312,208,308,324,323,301,297,367,370,313,280,289,278,319,301,333,270,308,284,295,246,277,253,327,270,325,335,290,308,274,283,359,267,260,263,348,307,291,309,316,261,239,262,285,266,297,247,304,221,351,302,257,221,320,367,356,301,307,281,357,263,285,324,386,322,188,279,303,252,301,251,355,339,316,220,322,337,220,298,320,252,300,249,256,254,338,275,274,288,314,340,345,308,314,312,320,335,303,301,364,288,291,281,296,261,337,285,274,341,255,318,297,303,235,347,297,319,276,313,324,346,304,308,315,360,310,320,260,329,273,320,311,297,290,334,372,331,321,309,393,256,339,370,378,294,322,294,303,301,277,361,298,242,326,289,322,351,302,322,315,372,302,323,308,254,304,307,323,356,269,296,258,322,292,285,238,289,337,286,244,289,342,275,388,329,233,268,292,287,305,267,267,261,305,319,329,303,262,280,340,224,307,313,325,364,287,319,224,308,337,319,310,328,323,338,356,308,309,291,356,287,266,310,357,365,262,269,282,298,289,233,261,296,325,283,339,350,281,253,283,284,272,263,292,354,291,335,302,293,317,314,275,298,294,244,354,253,269,320,272,325,296,218,264,283,260,340,340,267,280,265,291,328,340,276,271,298,304,303,360,308,270,280,286,297,312,313,303,272,361,328,337,308,305,254,337,229,328,325,315,352,249,309,355,316,305,333,342,276,297,310,316,325,318,291,254,271,322,385,256,243,303,273,274,279,311,341,338,335,369,360,270,311,260,316,281,266,281,299,247,308,281,293,243,342,255,261,272,333,308,299,296,267,265,248,321,276,266,279,232,327,257,296,269,277,310,308,271,291,355,281,262,277,238,350,291,306,341,271,314,241,304,325,266,255,310,333,281,342,293,331,326,251,309,297,316,309,351,267,301,317,258,258,278,305,305,332,328,341,297,302,310,312,302,304,275,287,292,238,249,281,359,255,374,344,362,326,321,270,321,348,279,264,259,284,297,229,246,321,337,255,317,345,305,278,284,298,237,342,352,286,327,291,320,297,249,309,346,249,377,267,281,245,317,306,275,287,305,232,242,394,309,267,299,345,277,301,326,204,348,207,321,221,328,332,235,295,299,315,305,227,228,355,236,348,309,277,304,277,286,306,271,269,264,301,327,264,253,266,306,250,311,327,229,315,256,331,327,283,300,270,310,301,296,278,249,327,306,282,298,314,334,309,225,319,340,270,316,266,374,250,207,305,288,300,270,306,270,308,314,309,329,317,303,231,352,328,300,264,304,300,258,344,270,289,268,276,300,345,232,311,286,349,349,263,256,239,336,280,283,271,336,282,350,275,267,298,263,327,320,339,305,320,367,296,313,303,331,304,334,331,302,329,309,285,229,329,368,302,282,261,278,325,306,261,300,261,263,281,364,327,244,299,275,307,270,294,342,237,306,340,258,277,346,323,203,340,345,270,323,296,295,266,304,346,319,352,317,335,341,259,345,295,279,302,293,263,311,323,342,280,299,269,281,354,265,314,212,276,296,290,277,244,358,251,306,307,298,319,360,277,289,355,292,299,249,312,237,299,211,274,262,378,312,312,300,309,327,286,355,310,283,305,262,312,334,277,296,324,312,326,296,325,266,320,279,283,366,290,318,361,305,332,280,277,334,334,297,283,288,244,271,315,255,326,301,302,320,359,338,325,256,275,331,309,280,257,249,308,249,316,289,322,341,286,304,306,277,382,336,253,268,294,234,269,281,283,289,309,311,346,292,289,304,277,309,279,335,354,326,288,315,271,358,296,317,274,269,300,345,334,333,280,271,267,345,337,317,318,287,308,371,364,277,291,367,326,304,319,320,300,274,322,266,285,294,243,373,357,268,338,301,303,303,252,240,280,361,325,274,243,300,321,279,343,302,282,291,371,293,397,259,265,305,294,317,274,326,274,291,296,297,304,323,293,270,249,315,265,310,358,270,313,265,338,336,348,255,359,305,369,286,298,285,247,291,306,337,283,243,314,285,294,330,304,315,248,332,311,354,377,258,279,288,304,347,292,289,298,243,240,289,277,324,366,264,253,341,316,294,307,265,303,341,305,267,335,295,338,312,252,338,266,289,244,310,272,286,312,322,336,321,288,332,242,301,242,319,309,295,358,228,230,277,362,307,290,321,351,264,310,252,355,305,292,328,312,281,314,267,303,277,353,284,336,252,319,261,298,307,312,271,375,247,344,229,312,339,329,282,263,332,296,278,287,318,367,317,319,269,290,289,308,378,274,247,312,245,247,273,291,279,343,243,320,265,292,313,343,257,322,323,301,348,258,278,278,309,299,301,318,349,330,309,298,287,288,311,282,304,323,271,302,256,306,330,318,237,287,305,267,315,276,281,382,336,260,319,289,309,232,340,258,302,311,377,314,305,384,330,332,217,303,329,285,267,354,321,284,323,312,243,322,309,343,317,337,338,283,333,333,316,334,300,278,302,321,295,309,288,350,283,272,309,381,295,323,285,267,325,317,283,321,254,343,349,343,294,306,304,324,297,334,345,308,320,294,294,275,308,304,335,349,309,255,310,336,292,273,293,293,351,309,281,314,309,313,334,289,410,359,271,287,280,287,239,347,274,311,316,342,264,287,269,280,274,267,332,253,360,324,286,347,275,269,338,244,280,262,291,349,267,276,265,350,299,311,306,283,290,291,289,295,340,236,262,308,337,327,318,336,326,272,306,244,325,358,308,300,318,241,297,248,297,351,318,277,307,298,335,297,256,309,306,301,333,320,275,310,315,297,362,301,296,307,294,286,235,258,326,272,306,327,293,286,243,369,234,281,319,307,290,285,311,327,317,289,323,295,290,285,285,321,340,241,378,302,334,281,288,282,311,332,215,309,312,302,363,258,317,360,316,312,241,305,286,299,281,278,286,372,340,268,233,306,279,287,324,282,302,329,323,282,252,284,314,334,280,308,272,247,329,333,305,324,330,332,292,352,299,333,288,262,339,240,322,343,256,287,322,325,210,293,279,323,210,240,282,321,283,295,309,294,267,348,319,322,343,288,301,328,299,314,365,319,260,318,287,298,278,313,290,292,369,317,243,331,261,377,322,327,327,264,286,268,357,301,336,301,237,349,367,314,307,264,277,273,262,265,340,286,385,317,270,329,295,311,280,271,311,377,277,357,308,297,292,299,326,338,294,314,281,338,303,324,311,322,226,336,306,345,287,311,269,259,259,296,315,301,272,322,297,233,332,362,358,296,317,327,323,304,348,216,352,303,292,402,265,308,338,311,302,279,339,314,318,319,243,313,279,319,242,331,327,276,284,310,288,330,291,303,225,293,243,322,285,271,289,320,306,306,307,304,250,309,300,335,288,292,317,307,326,310,290,334,246,284,286,264,301,282,304,253,308,338,220,221,328,264,303,229,332,312,360,275,300,266,316,265,278,270,306,290,267,292,332,333,287,295,391,292,336,308,297,290,328,282,360,321,341,300,302,339,297,294,316,305,251,305,331,260,189,293,271,256,341,327,307,297,314,301,337,271,379,355,314,331,263,316,274,281,314,366,388,310,283,364,301,338,249,309,259,330,292,265,304,301,281,287,337,233,321,312,337,325,318,270,277,282,304,286,270,258,297,267,315,281,279,252,285,289,312,340,328,324,266,295,283,305,280,398,233,265,308,315,301,348,310,283,332,319,356,308,359,292,345,284,346,310,253,294,290,338,329,286,383,288,268,326,287,287,318,299,324,228,292,290,319,299,369,276,298,303,290,297,305,359,280,281,276,278,263,292,346,315,237,268,331,316,300,395,280,278,298,276,271,286,337,306,246,234,311,265,257,286,251,281,256,379,349,233,305,324,275,304,280,364,307,354,291,250,305,321,259,324,245,315,243,314,291,378,263,302,294,283,325,257,273,310,296,247,305,298,303,294,289,317,323,286,274,318,310,312,275,278,332,329,339,337,269,340,298,332,326,302,341,347,287,300,275,318,230,269,312,318,248,293,328,306,304,294,311,289,319,347,287,312,269,344,261,311,276,327,341,279,284,318,331,252,264,262,334,352,273,309,294,290,351,252,273,307,323,357,255,381,352,269,294,326,266,275,222,277,336,340,288,295,251,279,345,270,292,284,273,263,323,354,280,277,305,343,316,313,287,322,314,240,340,342,335,309,290,332,335,265,291,274,213,301,260,334,271,330,285,278,285,318,296,260,291,277,326,293,304,288,359,329,315,263,340,259,313,321,287,268,264,254,302,306,282,276,305,337,280,251,267,265,328,338,273,318,332,242,283,351,303,356,256,243,339,317,333,320,308,320,254,327,314,359,303,242,285,339,309,257,332,305,312,289,247,287,292,325,307,294,234,314,303,267,320,242,251,243,301,299,322,248,308,324,309,259,282,360,258,331,271,300,238,290,303,284,271,252,299,274,289,365,339,266,284,300,268,288,284,285,243,263,256,373,276,314,267,292,288,245,248,286,252,271,287,278,353,356,285,305,343,333,320,284,356,301,277,297,329,241,284,319,258,321,289,341,309,284,283,277,320,351,291,383,291,276,270,275,267,304,242,268,299,250,315,273,336,313,282,281,299,334,339,286,347,338,370,314,313,277,292,350,352,292,303,245,290,300,324,310,240,275,305,277,264,291,270,283,261,348,314,315,241,283,334,338,262,314,299,270,330,308,327,290,276,339,323,312,286,319,292,277,305,241,284,298,265,274,317,252,309,271,335,309,283,349,347,357,255,287,325,267,316,222,313,269,316,355,312,320,350,308,263,289,279,323,309,376,314,305,292,292,272,253,250,293,207,324,284,291,299,219,238,308,334,224,283,334,268,285,332,262,289,280,367,405,365,321,254,296,336,323,300,296,321,291,319,228,273,217,335,241,262,286,303,314,272,330,266,279,249,311,323,336,311,298,314,241,296,333,324,360,308,315,303,311,322,269,292,297,350,282,252,341,335,303,244,314,330,321,310,294,340,330,323,274,344,302,287,297,252,380,283,351,264,246,314,342,279,252,265,275,248,283,193,326,321,268,275,231,342,334,323,306,309,268,269,251,317,262,318,337,305,281,258,338,311,344,335,352,309,274,345,253,327,337,237,267,334,288,353,308,306,299,309,255,292,320,313,370,334,252,367,323,288,257,307,341,331,314,230,277,267,248,302,300,296,218,283,356,254,299,331,327,255,300,294,300,250,356,342,312,254,329,223,297,329,351,307,273,312,279,314,312,277,305,297,296,325,266,321,312,337,269,278,341,297,311,329,299,280,305,341,339,295,283,354,285,317,318,328,311,265,259,263,290,309,288,336,321,275,310,271,247,328,371,338,258,293,310,316,255,266,291,324,316,310,294,260,248,254,302,323,305,250,268,280,376,294,406,318,359,359,271,347,328,245,268,333,279,306,287,239,273,281,380,337,280,307,321,280,350,236,323,270,284,314,317,372,246,376,290,281,336,268,321,367,300,286,289,324,262,276,280,291,286,264,332,305,324,293,283,300,258,274,273,260,384,335,348,293,317,236,279,292,288,235,317,351,351,327,259,322,278,287,304,300,271,278,291,269,320,280,307,355,332,233,337,330,237,260,331,369,306],\"y\":[611.5,527.2,558.1999999999999,501.9,779.3000000000001,471.90000000000003,751.9000000000001,807.0,547.1,374.8,596.5,566.5999999999999,568.2,576.7,603.5999999999999,437.70000000000005,437.3,563.3,586.8,391.9,629.7,513.0999999999999,673.8,585.3,438.1,582.3,493.2,480.90000000000003,718.5,429.6,645.1,497.0,508.59999999999997,563.8,421.0,698.5,680.7,659.0999999999999,656.2,695.0,447.7,596.0,528.6,613.1,634.0,453.1,531.7,622.1,460.90000000000003,582.0,707.6,667.7,570.0,582.5,581.2,561.8,556.0,554.0,728.6,698.7,731.9,728.2,605.2,479.6,448.4,550.5,695.2,497.4,547.5,596.4,573.5999999999999,496.4,563.9000000000001,592.8,615.3,670.8,499.4,619.1,601.4,579.5999999999999,580.5,439.9,372.4,637.6,497.8,595.0,416.1,491.79999999999995,683.3,460.4,510.1,581.2,722.8,607.6,606.0,550.4000000000001,573.3,515.6,618.5,674.5,497.8,642.5,561.5,706.6999999999999,587.5,608.5,572.8,615.0,675.9,736.7,663.8,618.9,490.3,712.1,470.9,617.9000000000001,706.5,469.29999999999995,572.3,558.0,599.7,478.1,613.3,592.5,532.7,575.6,725.5999999999999,693.8,523.1999999999999,654.4,639.3,724.0,421.5,578.3,651.0,505.6,613.2,490.7,575.2,555.6,593.4,505.7,616.1,755.5,642.5,536.2,608.3,506.9,507.50000000000006,604.4000000000001,625.9000000000001,690.0,584.9,645.4000000000001,583.0999999999999,669.5999999999999,521.8,548.4,585.4,629.2,565.8,469.6,698.0,673.1,452.29999999999995,673.0999999999999,687.9,601.0,543.4000000000001,646.5999999999999,556.3,467.5,431.1,503.8,596.2,479.1,424.0,647.9,630.1,571.7,585.9,595.0,555.5,542.5,528.0,559.9,605.4000000000001,501.5,539.8,630.5,603.5,757.8,651.2,572.7,520.2,681.4,515.6,655.8,630.4000000000001,585.0999999999999,630.2,672.8,646.2,534.5,602.6,515.7,575.3,528.9,705.1,595.2,749.3,353.7,517.8,565.6,600.9000000000001,475.79999999999995,582.3,641.3,477.5,691.6,559.7,656.6,568.1,669.0999999999999,615.7,595.2,579.4,585.0,490.5,551.9,522.2,722.9,535.4,630.5,584.5,607.0,430.6,475.29999999999995,631.0,603.8,525.5,635.2,640.0,522.3,610.9,673.5,599.8,611.2,485.5,403.9,574.4,545.9000000000001,562.5,445.80000000000007,617.1,691.7,425.79999999999995,590.6,483.9,593.1999999999999,557.1,596.1,642.8,568.1,586.0,586.6,462.3,631.2,645.1,562.0,528.5,476.6,646.3,614.8,651.7,547.0,570.7,744.3000000000001,594.5,655.3,542.8,520.4,626.9000000000001,576.9,615.5,608.0,479.30000000000007,498.7,572.0,503.1,546.6,623.8000000000001,503.1,513.6,551.9,523.0,472.4,670.9000000000001,512.9,624.2,576.4000000000001,723.6,643.0999999999999,513.3,684.2,652.7,551.8,583.5999999999999,416.0,538.6,579.3,607.1,641.9000000000001,684.7,485.9,695.7,523.5,675.0,549.6,673.2,566.7,589.1,710.5999999999999,553.4,614.0,640.5,601.3,717.5,654.3,663.5999999999999,502.29999999999995,539.5,458.09999999999997,619.0,676.0,422.9,609.5,609.5,645.5999999999999,499.7,387.1,612.5,532.5,608.9000000000001,620.0,547.5,593.9,586.8,618.7,677.3,413.90000000000003,602.3,741.1,681.1,567.2,661.6999999999999,638.8000000000001,516.0,545.0,643.4,624.8000000000001,547.1,607.5,643.5,532.0,623.8,618.4000000000001,658.4000000000001,587.9,496.69999999999993,562.4,470.20000000000005,546.8,673.4,349.20000000000005,470.7,601.5999999999999,438.5,481.40000000000003,610.8,615.5,674.4,369.2,548.0,470.5,632.0999999999999,541.9,422.8,509.79999999999995,642.6,422.5,646.4,601.4,639.4,490.0,644.8,576.7,642.7,637.5999999999999,474.7,718.3,523.0,641.5999999999999,551.3,597.5,565.5999999999999,547.9000000000001,476.0,644.2,693.7,469.8,557.6,708.9000000000001,557.2,488.5,655.2,420.7,641.4000000000001,407.8,421.79999999999995,516.4,476.90000000000003,630.5999999999999,637.3,481.6,498.3,661.8,519.1,512.5,567.3,564.8,558.2,501.1,645.2,646.9,585.5,650.8000000000001,605.3,701.5999999999999,615.9,492.8,653.6,477.5,626.6,631.2,515.5,666.3,482.5,590.8000000000001,524.4,552.4,456.1,708.8,604.0,517.0,545.0,672.2,473.20000000000005,541.2,572.3,586.1,718.7,640.7,589.2,475.20000000000005,275.2,595.8,598.0,575.3000000000001,559.0,626.9,487.70000000000005,469.0,437.5,659.8,405.29999999999995,612.6,672.5999999999999,554.0,626.8,594.1,711.8,479.8,585.2,606.1,636.1,571.4,555.1,585.1,537.6,530.2,603.1,537.8,448.70000000000005,592.0,603.4,536.2,512.7,654.4,598.8,611.6,423.29999999999995,526.4000000000001,629.5,699.1,595.1,399.5,426.7,598.7,579.3,608.8,605.3,649.6,449.5,553.5,671.9,425.4,636.4,562.1,698.5,609.5999999999999,536.2,641.3,583.5,514.4,586.3,581.2,602.0999999999999,636.2,630.3,594.1,726.0,631.0,532.6,531.5,603.0999999999999,581.9,442.20000000000005,682.1,560.9,554.0,502.5,607.1,612.5,487.7,549.2,475.5,406.9,585.5,602.4000000000001,543.7,674.6,681.2,664.5,574.2,641.5,765.6,610.0,598.9,611.7,582.1999999999999,576.4,610.6,568.8,667.5,577.0,613.4,630.9,496.8,672.5999999999999,513.4,664.2,634.5,466.4,503.2,573.4,591.1,594.5,625.2,476.70000000000005,591.2,505.0,661.6,628.7,757.1,752.9,683.1,505.5,493.79999999999995,627.8,582.3,520.1,416.1,641.0999999999999,506.0,647.0999999999999,523.4,599.4,583.7,445.5,339.29999999999995,447.6,566.0,629.8,636.3,548.6999999999999,658.4,570.1999999999999,418.3,347.1,604.5999999999999,537.5,732.3,595.1,550.0,451.0,521.7,554.8,575.0,637.4,574.5,573.3,718.1,630.8,623.8,519.4,636.0999999999999,555.4,583.0,555.4,656.0999999999999,578.0999999999999,429.3,535.7,634.8,506.20000000000005,581.0,640.3,622.8,710.4000000000001,594.1,583.3,519.5,661.1,560.0999999999999,568.0,447.20000000000005,552.1,688.9000000000001,492.8,693.6,420.2,591.4,476.9,482.3,488.4,611.9,683.9000000000001,593.7,568.9,473.2,576.4000000000001,510.4,532.0,443.20000000000005,816.6,441.3,520.6,775.7,522.6,445.8,532.8,476.0,545.3,361.1,494.79999999999995,465.40000000000003,601.6,499.9,661.7,439.0,704.9,673.6,580.3,571.0999999999999,615.0,671.0,575.4,670.8,558.7,545.9,570.8,633.0999999999999,584.1,515.1,588.4,601.1,584.3,626.5,608.9,474.90000000000003,600.5,688.8,582.0,589.8,545.9,545.3,582.4,620.9,685.5,545.8,453.70000000000005,586.0,526.4,543.8000000000001,544.6,619.7,522.3,658.3,645.1,454.40000000000003,610.0,544.0,305.6,523.8,487.59999999999997,499.79999999999995,581.5,587.7,427.0,553.5,544.3,567.2,495.3,641.3,562.1,474.9,517.6,671.6,561.5999999999999,571.9,501.0,651.7,490.4,597.0999999999999,511.59999999999997,581.8,445.8,460.29999999999995,610.1,800.0,545.8,662.2,485.6,489.2,567.2,521.8,472.29999999999995,595.5,648.9000000000001,648.3000000000001,517.5999999999999,549.0999999999999,485.1,641.8000000000001,696.4000000000001,628.5,604.0,555.9,457.20000000000005,657.2,595.3000000000001,444.79999999999995,501.5,395.09999999999997,533.3,455.6,437.70000000000005,484.9,611.1,708.0,598.6,571.4,624.9,420.70000000000005,620.2,565.0,460.5,641.2,587.0,736.9,603.0999999999999,597.6,631.3,583.6999999999999,625.8,692.0,566.6,560.4000000000001,528.8000000000001,520.7,634.1,633.8,596.2,754.7,564.5999999999999,593.6,687.7,586.4,584.6,590.1,628.6,533.4000000000001,529.3,535.4,656.5999999999999,555.6,561.0,542.8000000000001,682.8,674.9,564.8,590.5,624.1,469.7,645.4,638.8,493.0,604.2,406.6,467.5,468.7,658.4,641.6999999999999,536.2,581.3,573.0,606.2,700.9,496.3,595.7,621.7,477.0,495.2,438.6,554.4,467.1,535.6,593.5,510.29999999999995,433.7,631.6999999999999,417.1,449.90000000000003,771.4,593.5999999999999,520.3,563.6,471.20000000000005,503.1,531.1,493.0,574.1,574.3,513.8,588.3,667.6,562.6,652.0999999999999,642.8,565.9,714.3,584.2,542.4,375.3,546.1,604.5,512.1,726.5999999999999,671.6,654.0,687.4,654.3,652.0999999999999,571.8,520.6,453.79999999999995,602.5,650.2,614.4,622.9000000000001,585.0,620.9,572.3000000000001,571.6,456.2,555.4000000000001,716.6999999999999,589.7,534.7,532.5,612.7,467.20000000000005,337.5,529.9,495.1,596.9,552.9,680.1,292.59999999999997,449.70000000000005,547.0999999999999,496.5,480.40000000000003,780.9,526.9,607.6,630.5,712.8,559.6,616.4000000000001,571.1,603.3,655.4,461.1,582.0,603.3,567.3,501.7,687.6,558.0999999999999,351.99999999999994,582.8,505.1,472.20000000000005,669.8000000000001,477.2,649.6,616.5,638.0,772.5999999999999,604.0,527.8,592.5,628.5999999999999,623.7,526.3,733.1,359.4,508.8,487.8,583.2,593.5,629.9,659.6,600.4000000000001,604.6,534.2,541.1999999999999,678.1,638.5999999999999,704.6,584.9,476.8,602.6999999999999,537.0,526.2,535.0,547.2,596.0,614.2,610.7,475.40000000000003,461.79999999999995,486.40000000000003,604.2,820.2,528.0,630.7,530.1,587.4,638.9,556.1999999999999,642.0999999999999,550.1999999999999,610.8,599.1,634.2,492.7,651.8,583.0999999999999,599.4,702.6,498.29999999999995,646.7,628.6,524.4,479.59999999999997,518.8000000000001,581.6,533.9,737.1,527.5,665.0,383.8,690.2,360.3,605.9,589.0,493.9,601.0,547.2,529.8,606.3,620.0,487.5,586.1,736.0,608.5,635.1,457.4,608.2,533.6,437.4,490.20000000000005,611.6999999999999,351.0,640.9,639.2,496.6,547.5,360.9,581.9,602.6999999999999,505.3,674.7,475.6,470.6,631.1,479.8,634.5999999999999,526.9,579.7,624.5999999999999,585.7,549.9,424.3,558.1,428.0,691.9,643.4000000000001,408.20000000000005,588.8,573.8,618.0999999999999,570.9,588.4,639.4,689.6,618.6,574.1,594.7,663.9,568.6999999999999,480.6,706.5,644.1,771.5,433.5,566.4000000000001,588.9,674.1999999999999,461.7,548.6,574.6,700.2,509.1,585.3,599.3,536.9,489.6,490.9,595.9000000000001,467.4,555.9000000000001,460.3,654.6,519.1,356.3,610.2,661.3,649.5,712.1999999999999,527.4,543.0,679.7,493.8,611.6,698.7,562.4000000000001,704.1,590.3,677.4,613.5999999999999,676.3,607.5,510.2,569.5999999999999,610.5,565.8,611.5,654.5,668.6,605.8,679.2,623.6,657.4,674.1,486.59999999999997,654.3,655.0,601.4,545.9,600.2,558.1,639.4,595.3,524.3,432.5,573.8,553.6,645.9000000000001,480.1,499.0,697.0999999999999,586.3,510.4,612.3,519.9000000000001,384.6,474.2,661.2,593.5,549.1,685.3,666.6999999999999,596.6,634.2,567.0,563.0999999999999,527.8,536.3,582.1,444.7,643.6,592.2,583.3,600.5,603.5,590.1,604.4,534.7,652.0,504.1,496.0,562.4,519.3000000000001,435.4,733.4000000000001,581.5,542.0,560.6,444.2,596.7,595.9,555.9,557.4,487.3,434.7,583.9000000000001,525.9,378.00000000000006,616.0999999999999,647.7,630.5,470.3,497.0,539.3,759.9000000000001,491.99999999999994,672.7,689.6999999999999,760.9,600.8,650.5999999999999,625.8,569.3,565.0,579.1,566.5,539.2,580.0,808.7,519.8000000000001,497.4,417.0,593.6,566.5999999999999,551.7,651.5,682.0999999999999,486.09999999999997,600.6,643.5,619.6,518.0999999999999,831.0,543.3,681.7,433.20000000000005,593.2,623.5,394.1,582.5,618.9000000000001,477.8,489.50000000000006,573.2,611.9,613.6,583.0999999999999,494.79999999999995,536.1,572.3,713.5999999999999,545.0,627.2,589.8,463.5,580.7,597.4000000000001,537.5,664.0,394.20000000000005,479.4,712.2,434.5,654.2,620.9,570.0,585.4,657.4000000000001,543.0999999999999,526.4,560.4,556.1,661.0,542.4,629.4,670.2,544.4000000000001,541.5999999999999,586.1,543.0,516.6,543.4,622.2,397.4,615.3000000000001,544.3,519.7,611.0999999999999,603.6999999999999,634.5,673.2,488.79999999999995,565.8,718.8,471.6,726.5,490.8,650.2,736.8,583.8,509.9,647.2,579.7,471.09999999999997,394.90000000000003,520.5999999999999,681.5,661.6,713.5999999999999,531.2,611.1,493.70000000000005,510.4,576.3,540.4,694.2,782.4000000000001,631.0999999999999,513.1999999999999,604.3,597.1,547.2,528.6,450.0,593.9,595.3,613.5,575.0,414.90000000000003,607.4,530.0,565.5999999999999,707.5999999999999,551.1999999999999,492.20000000000005,553.1,418.29999999999995,639.6999999999999,646.9,659.8000000000001,554.4,531.6999999999999,659.1,652.7,662.5,573.8,609.6999999999999,525.4,528.1,550.5,542.3000000000001,500.5,617.1,530.8,624.4,507.6,669.7,610.3,579.1,552.5,594.5,502.70000000000005,574.6,541.0,686.7,545.9,666.7,582.2,592.7,570.7,555.3000000000001,541.3000000000001,459.29999999999995,585.5,514.3,483.40000000000003,505.19999999999993,551.7,647.2,342.6,612.9,665.6,686.7,552.6,660.4000000000001,568.5,659.5,648.0,588.8,562.2,590.3,558.0,596.5,621.8,625.7,514.0,528.8,633.3,503.59999999999997,558.6999999999999,547.4,650.8,524.9000000000001,571.5,633.9,693.6,521.5,674.2,613.5999999999999,627.7,570.9,379.4,639.5,542.8,658.5,556.0999999999999,626.3000000000001,411.0,712.0999999999999,550.7,616.9,591.7,440.7,567.6,713.6,554.5,428.8,519.2,595.5,568.5,558.8,690.7,403.9,472.7,571.3,585.0999999999999,664.2,587.5,597.5,595.0999999999999,547.4,628.3,646.7,607.4,460.3,655.7,611.9,565.7,573.0999999999999,387.7,660.1,361.5,528.9,454.9,552.5,588.6,547.9,590.3,588.9000000000001,719.9000000000001,542.9000000000001,672.4,461.69999999999993,602.4,580.5,612.3,595.4000000000001,527.3000000000001,300.9,465.29999999999995,548.4,633.3,553.2,696.6,425.3,729.9000000000001,664.8,561.9000000000001,462.2,436.3,522.3,619.0999999999999,542.1999999999999,534.9,551.1,663.9,558.2,494.0,466.4,468.0,549.7,539.9,555.2,640.0,618.4,566.5999999999999,494.2,531.8,529.0,603.8,584.6,635.5,592.3,592.0,682.6,706.0,553.9,482.6,528.4,533.9,681.3,479.79999999999995,564.5,601.5,591.6999999999999,607.3,572.6,627.0,578.3,660.3,544.8,474.1,554.0,496.0,737.5,696.0,608.1999999999999,495.20000000000005,580.2,571.5,644.5,545.3,432.5,531.3,742.2,445.4,634.5,625.5,536.4,655.1,396.99999999999994,671.6999999999999,737.0,536.0,636.5999999999999,485.5,565.6,507.29999999999995,603.1,589.5,558.0,685.2,563.8,566.4,608.1999999999999,464.5,536.6,585.1999999999999,359.3,548.2,642.4,461.4,629.4,525.7,556.2,502.3,560.0,607.7,470.6,569.6,600.5,513.1,787.3,456.2,467.4,688.3,619.2,459.4,682.9,660.2,588.5,615.4,687.4,532.0,668.9,582.6999999999999,653.0,578.8,577.1,459.20000000000005,670.5999999999999,530.3,596.4,609.5999999999999,554.8,497.59999999999997,415.2,729.4000000000001,628.9,547.4,652.0999999999999,533.1,718.2,709.4,592.9,577.3,469.2,610.4,657.7,601.0,596.2,604.7,624.8,501.99999999999994,384.7,559.1,617.6,607.0,666.7,532.0,680.4,435.2,534.4,398.6,583.1,559.2,552.8,617.5999999999999,660.8,513.9,463.4,549.2,453.1,523.3,564.7,471.1,606.5999999999999,474.1,629.0,611.9000000000001,607.2,626.9000000000001,563.2,604.6,513.5999999999999,493.5,621.3,502.2,678.7,574.3,691.4,533.5,371.09999999999997,514.4000000000001,586.2,569.4,593.0999999999999,609.4000000000001,587.0,507.49999999999994,408.4,622.3,523.5,505.7,534.9,598.8000000000001,716.4,430.0,712.0999999999999,456.1,524.8,529.1,448.9,612.5999999999999,662.7,654.2,720.3,667.3000000000001,400.6,653.6,602.7,754.4000000000001,552.2,412.0,676.5999999999999,654.3,470.4,639.5,618.8,549.5,641.8,686.7,536.0,582.7,608.1,532.2,568.5999999999999,586.6,626.3,722.2,615.2,488.79999999999995,643.0,526.2,434.1,612.0,524.0,659.9,594.7,678.1,673.0999999999999,559.2,655.2,680.3,697.9,652.4,562.5,501.2,465.1,528.0,706.3,506.59999999999997,785.3,766.0,570.8,619.9,569.1,538.2,541.2,436.4,675.8,667.0999999999999,552.0,445.29999999999995,580.0,555.8,569.9000000000001,632.5,516.0,684.4,339.0,611.6,558.4,719.5,411.1,572.7,583.9,393.5,634.7,502.20000000000005,588.7,726.9,498.70000000000005,627.1,577.6,551.9000000000001,664.7,556.3,637.0999999999999,601.7,509.5,511.0,585.3,562.2,391.3,555.9,699.3,707.0999999999999,658.5,571.4000000000001,382.6,586.1,692.3,588.0,510.1,438.7,594.5,462.0,536.7,615.2,600.3000000000001,552.1,434.70000000000005,608.0,697.8,447.8,588.1,431.59999999999997,625.9,433.2,471.29999999999995,490.2,602.5,590.6,680.6,575.5,561.3,596.1,474.6,599.2,631.5,543.1999999999999,566.1,532.1,672.5,440.1,669.5000000000001,549.2,536.1,551.3,484.4,653.9,596.1,459.59999999999997,591.1,572.5999999999999,508.1,617.4,612.3,609.3,502.3,588.0999999999999,516.9,585.9,416.70000000000005,547.8,501.9,586.7,509.0,598.4,651.3,522.9000000000001,553.0,666.0999999999999,741.7,694.5,568.0,642.2,637.2,683.3,759.8,475.29999999999995,544.3000000000001,569.1,545.9000000000001,552.9,487.20000000000005,398.8,488.4,633.8,604.3,575.2,655.2,617.0,528.8,501.19999999999993,387.4,693.7,451.20000000000005,552.9,456.29999999999995,574.4,555.5,690.0999999999999,587.5,512.5,591.5,548.2,545.5,515.4000000000001,692.0999999999999,652.3,559.3,573.1,663.6,492.5,590.4,539.6,439.70000000000005,523.2,693.1,620.9000000000001,555.2,601.9,604.3,551.5,578.1,627.5,677.1999999999999,614.0999999999999,672.3,537.8,481.6,552.0,531.0999999999999,468.5,615.3,420.6,647.6,651.2,594.2,587.5,573.0,558.9,618.5,607.7,580.9,564.8,632.2,598.7,557.0,629.3,585.3,531.5,484.5,679.0999999999999,561.2,693.5,579.0,800.1,518.3000000000001,661.7,729.3,441.09999999999997,516.9000000000001,683.8,592.5,533.7,680.9000000000001,573.0,581.9,581.1,516.4,693.9,543.5,641.2,643.0,549.7,593.9,555.5,650.9,628.5,760.8,767.8,685.6,509.70000000000005,418.1,572.4000000000001,702.0,631.4000000000001,518.4000000000001,703.0,606.0999999999999,542.6,666.0999999999999,547.6,644.7,551.0,572.2,635.7,747.9,550.0999999999999,554.4,498.0,519.5,551.0,554.3,514.9,622.9000000000001,672.0,671.3,618.5,570.0,326.0,598.0,599.2,589.3,568.9000000000001,691.5999999999999,611.4,636.3,574.5,497.90000000000003,676.7,451.9,646.7,481.9,396.1,503.70000000000005,645.4000000000001,540.0,351.4,635.1,617.4,554.3,520.8,781.3,580.1,548.4,600.0,617.2,587.2,451.90000000000003,505.8,501.09999999999997,579.7,599.7,555.1,664.3,562.2,499.3,638.8,476.4,620.6,654.4,675.8,708.4000000000001,457.29999999999995,521.9,471.9,640.8,564.1,365.70000000000005,680.7,343.8,747.9,655.0,425.2,384.9,533.8,749.7,640.2,512.9000000000001,541.7,594.2,628.8,592.3,568.7,680.2,656.5,609.1999999999999,623.5,503.8,691.0,576.7,394.9,712.1,487.4,497.1,536.9,505.09999999999997,480.5,562.7,675.9,529.4,573.9,510.8,557.9,690.9000000000001,503.6,596.1,519.3,473.9,641.4000000000001,530.3,547.6,727.1,398.79999999999995,459.5,626.0999999999999,631.4,551.1999999999999,518.8,487.3,591.0,685.5,440.4,635.7,554.0,563.9000000000001,562.1,495.0,654.4000000000001,504.09999999999997,491.1,454.70000000000005,665.5,469.6,528.6,660.8000000000001,613.5,567.6,536.1,508.20000000000005,542.8,611.7,610.9,652.7,708.6999999999999,311.4,649.5999999999999,667.8,523.3,684.0999999999999,592.7,493.9,614.5,424.40000000000003,518.8,672.5,699.2,561.1,605.4,492.59999999999997,686.0,584.2,478.40000000000003,540.3,511.0,566.4,464.6,616.3,619.5,440.90000000000003,579.9,451.0,467.6,661.8000000000001,699.8000000000001,656.0,525.7,475.70000000000005,602.4000000000001,633.4000000000001,635.3,477.2,547.9,565.5,617.6,633.7,622.6,576.1999999999999,570.2,506.7,624.1,586.5,506.8,613.3,608.6,425.5,384.6,609.2,637.3,441.3,446.59999999999997,690.2,451.29999999999995,628.0,395.3,647.5,591.9,551.4,565.5999999999999,662.4000000000001,577.1,491.79999999999995,490.50000000000006,623.9,653.7,611.1,602.2,459.59999999999997,606.6,574.5,510.5,470.8,633.0,518.5,601.0,568.4,671.6,651.2,646.3,541.2,656.9,514.3,494.1,462.5,539.5,347.5,633.4000000000001,689.7,640.0,495.8,622.1,542.5,551.4,623.1,622.4000000000001,455.5,506.09999999999997,631.6,521.0,688.4,555.0,511.3,481.79999999999995,371.5,398.40000000000003,648.6,709.1,575.0,533.6,378.0,605.3,524.2,588.9,649.5,488.8,488.2,637.2,499.09999999999997,542.7,521.0,601.6,455.80000000000007,528.8,543.3,608.3,565.1,647.1,570.3,561.0,633.8,562.0,576.4,490.9,753.7,554.6,448.1,631.6,610.7,507.7,537.5,457.90000000000003,394.4,612.2,485.9,809.2,399.2,490.8,604.8,528.2,694.5,599.4,578.0999999999999,549.4000000000001,709.1,596.7,441.29999999999995,565.1,455.2,655.0,520.8,536.9,556.3,653.4,513.7,548.1,736.0999999999999,569.4,710.0999999999999,508.8,720.8,476.5,522.7,658.0,600.9000000000001,543.9,597.2,653.2,545.0,624.5,513.6,662.5,450.80000000000007,559.2,625.5999999999999,678.4,714.1,540.8,480.5,446.3,602.5,375.7,682.2,442.2,505.4,458.7,604.4,610.4,643.0,509.19999999999993,512.8,674.6999999999999,596.6,740.8,564.9,552.3,533.4000000000001,521.0,625.6,666.6,701.9,500.5,657.2,631.8,561.8,576.6,644.9000000000001,692.4000000000001,603.3,484.9,726.5999999999999,512.3,526.7,586.1,552.5,548.4,483.0,624.4000000000001,634.7,522.8,696.8,586.8,420.3,583.0,710.7,537.5,478.2,628.3,628.8,751.4,640.0,537.7,736.2,550.1,640.5999999999999,374.20000000000005,630.0,573.6,612.7,610.3,675.1,588.7,686.2,603.2,587.4,550.8,617.8,657.7,543.0999999999999,608.3,591.1,512.6,622.2,597.5999999999999,488.5,534.3,528.2,574.3,522.3,575.6,753.4,678.8,670.6,414.1,595.9,591.6,630.1,604.9000000000001,539.6,690.5,628.3,552.6,470.2,581.5,478.1,543.8,519.5,609.9,636.0,610.7,569.5,563.4,730.5,550.8,535.1,611.8,529.9,685.0,601.3,642.4,681.5,540.0999999999999,455.70000000000005,643.2,513.4,564.2,526.4,563.8,568.1,461.79999999999995,538.4,522.0999999999999,517.5,540.4,637.0999999999999,517.0,598.5999999999999,642.9,700.4000000000001,507.2,619.3,636.7,437.9,544.3,441.3,603.5,596.8,489.0,561.2,553.6,570.3,545.8,650.8,575.8,661.5,512.5999999999999,741.6999999999999,562.6,832.3,563.8000000000001,525.9,591.1,693.5,406.4,519.3,510.6,612.0,676.9,540.2,707.6,569.3,629.5,440.5,528.9000000000001,629.6,774.2,571.5999999999999,674.5,547.4,459.09999999999997,543.3,506.49999999999994,626.1,580.9000000000001,430.29999999999995,626.5999999999999,427.29999999999995,573.5,607.0,582.4,710.4,622.9,527.2,649.0,551.2,571.5,624.7,538.3,590.5,669.5,378.5,621.6999999999999,563.3,433.1,668.0,488.90000000000003,533.6,655.7,541.9,573.8,508.6,486.90000000000003,462.9,530.0,694.7,596.0,520.5,537.1,603.5999999999999,544.9,676.2,676.9000000000001,477.3,442.90000000000003,429.70000000000005,499.50000000000006,682.9,403.1,645.2,713.0,612.2,639.7,576.5999999999999,664.3,670.7,635.0,480.6,544.9000000000001,633.7,519.7,590.8,519.9000000000001,545.5,571.5999999999999,482.70000000000005,640.9,525.4,656.4,494.5,750.8,667.5999999999999,445.2,554.1999999999999,492.0,456.0,613.4000000000001,651.1,561.5,694.3000000000001,746.5999999999999,519.0,530.7,515.4,528.8,640.2,606.0999999999999,645.8,536.6,653.9,656.2,475.3,466.6,580.0,528.8,541.1999999999999,575.5,535.0999999999999,510.1,707.3,494.1,426.59999999999997,627.2,527.9000000000001,591.3,545.2,592.0,474.70000000000005,605.8000000000001,506.3,585.5,599.4,625.6999999999999,650.6,507.4,526.3,482.6,710.4,564.8,566.5999999999999,610.2,560.9000000000001,486.0,482.1,561.4,673.0999999999999,553.4,572.1,650.0,596.5999999999999,441.99999999999994,523.3,706.5,521.5,723.3,673.8,746.4,590.4,607.5,566.2,584.6,606.2,550.9,621.2,518.5999999999999,608.0,479.79999999999995,686.2,553.2,589.8,554.5,704.4,590.9,599.1,471.90000000000003,551.1,593.6999999999999,734.7,657.7,412.20000000000005,577.7,581.3,568.0,637.5,648.6,504.9,503.5,548.6,588.4,597.7,707.6999999999999,467.20000000000005,671.0,424.7,596.2,606.7,561.8000000000001,614.7,622.8,632.6,535.1,537.9,608.2,522.0,632.5999999999999,611.3,457.70000000000005,668.1,721.0,689.3,725.0999999999999,453.79999999999995,558.4,667.6,764.0,508.2,588.1,486.4,593.8,612.5,554.3,468.70000000000005,491.0,592.8,497.5,554.6,642.4000000000001,471.9,554.6,552.2,583.9000000000001,552.3,576.3,579.4,466.9,511.6,635.3,599.9,607.3,587.2,531.4,563.1,523.7,711.2,524.1,564.9000000000001,647.4,408.4,682.3,444.7,468.5,524.0,677.9000000000001,582.9000000000001,593.4,661.2,376.7,636.6999999999999,505.8,552.3,540.2,529.4,555.3,624.5,541.3,485.9,578.7,609.3,705.1,598.4,493.6,485.29999999999995,568.6,552.8,580.4000000000001,544.9,610.7,545.3,513.2,630.5,608.7,478.9,463.79999999999995,564.9,613.3,538.5,585.3,621.0,573.6,543.5,689.5999999999999,642.6,516.6,375.70000000000005,605.7,592.1,674.0999999999999,577.6999999999999,636.9,705.5999999999999,496.09999999999997,667.7,489.99999999999994,777.0,625.9,669.5,646.7,579.0999999999999,612.4,558.0,342.2,684.5,705.9000000000001,381.0,297.5,507.6,628.0,583.0,462.70000000000005,622.4,566.0,580.3,710.6999999999999,517.9,626.1,545.8,637.9000000000001,400.1,496.0,635.0,401.5,670.8,627.0,596.4000000000001,497.1,468.3,618.7,647.3,569.2,608.8,734.8,543.3,475.2,550.2,524.8,579.4000000000001,623.5999999999999,551.1,606.3,687.5999999999999,444.2,585.6,487.59999999999997,705.2,690.5999999999999,608.4,686.0,465.5,621.9,622.8,599.9,630.9000000000001,714.6,438.1,565.6,570.2,550.3,596.6,549.7,508.90000000000003,573.3,666.9,384.1,626.5,606.4,520.8,492.1,587.2,610.0,609.7,541.3,783.1,585.2,634.1,449.9,508.9,561.1,486.20000000000005,617.2,601.4,588.6,553.8000000000001,736.2,661.8,626.1,543.7,587.2,497.6,612.4000000000001,725.9000000000001,646.5,625.7,555.0,510.79999999999995,527.5,584.0,844.6,575.0,483.3,715.9,575.3,551.0,714.4,561.8,624.3,537.1,551.1,465.6,628.9,659.9,691.3000000000001,634.0,646.4,531.4,434.79999999999995,474.3,499.0,573.2,529.0,643.8,650.3,633.5999999999999,553.4,555.7,493.4,560.7,633.3,509.9,615.4,588.8,529.7,669.8,550.5999999999999,645.0,690.2,550.9,560.4,537.8000000000001,626.3,818.3000000000001,647.9,573.9000000000001,561.0,470.79999999999995,761.3,642.3,566.5,560.8,651.5999999999999,661.5,651.9000000000001,621.3,452.6,603.5,635.9,536.4,603.1,528.8,607.1,608.7,465.9,625.9,514.1,365.4,565.7,474.29999999999995,521.2,568.4,621.0,581.5,478.5,531.6,571.5,557.8,575.0999999999999,590.6,479.1,543.9,575.2,636.4,523.1,571.4000000000001,697.9,486.6,520.5,499.9,640.7,567.7,503.3,466.70000000000005,646.0999999999999,561.8,533.0999999999999,664.1,581.5999999999999,512.1,463.0,418.3,637.2,580.3,654.4,560.2,623.6,530.4,622.4,539.8,569.9000000000001,571.3,664.9,541.5,617.6,678.4,588.0,634.2,649.1999999999999,575.7,490.6,558.2,568.9,562.2,461.1,610.0,521.5999999999999,584.0,669.0,462.4,568.7,660.9,640.2,564.6,499.0,425.5,520.9,604.3,684.3,428.0,562.5999999999999,545.2,612.4000000000001,554.8,546.2,612.5,610.4,591.7,591.2,637.6,583.5,556.0,471.2,667.5,533.7,526.5,533.9000000000001,467.20000000000005,388.4,480.1,559.4,691.0,468.49999999999994,569.9,579.0,585.0999999999999,473.6,596.2,552.0,642.8,587.0999999999999,548.3,570.2,575.5,482.0,454.2,482.5,464.3,567.3,605.6,515.2,669.8,458.8,573.2,567.4,644.8,535.7,556.7,545.2,577.4,608.1,434.4,488.29999999999995,586.3,504.9,575.5999999999999,491.29999999999995,587.9,537.2,638.3,483.20000000000005,539.9000000000001,544.3,594.9,437.3,544.8,504.1,564.5,540.9,434.1,563.0,479.1,627.8,545.8,502.5,658.8000000000001,532.9,507.1,629.6,679.5,660.4,614.0,511.20000000000005,509.1,595.3,594.9,540.0,479.3,611.4,546.8,494.0,463.19999999999993,681.7,555.8000000000001,669.5,546.2,395.5,448.4,556.0,713.5,512.3,515.6,418.5,347.1,585.7,647.2,607.6,646.9000000000001,708.8,624.8,572.9,510.29999999999995,515.9,648.8,533.7,680.2,601.8,542.0,489.5,509.09999999999997,548.8,567.3,597.9000000000001,538.7,604.0999999999999,676.1,663.2,849.4999999999999,477.4,621.7,617.9,640.2,539.8,497.4,472.09999999999997,555.6,549.6,648.2,556.5,681.1,468.0,472.29999999999995,635.2,554.0,560.0,667.0,568.3,454.8,472.5,623.9,466.5,519.2,659.3999999999999,580.5,584.8,707.8,647.7,378.7,466.6,563.7,555.7,687.4000000000001,659.6999999999999,604.1,513.2,667.3,599.8,463.9,614.5,457.79999999999995,433.0,585.3,517.7,570.9,644.4,458.8,571.9,623.9000000000001,628.3,571.2,566.1,712.4,602.5,413.5,535.3,488.5,600.5,554.9,577.3,671.3,613.0999999999999,484.0,620.5999999999999,601.8,643.1999999999999,476.59999999999997,668.0999999999999,577.2,593.4,592.4,465.1,645.1,365.1,541.5,635.2,560.8,613.3,481.3,533.1,344.2,689.9,606.5,678.0999999999999,597.3,612.9,614.0,544.7,739.5999999999999,665.0999999999999,678.2,456.00000000000006,594.3,579.5,663.6,586.0,510.9,622.8,523.4,598.0,609.0,485.09999999999997,741.8,545.3000000000001,602.4000000000001,569.8,522.9,534.9,626.9000000000001,594.5,504.4,619.7,502.3,476.8,603.6999999999999,554.4,625.5,536.8,547.5,520.4000000000001,607.4,623.5999999999999,472.40000000000003,595.8,376.4,614.0999999999999,599.0999999999999,567.8,596.0,628.2,502.4,618.1,385.9,583.4,620.0,629.6,642.5,511.70000000000005,569.2,596.6999999999999,660.3,622.5,571.4000000000001,609.7,557.4000000000001,435.7,529.7,498.2,602.9,419.6,546.3,659.4,452.6,644.6,568.4,638.0999999999999,474.0,529.0,561.9,518.6,563.2,741.4,522.6,657.8000000000001,564.9,481.0,483.3,497.3,547.6,614.2,547.7,489.8,648.3,769.4000000000001,569.9,550.5999999999999,583.1,732.3,599.8,688.0,586.9,586.5,561.6,551.4000000000001,508.0,541.6,684.7,641.4,459.0,621.6,680.5,509.6,593.9000000000001,516.0,679.9,706.3,670.4,547.5,625.5,544.4,515.4,568.5999999999999,635.9000000000001,482.4,739.6999999999999,611.6,679.0,580.0,437.90000000000003,502.1,700.5,587.3,369.8,615.5,596.7,649.9000000000001,681.2,553.9,602.1,625.7,537.2,603.7,688.5,702.2,472.3,694.5,648.5,602.6,546.9,521.8,580.8,555.2,397.5,611.5,526.3000000000001,636.5999999999999,620.4000000000001,660.0,404.7,608.2,543.0,510.00000000000006,587.8,636.3,476.2,787.7,532.6,643.9000000000001,453.99999999999994,656.7,696.2,698.0,501.09999999999997,582.0,533.5,609.2,622.7,575.8,523.5,553.7,489.79999999999995,655.7,560.7,534.3,514.8000000000001,436.0,472.09999999999997,679.5,623.5,622.8,685.3,703.3,428.79999999999995,503.1,569.7,684.0999999999999,466.70000000000005,652.5999999999999,399.5,588.5,554.0999999999999,517.9000000000001,599.7,693.1,521.6,600.3,457.5,766.3,650.5,525.7,617.0,474.4,584.6,647.8,472.7,648.9000000000001,499.29999999999995,548.5999999999999,660.3000000000001,629.0,614.9,711.8,557.8,592.0999999999999,483.9,518.8,705.6,489.59999999999997,705.9000000000001,580.2,592.7,427.1,668.6,533.3,612.5,485.70000000000005,619.9,375.9,681.0,619.0,548.2,561.2,547.0999999999999,613.7,654.0999999999999,608.6,617.2,656.5999999999999,622.6,612.5,515.9000000000001,496.79999999999995,694.9,446.5,687.0,671.8000000000001,520.9,448.7,717.9,571.5,525.6,602.7,486.20000000000005,624.6,471.79999999999995,548.9000000000001,741.4,553.3,479.3,601.8000000000001,632.1,518.3,542.5,653.3,516.9,532.7,563.1,653.9,674.8,454.7,573.5,542.8,576.3,600.5,600.9,525.3,501.09999999999997,615.1,677.9,608.4,555.7,386.79999999999995,640.4,451.9,670.5,550.6,714.8,552.3,471.79999999999995,519.3,559.8,596.7,459.2,632.8,632.3,394.5,642.4,568.9,585.0,597.3,646.0,673.4,507.3,721.4,500.9,581.2,662.9,675.6,617.0,597.1,591.2,427.1,505.5,508.9,536.5,629.9,503.90000000000003,337.6,579.5,586.3000000000001,561.4000000000001,538.1,497.4,635.6,422.1,411.6,511.2,614.7,578.9,578.7,432.1,659.5,439.20000000000005,644.1,631.3,573.8,426.7,595.6,673.3,530.0,553.9000000000001,501.79999999999995,645.8,683.8,654.5,606.4000000000001,479.7,612.6,446.8,491.6,467.70000000000005,698.4,565.0,672.1,665.0,575.9000000000001,685.0999999999999,545.4,576.2,502.9,553.9,733.8,544.5,606.4,662.4000000000001,677.9000000000001,574.3,569.6,458.3,355.1,521.1,569.4,536.7,476.70000000000005,483.4,568.1,515.9,563.5,486.4,535.0,495.4,605.6,618.4000000000001,452.3,646.6999999999999,514.8,659.7,471.6,532.4,636.6,686.4,548.5,680.0,509.0,628.4,462.20000000000005,559.2,508.00000000000006,487.2,646.4000000000001,675.1,529.6,630.5,512.7,661.0,612.1,553.1,654.5,596.3,579.6,629.4,595.4000000000001,590.2,686.8,597.1,620.3,649.4000000000001,401.2,633.2,604.5,699.0,505.90000000000003,611.7,589.6,512.3,618.5,494.4,507.4,564.2,483.1,643.9000000000001,517.9,518.5,538.7,484.4,684.2,407.70000000000005,604.1,510.1,520.4,712.1,432.0,541.3000000000001,551.7,542.8,562.0,590.5,403.5,532.8000000000001,553.2,541.8,580.8,741.6,513.3000000000001,479.1,599.9,645.8,495.3,492.9,756.2,551.3],\"z\":[55.540000000000006,59.00000000000001,65.02,49.36,76.28,44.980000000000004,70.97,77.52,54.62,37.17,56.32,61.28999999999999,57.800000000000004,60.39,56.14,45.49,38.97,45.3,60.67,40.64,62.42,46.6,66.64999999999999,56.25,44.5,51.5,55.19,44.099999999999994,59.22999999999999,36.67,57.31,46.0,55.800000000000004,54.129999999999995,44.28,66.21,66.65,60.540000000000006,60.25,63.19,43.21000000000001,62.58,54.599999999999994,68.28999999999999,58.629999999999995,43.3,49.220000000000006,67.94999999999999,44.64,61.31999999999999,68.89,65.69,62.68,60.709999999999994,61.92,53.849999999999994,58.36,52.41,70.07,66.56,74.51,64.22,62.36,45.78,45.96,47.230000000000004,70.03,52.4,53.17999999999999,59.900000000000006,56.050000000000004,52.19,49.6,54.94,64.94,73.45,43.779999999999994,62.5,60.370000000000005,53.85,50.199999999999996,33.94,43.18000000000001,64.05,54.800000000000004,57.96,45.379999999999995,45.81,65.1,39.93,49.849999999999994,53.269999999999996,70.61,60.42,60.0,47.93,53.77,54.910000000000004,57.449999999999996,64.2,54.3,67.55,56.69,70.5,59.52,48.51,55.57000000000001,65.86000000000001,68.81,67.17999999999999,59.45,61.07,47.17,68.85,38.97,58.07000000000001,66.77000000000001,50.120000000000005,62.11,63.690000000000005,50.36000000000001,43.28,60.96999999999999,65.0,49.97,55.36,73.36,64.44,47.49999999999999,62.89000000000001,71.05999999999999,70.1,41.38,69.15,65.84,48.49,61.629999999999995,47.4,68.74,56.85,52.709999999999994,40.22,54.76,69.92,63.52,48.839999999999996,56.760000000000005,44.54,56.67,58.97,60.97,68.06,62.69,64.39,55.79,61.599999999999994,55.76,53.730000000000004,54.06999999999999,56.25,53.81,36.04,67.46000000000001,65.94,51.209999999999994,67.39,67.48,61.120000000000005,54.37,60.35,55.11,38.39,34.69,53.73,62.03,42.0,30.67,61.99,59.18,58.59,50.44,55.66,54.38999999999999,48.63,44.34,53.99999999999999,56.22,45.11,50.65,58.26,67.74,70.27,65.25999999999999,49.88,50.43,65.49,47.24,65.72,61.84,53.01,64.04,63.39999999999999,63.39,52.55,60.36,56.06,51.349999999999994,54.720000000000006,65.84,58.019999999999996,71.32000000000001,33.52,53.199999999999996,52.38,59.76,42.03,53.28,64.55000000000001,47.36,62.57,46.830000000000005,68.78,57.48,68.84,65.08,59.26,49.06,50.19,41.879999999999995,50.769999999999996,48.5,64.93,46.85,55.99,46.95,59.39,35.51,38.34,67.71,60.64,58.92,65.12,60.56,55.879999999999995,59.5,61.64,63.1,61.7,36.97,40.84,65.53999999999999,49.69,59.089999999999996,46.04,58.78,68.02000000000001,45.269999999999996,57.47,47.63999999999999,56.05,47.81,53.830000000000005,61.800000000000004,54.39,61.1,46.31,40.52,62.64,62.57000000000001,55.09,57.730000000000004,47.5,63.370000000000005,61.720000000000006,67.24,49.78,53.510000000000005,70.9,56.580000000000005,67.07,58.92,46.980000000000004,59.00999999999999,49.489999999999995,60.57000000000001,62.709999999999994,60.09,50.36,57.81,48.559999999999995,58.980000000000004,67.55,45.27,49.08,56.209999999999994,51.54,40.85,72.37,49.23,65.07,51.519999999999996,68.66,65.37,62.629999999999995,67.58999999999999,66.09,57.74,57.790000000000006,38.56,46.0,55.59,53.18,62.48,68.52,48.25,75.54,58.37,62.97,51.830000000000005,70.63,55.54,64.87,60.49,51.63,68.84,69.97,53.89,70.34,57.879999999999995,65.68,42.09,54.82,48.43000000000001,69.41,58.04,36.660000000000004,51.949999999999996,61.93,65.67,41.81,31.52,63.78999999999999,49.17,52.699999999999996,58.029999999999994,57.459999999999994,53.11000000000001,52.809999999999995,56.82,67.53,42.56999999999999,65.2,70.57,69.39999999999999,53.54,55.87,67.53,49.949999999999996,46.43,61.92,60.1,49.57,54.69,61.160000000000004,47.56,64.03,57.629999999999995,65.35000000000001,51.01,55.53,55.32,52.67,63.46,71.18,27.389999999999997,56.959999999999994,62.8,30.18,43.559999999999995,49.53,56.83,67.19,43.47,41.95,49.309999999999995,63.15,46.529999999999994,43.41,55.5,66.89,41.629999999999995,55.24,49.44,66.64,51.169999999999995,61.88,47.9,58.480000000000004,64.35,43.5,71.3,57.48,54.92,59.339999999999996,69.94,56.019999999999996,41.03,40.21,67.5,77.97000000000001,47.06999999999999,57.25,68.64,60.3,48.720000000000006,56.019999999999996,32.43,64.74000000000001,41.91,37.769999999999996,47.26,47.23,64.44,60.87,46.59,46.58,64.59,46.02,55.05,43.34,55.66,54.13,45.08,62.46,59.5,55.24,68.14,56.75,58.56999999999999,55.629999999999995,52.79,61.08,53.56,61.019999999999996,57.4,50.29,68.42999999999999,44.5,57.78,45.4,46.77,42.41,63.11,54.13,50.0,52.14,69.32000000000001,42.730000000000004,51.49,54.35,59.17,69.67,63.3,65.24,50.49,25.08,66.53999999999999,61.790000000000006,63.0,55.9,56.63,56.379999999999995,45.24,43.53,71.06,48.08,59.9,62.12,62.44,64.64999999999999,59.31,74.67,49.28,51.93,58.37,64.03999999999999,62.29,56.65,57.60999999999999,45.91,61.97,56.7,46.05,31.54,63.11,58.56999999999999,64.08999999999999,49.17999999999999,63.730000000000004,53.91,57.54,35.47,53.17,57.94,64.65,61.519999999999996,36.05,42.989999999999995,57.39,53.65,62.83,62.0,58.84,38.239999999999995,56.4,63.32000000000001,36.58,64.62,55.74,68.55999999999999,62.540000000000006,53.71,60.42,54.94,57.830000000000005,57.57,52.83,51.89,64.33,69.58,58.33,70.25999999999999,71.27,54.2,39.04,59.32000000000001,62.57,35.29,64.49,57.03,55.11,46.2,58.23,65.96000000000001,48.620000000000005,47.31,50.75,37.519999999999996,57.46,63.42999999999999,48.68000000000001,73.74000000000001,60.32,64.15,60.07000000000001,63.25999999999999,68.25,55.4,62.28,65.31,59.599999999999994,54.92,59.45,54.660000000000004,68.3,50.53,57.61,65.5,50.629999999999995,66.16,37.769999999999996,70.77,67.62,52.56,45.39,68.86,55.28999999999999,59.75,63.53,49.18,61.620000000000005,47.45,71.27000000000001,67.14999999999999,70.7,70.07,71.14,56.099999999999994,45.0,61.21,60.129999999999995,57.03,38.31,61.64,47.269999999999996,65.91,42.04,58.45,52.660000000000004,46.1,30.25,43.769999999999996,55.45,54.74,59.84,58.75,63.56999999999999,61.31,33.0,33.05,62.53,46.6,70.38000000000001,50.01,60.65,44.81,56.74,53.55,49.46,66.07000000000001,61.239999999999995,62.2,70.47,54.660000000000004,67.32,51.15,58.49,57.230000000000004,55.64,51.529999999999994,55.84,58.06999999999999,47.34,57.190000000000005,66.81,46.620000000000005,60.36,59.81,60.85,62.260000000000005,55.540000000000006,67.85,64.93,72.42,54.03,57.53,48.650000000000006,62.44,72.59,43.199999999999996,61.660000000000004,45.42,58.26,41.66,54.74,44.04,62.54,67.0,56.29,60.25,40.45,56.36,39.77,51.53,44.74000000000001,75.12,38.17,41.690000000000005,70.58000000000001,54.089999999999996,40.589999999999996,46.64,44.019999999999996,49.699999999999996,30.0,52.64999999999999,45.05,63.10999999999999,38.78,67.19,41.1,68.93,59.95,48.76,44.26,58.44,60.88,59.78,62.449999999999996,53.45,53.16,51.87,67.04,54.87,55.239999999999995,55.93,55.510000000000005,54.45,58.379999999999995,63.89,46.67,59.410000000000004,71.01,58.71,52.419999999999995,56.419999999999995,60.78,60.47,58.99,61.0,59.67,45.68,54.2,45.25,46.24000000000001,56.269999999999996,51.45,49.38,65.16,59.07000000000001,40.49,69.38,53.96000000000001,31.240000000000002,45.03,51.85999999999999,45.08,61.97,58.17,51.77,47.28,48.45,55.720000000000006,53.199999999999996,65.36,51.03,41.699999999999996,52.67,71.28,46.32,52.980000000000004,40.17,66.62,46.11,58.72,47.26,52.08,47.74,46.35,54.59,78.99,48.08,66.29,47.01,42.42,57.949999999999996,49.629999999999995,44.629999999999995,50.6,61.7,67.28999999999999,42.32,52.98,58.11,57.28999999999999,68.64,56.99,62.85,50.01,39.75,69.66,54.769999999999996,45.309999999999995,51.650000000000006,38.51,61.42999999999999,48.220000000000006,40.120000000000005,39.55,65.59,67.83,57.47,54.49,63.400000000000006,52.38,64.02,55.58,32.21,63.94,57.36,78.62,62.74,61.54,68.56,66.7,54.58,66.55,47.15,59.04,54.15,53.39,65.55,70.77,49.120000000000005,77.86999999999999,56.63,67.86000000000001,66.91000000000001,56.43,55.22,61.370000000000005,59.29,54.05,56.53,49.13,57.97,53.36,44.1,61.93,62.05,60.099999999999994,58.9,53.519999999999996,63.59,47.28,54.7,59.27,42.07000000000001,57.98,36.75,32.66,39.33,68.98,57.42,50.5,61.209999999999994,59.32,60.32,64.97999999999999,55.2,54.53,67.35,46.830000000000005,54.980000000000004,39.949999999999996,59.980000000000004,50.75,49.47,57.85,45.709999999999994,39.730000000000004,56.93,46.03999999999999,48.910000000000004,84.68,54.2,47.64,59.239999999999995,48.17,54.769999999999996,46.349999999999994,53.379999999999995,57.75,47.56,53.449999999999996,60.279999999999994,66.65,55.97,63.3,63.989999999999995,52.36,69.29,51.77,51.29,38.63,52.92,60.97,59.220000000000006,68.89,68.52,66.73,66.91,48.73,60.46,57.77,48.42000000000001,49.400000000000006,59.26,59.9,69.25,59.419999999999995,56.92999999999999,63.28,48.669999999999995,59.69,46.629999999999995,55.33,72.53999999999999,57.379999999999995,50.44,48.85,64.16,50.06,34.099999999999994,54.8,52.67,55.18,45.79,67.03999999999999,31.11,42.78,55.57999999999999,52.42,46.949999999999996,70.96000000000001,52.4,60.02,69.67999999999999,66.85,51.95,59.620000000000005,48.96,58.83,69.14,44.1,62.23,48.28,53.29,53.33,65.15,53.519999999999996,42.6,53.98,55.09,46.12,71.28,47.470000000000006,60.21,64.64,60.730000000000004,74.98,56.66,53.849999999999994,44.85,61.400000000000006,53.0,50.17,70.23,38.589999999999996,45.169999999999995,51.96,65.41,48.59,67.99,55.21,65.39,61.900000000000006,45.47,56.27,66.61,60.260000000000005,71.78,58.22,41.34,61.010000000000005,42.400000000000006,51.279999999999994,56.02,54.28,55.019999999999996,59.33,55.29,57.910000000000004,50.519999999999996,56.83,58.660000000000004,68.35,58.160000000000004,66.44999999999999,54.94,60.010000000000005,62.5,51.72,61.449999999999996,53.440000000000005,62.839999999999996,62.86,62.85,55.03,69.34,54.870000000000005,56.58,67.95,57.87,64.88999999999999,55.66,47.8,39.37,42.699999999999996,49.14,51.4,80.63000000000001,51.59,66.09,37.75,66.12,35.51,49.88,58.529999999999994,40.59,64.28999999999999,58.370000000000005,58.050000000000004,56.22,59.22,42.48,56.46,67.44,56.129999999999995,63.11,40.11,57.24999999999999,51.68000000000001,32.65,49.620000000000005,60.88,35.370000000000005,68.77,67.92999999999999,50.7,54.69,23.93,49.11,56.839999999999996,47.14,65.23,47.269999999999996,40.47,54.879999999999995,50.12,57.31,52.230000000000004,52.400000000000006,57.45,55.370000000000005,50.71,37.11,61.82,38.14,72.88,57.849999999999994,36.74,51.89000000000001,50.05,50.839999999999996,63.91,63.13,62.870000000000005,66.73,62.980000000000004,61.14,64.45,64.7,52.4,49.06,73.61999999999999,62.62,69.39999999999999,41.9,54.129999999999995,63.31,69.44,43.9,48.849999999999994,60.11,58.49,44.43,51.870000000000005,59.21,55.19,37.55,55.34,55.05,37.74,58.89,52.120000000000005,70.0,43.730000000000004,32.41,59.6,62.74999999999999,68.91999999999999,63.17,54.61,58.839999999999996,66.37,45.61000000000001,53.1,69.23,45.089999999999996,68.06,57.84,70.06,62.09,68.77,51.290000000000006,52.59,50.78000000000001,59.89,63.830000000000005,63.080000000000005,57.49,68.35,58.72,60.6,64.77000000000001,70.00999999999999,67.22,55.660000000000004,66.97,58.769999999999996,60.96,50.129999999999995,58.300000000000004,53.290000000000006,60.239999999999995,53.66,45.86,39.43,49.88,51.129999999999995,64.3,37.92,57.160000000000004,68.26,56.81,51.54,68.32000000000001,43.89,32.629999999999995,47.449999999999996,65.57,61.65,55.870000000000005,63.03,56.150000000000006,49.269999999999996,65.6,54.75,52.35000000000001,52.81,55.959999999999994,46.22,40.81,66.44,46.449999999999996,50.6,58.36,54.28,62.44,54.34,48.75,66.38,48.959999999999994,45.36,55.559999999999995,50.22,50.4,76.44000000000001,58.58,48.019999999999996,51.410000000000004,36.96,60.0,57.269999999999996,49.9,57.06,45.61,40.87,61.07,52.19,42.89,59.620000000000005,57.78,67.35000000000001,43.48,47.5,49.84,68.43,46.910000000000004,66.13,61.620000000000005,66.05,60.669999999999995,57.44,57.57,50.61,56.699999999999996,61.739999999999995,58.54,54.35,63.050000000000004,76.24,57.230000000000004,53.71,37.25,52.96,54.53,53.87,61.37,67.44,49.019999999999996,61.91,65.34,51.61,53.42,84.24000000000001,56.52,61.97,35.78,69.43999999999998,69.96000000000001,34.49,52.01,50.349999999999994,45.61000000000001,53.519999999999996,64.01,64.19,57.51,58.17,53.29,52.58,48.33,59.5,56.699999999999996,61.3,53.099999999999994,44.400000000000006,56.5,54.28,49.309999999999995,64.11,36.0,45.19,69.5,36.11,65.59,62.74,60.620000000000005,55.95,61.57,58.49,55.63,55.46,62.2,68.75999999999999,55.68,63.05,60.59,59.580000000000005,53.69,48.83,53.25000000000001,52.75,52.260000000000005,59.949999999999996,36.82,51.949999999999996,49.61,42.42,51.19,52.72,54.92,61.949999999999996,45.81,51.4,63.8,53.910000000000004,72.39,35.77,72.19,73.46000000000001,61.34,50.58,61.82,52.239999999999995,47.93,41.92999999999999,53.0,65.00999999999999,64.08,71.02999999999999,53.8,59.28,50.589999999999996,50.55,60.06,44.56,68.55,76.62,59.17,44.16,59.38,55.37,58.18,57.830000000000005,43.919999999999995,52.6,52.75,62.580000000000005,53.980000000000004,50.019999999999996,59.51,49.67999999999999,49.61,63.28,55.89,45.58,50.900000000000006,45.92999999999999,58.79,61.45,65.41,60.26,56.43,66.98,57.42999999999999,63.71,48.480000000000004,71.60000000000001,54.209999999999994,57.25,57.300000000000004,56.160000000000004,49.18,52.82,45.7,71.7,49.93,67.32,60.08,61.870000000000005,56.03,54.74,50.370000000000005,60.64,68.74,60.63999999999999,57.480000000000004,67.11,56.51,59.67999999999999,59.09,56.88999999999999,57.5,49.38,54.15,52.379999999999995,48.150000000000006,47.64000000000001,49.55,60.81,34.75,61.120000000000005,61.35,68.23,57.0,64.57000000000001,55.46,62.2,61.080000000000005,49.13,61.14,55.72,52.55,55.21,62.22,62.260000000000005,49.66,48.8,67.36,43.59,60.35,61.7,60.36,45.550000000000004,57.08,57.75,66.87,44.870000000000005,66.47,61.83,62.36,56.5,40.910000000000004,62.09,40.59,67.6,42.879999999999995,60.48,43.48,66.46000000000001,52.02,54.53,57.38,40.660000000000004,62.92,68.53,52.39,46.41,47.26,55.11,52.12,63.980000000000004,59.85,35.46,54.82,49.31,54.35,60.97,54.540000000000006,56.85,65.88,57.519999999999996,60.01,57.39,57.730000000000004,43.93000000000001,64.62,62.21000000000001,58.6,60.56,39.42,64.39,36.86,48.42999999999999,42.55,54.379999999999995,55.06,50.7,50.59,56.0,66.64,53.449999999999996,75.24000000000001,44.38,61.89,50.8,58.26,53.669999999999995,47.720000000000006,19.98,47.57,50.870000000000005,57.06,58.44,69.04,46.64,75.21000000000001,64.37,63.74,40.64,37.75,50.989999999999995,57.10999999999999,54.69,48.93,55.81,69.47,65.16,45.89,41.81,48.980000000000004,56.89999999999999,54.24,63.64,64.51,58.67,56.269999999999996,51.870000000000005,51.809999999999995,50.870000000000005,54.14,55.13,64.95,53.88,52.64,57.2,68.8,62.15,41.81,47.95,42.08,70.8,44.82,55.129999999999995,65.99,53.019999999999996,60.36,52.480000000000004,62.17999999999999,57.5,70.28,47.650000000000006,47.41,50.79,40.54,69.79,67.47999999999999,69.81000000000002,41.69,51.830000000000005,58.459999999999994,60.48,54.349999999999994,47.28,54.86,68.61,46.769999999999996,58.24,56.8,54.47,65.12,41.309999999999995,67.5,70.22,47.14,64.26,47.65,54.339999999999996,46.269999999999996,51.39,55.31,59.05000000000001,61.379999999999995,57.470000000000006,58.58,61.099999999999994,54.580000000000005,51.53999999999999,53.09,30.38,50.97,68.38,43.080000000000005,67.96000000000001,50.169999999999995,54.02,46.849999999999994,43.25,66.69,50.68,59.900000000000006,54.989999999999995,45.44,78.89999999999999,40.099999999999994,30.85,68.81,60.69,41.33,59.02,69.76,51.97,60.81,65.67999999999999,52.83,66.61999999999999,61.11,61.08,56.23,48.56999999999999,42.879999999999995,61.72,56.43,53.83,71.41,47.910000000000004,54.42,37.09,67.38000000000001,64.07000000000001,53.87,60.400000000000006,52.99,69.95,71.53999999999999,57.81999999999999,51.0,51.78,57.18000000000001,60.82,58.269999999999996,61.25000000000001,56.23,58.26,45.760000000000005,36.57,51.22,63.42999999999999,57.010000000000005,62.19,53.78,58.86,38.67,45.800000000000004,36.08,55.61,45.02,52.24999999999999,62.339999999999996,66.86,50.21000000000001,39.28,57.66,45.12,48.05,56.87,45.06,56.28,48.58,63.98,60.93,64.67,60.32,56.78,55.6,54.419999999999995,45.53,57.92,48.24999999999999,69.21,59.96,65.05,58.349999999999994,32.19,41.519999999999996,51.32,61.080000000000005,58.75,65.76,57.09,49.21000000000001,28.86,60.13,49.949999999999996,56.17,49.39,59.69,70.49000000000001,38.03,66.67999999999999,51.80000000000001,39.599999999999994,51.86,44.47,60.14,65.15,74.57000000000001,76.62,69.56,33.5,69.33,59.89,78.82,50.709999999999994,34.97,56.190000000000005,55.43,49.019999999999996,68.33999999999999,62.199999999999996,54.0,54.28000000000001,63.339999999999996,45.69,56.57000000000001,54.58,50.16,52.56,51.68,68.35,74.9,61.67,46.559999999999995,64.71000000000001,52.03,44.51,59.01,43.9,60.72,54.75000000000001,68.69,72.16,57.989999999999995,59.78999999999999,68.80000000000001,60.04,55.47,64.81,51.260000000000005,46.82000000000001,57.849999999999994,75.98,47.89,65.19,73.92,54.51,64.30000000000001,52.06,51.99,49.06,37.87,63.3,66.14,48.489999999999995,41.22,57.92,54.77,59.82000000000001,69.99,50.36,72.64,40.97,55.74,54.24,69.49,39.38,48.900000000000006,62.019999999999996,36.09,65.04,45.06999999999999,57.65,67.11,46.81999999999999,68.97,63.21,54.52,61.94,54.7,67.24,57.39,38.620000000000005,55.34,56.22,55.59,44.22,49.72,69.7,68.71,59.22,53.35,37.73,57.04,63.86,61.739999999999995,51.089999999999996,47.89,54.349999999999994,40.209999999999994,57.52,57.4,62.2,47.07,42.13,57.91,63.709999999999994,39.79,56.239999999999995,39.160000000000004,60.61,44.419999999999995,43.76,43.12,50.56999999999999,54.59,68.77,51.82,54.400000000000006,62.629999999999995,38.01,62.08,62.760000000000005,53.150000000000006,58.510000000000005,52.55,65.46000000000001,38.61,74.19,57.379999999999995,51.53,55.169999999999995,56.82,67.22999999999999,49.77,51.24,61.87,47.66,45.5,64.12,58.06999999999999,60.879999999999995,42.370000000000005,61.16,52.51,55.9,36.65,54.41,41.68,56.33,48.03,62.19,57.76,54.1,50.099999999999994,63.209999999999994,77.78,61.75,58.53,65.05,63.41,56.42,74.32,48.28,54.45,47.239999999999995,55.650000000000006,63.72,46.339999999999996,32.33,45.08,69.08,63.8,51.769999999999996,59.550000000000004,65.01,47.3,53.71,32.400000000000006,64.22,45.17,49.41,37.82,59.629999999999995,47.65,64.28,53.92,46.059999999999995,52.220000000000006,57.47,48.58,47.480000000000004,69.36,62.339999999999996,51.27,59.11,63.76,45.56,60.23,48.730000000000004,35.95,45.53,69.57,50.86,50.1,56.18000000000001,53.63000000000001,54.5,56.94,59.51,63.089999999999996,63.07000000000001,65.49,49.33,51.47,46.769999999999996,52.230000000000004,41.97,65.44,39.489999999999995,62.06000000000001,62.75000000000001,58.4,57.36,51.940000000000005,46.22,59.099999999999994,62.900000000000006,53.63,54.169999999999995,64.00999999999999,55.64,53.05,58.95,58.84,50.63999999999999,42.59,63.52,50.15,64.23,57.58,77.38000000000001,56.559999999999995,61.65,68.01,44.92,50.71,67.93,49.13999999999999,53.050000000000004,61.00999999999999,59.77,63.72,52.11,52.28,61.91,60.260000000000005,58.54,60.7,47.41,57.739999999999995,54.77,60.15,54.419999999999995,69.75999999999999,76.63000000000001,58.269999999999996,47.79,39.74,62.300000000000004,62.41,63.33,49.28,67.52,56.33,42.32,63.81,58.71999999999999,69.35,64.35000000000001,49.53,66.6,62.2,48.459999999999994,57.260000000000005,55.449999999999996,46.97,58.47,49.99,45.510000000000005,58.949999999999996,66.25,68.9,62.06,55.74999999999999,32.879999999999995,61.28,61.03,56.52,54.53,68.39,57.81,69.16,59.86,50.88,63.41,42.32,62.11999999999999,52.37,29.73,45.730000000000004,70.2,57.98,29.7,62.95,54.669999999999995,56.04,50.65,77.97,56.540000000000006,50.53,59.74999999999999,58.550000000000004,54.47,41.059999999999995,49.51,54.870000000000005,63.77,56.910000000000004,48.85,61.709999999999994,53.339999999999996,32.95,60.22,50.24,58.6,66.0,66.41,67.36,48.34,55.55000000000001,45.97,62.07000000000001,49.93000000000001,24.29,59.419999999999995,39.11,67.38,61.27,40.29,30.32,50.9,74.97,55.24,43.589999999999996,49.14,56.6,66.14,59.76,53.91,62.32000000000001,64.14,59.379999999999995,58.79,42.230000000000004,71.49,51.67,37.83,68.11,39.02,42.14999999999999,58.239999999999995,49.800000000000004,35.54,57.42,57.82,46.83,64.12,41.47,57.230000000000004,67.09,55.88,54.55,48.31,49.17,55.510000000000005,45.73,47.64,70.64,33.379999999999995,50.25,55.25,66.72,56.86,55.62,46.58,58.1,71.97,41.239999999999995,59.18,47.4,65.56,56.260000000000005,43.489999999999995,64.02000000000001,52.21,48.99,39.33,65.03,36.92,54.01,64.47999999999999,57.61,59.39999999999999,49.92999999999999,47.730000000000004,47.28,53.79,56.56999999999999,64.77000000000001,80.3,23.97,60.33,66.00999999999999,43.129999999999995,67.07,61.709999999999994,43.379999999999995,62.81,42.800000000000004,48.379999999999995,66.86,67.94,54.86,57.21,58.83,66.54,56.61,52.949999999999996,42.3,58.879999999999995,47.55,43.94,60.17,54.67,46.46,64.5,38.33,40.68,63.83,70.55,63.209999999999994,52.260000000000005,46.24,55.32,65.63000000000001,69.53999999999999,50.25,52.11,57.239999999999995,64.02,60.36,60.449999999999996,58.82,50.980000000000004,46.050000000000004,54.66,49.82,46.98,58.81,59.81,45.03,43.45,59.48,62.6,41.68,42.699999999999996,62.32,43.43000000000001,59.82,39.339999999999996,59.26,54.81,62.260000000000005,48.0,60.21,54.41,45.0,43.0,62.02,66.97,65.95,57.42,47.11,62.239999999999995,55.41,45.370000000000005,36.54,64.08,47.540000000000006,54.08,55.92,64.92999999999999,57.44,66.16,53.91,68.98,50.260000000000005,47.0,42.56,56.31,26.619999999999997,69.99,67.53999999999999,61.8,44.69,59.49,52.61,56.650000000000006,64.49,68.14,38.989999999999995,44.09,60.36,50.040000000000006,70.7,56.370000000000005,41.5,44.6,39.529999999999994,45.83,63.160000000000004,70.88,54.4,48.29,34.74,55.24,61.53,61.74,58.800000000000004,41.41,48.42,54.75,42.11,59.03,54.87,54.37,49.85,53.85,49.1,57.64,49.71,61.77000000000001,58.13,55.07,67.52,47.63,58.38000000000001,43.529999999999994,68.01,60.03,48.57999999999999,63.58,61.01,51.84,50.440000000000005,49.81,34.980000000000004,54.35,49.82,75.83,33.14,48.49,59.17,56.919999999999995,66.39,56.88,48.92,60.370000000000005,63.69,60.580000000000005,44.589999999999996,46.69,38.16,63.230000000000004,54.269999999999996,54.28,53.1,58.64,48.36,49.55,66.69,59.63999999999999,69.06,46.33,60.07,42.519999999999996,51.43,60.72,59.62,47.17,64.19,60.900000000000006,52.910000000000004,57.99999999999999,44.260000000000005,71.02,47.06,56.43,61.81,66.0,70.98,53.78,45.709999999999994,45.82,55.5,39.839999999999996,63.02,39.120000000000005,45.94,46.04,54.68000000000001,69.7,67.1,53.2,44.2,61.43000000000001,62.43000000000001,66.95,59.28,54.730000000000004,44.36,45.370000000000005,59.35,66.42999999999999,66.03,47.96,66.05,62.42,59.25000000000001,50.48,62.31,68.93,52.49,30.72,75.42999999999999,47.92,55.74,57.61,59.53,56.34,49.3,59.01,65.10000000000001,53.879999999999995,68.81,56.16,39.73,61.57,69.94,49.67999999999999,48.24,62.88,59.78,72.92999999999999,68.00999999999999,49.83,78.98,61.809999999999995,60.92,31.08,55.99,56.22,53.61,59.0,69.43,57.81,61.63999999999999,62.33,55.69,47.669999999999995,55.84,68.86,51.199999999999996,64.82000000000001,60.330000000000005,53.73,59.800000000000004,62.64000000000001,45.72,55.68,49.87,65.15,50.25000000000001,50.94,67.69,62.28000000000001,68.08,37.42,53.77,54.31,69.12,59.39,50.72,64.79,53.39,62.91,46.879999999999995,64.11,50.279999999999994,52.73,43.88999999999999,57.58,63.44,62.269999999999996,56.48,45.69,69.68,59.449999999999996,46.690000000000005,61.42,49.510000000000005,67.15,64.83,59.33,69.32,50.93000000000001,44.88,54.08,44.07,54.0,58.949999999999996,59.05,62.41000000000001,40.12,53.67,48.519999999999996,50.870000000000005,47.68,66.24000000000001,41.87,61.78,61.97,67.97,50.309999999999995,57.66,63.16,38.3,56.17999999999999,43.0,56.42999999999999,59.040000000000006,49.64,54.39,53.769999999999996,50.379999999999995,48.98,57.43000000000001,60.94,63.93,56.18,73.31,63.059999999999995,83.78000000000002,57.53,53.3,60.589999999999996,67.14,34.5,51.49,42.53,62.3,64.04,47.72,69.11999999999999,56.410000000000004,60.809999999999995,38.480000000000004,46.330000000000005,63.59,77.08,59.2,52.58,48.46,47.43,46.400000000000006,47.08,62.370000000000005,55.669999999999995,52.19,60.15,35.32,54.26,58.72,56.14,65.47,67.19999999999999,50.199999999999996,68.48,47.32,56.05,58.36,48.010000000000005,62.75,65.6,32.29,54.9,64.67,50.059999999999995,63.71,47.910000000000004,56.1,65.46,53.730000000000004,54.940000000000005,46.18,48.730000000000004,40.64,45.98,65.82,57.42,48.800000000000004,43.93000000000001,59.36,54.88999999999999,64.77,65.55000000000001,39.84,42.089999999999996,39.61,47.22,61.01,38.980000000000004,59.49,77.6,56.489999999999995,63.870000000000005,55.690000000000005,66.94,66.56,68.19,45.04,49.46,60.43,56.72,55.199999999999996,47.34,52.54,57.4,44.2,68.73,40.14,67.75,50.57,69.06,61.07,45.29,59.61,50.27,46.370000000000005,57.46000000000001,66.09,59.480000000000004,65.03999999999999,74.07,56.75000000000001,45.89999999999999,46.959999999999994,49.25,67.29,54.24,58.12,58.05,63.43,59.339999999999996,46.879999999999995,47.260000000000005,50.03,48.03,47.089999999999996,51.46,54.36,53.15,67.46000000000001,46.09,41.38000000000001,56.349999999999994,53.260000000000005,56.6,54.59,52.36,49.849999999999994,70.89999999999999,48.339999999999996,51.62,63.220000000000006,62.730000000000004,66.28999999999999,46.75,47.21,45.279999999999994,64.92,46.14,49.25,62.74,55.5,47.96,44.589999999999996,53.22,65.86,58.17,61.89,55.129999999999995,61.099999999999994,43.629999999999995,43.03,69.15,51.42,65.77,66.11999999999999,83.5,62.98,63.269999999999996,50.589999999999996,66.07,65.72999999999999,53.87,65.41,38.67,57.540000000000006,46.69,67.21,46.53,57.410000000000004,53.81,69.9,55.43000000000001,60.269999999999996,53.6,58.41,68.36,77.92,62.74,33.55,55.91,52.330000000000005,56.75,59.42,64.5,48.769999999999996,44.31,53.7,59.06,58.18,64.68,50.59,70.05,36.88,52.56,57.17,55.46,57.28,58.54,51.959999999999994,57.85,49.709999999999994,60.94,49.37,69.92,59.309999999999995,38.69,70.28999999999999,67.22999999999999,62.559999999999995,71.24,46.23,58.31,64.25,80.03,44.82,56.21,52.94,65.32,55.62,46.49,45.11000000000001,49.0,61.66,46.709999999999994,54.879999999999995,68.54,34.8,50.830000000000005,58.769999999999996,60.300000000000004,52.94,65.42999999999999,53.120000000000005,49.43,48.93000000000001,58.51,53.300000000000004,51.4,60.21000000000001,48.089999999999996,55.42,47.09,61.730000000000004,47.82000000000001,47.89,70.34,30.619999999999997,63.67,39.96,43.870000000000005,53.95,66.42,60.47999999999999,52.28,64.59,40.56999999999999,63.7,45.64,56.769999999999996,51.65,58.6,58.790000000000006,59.07,45.28,48.589999999999996,50.650000000000006,64.11,67.87,62.66000000000001,38.57,47.67,53.480000000000004,55.629999999999995,53.03,55.17,58.089999999999996,63.71999999999999,57.589999999999996,61.0,64.73,48.23,40.55,45.620000000000005,58.47,55.92999999999999,56.35,60.07,58.760000000000005,58.14,69.42999999999999,62.84,49.379999999999995,32.86,54.589999999999996,68.59,62.79,66.31,63.0,64.0,46.129999999999995,69.32,40.36,66.69,62.83,60.76,66.4,59.83,65.47,57.22,27.03,61.72,58.97,33.92,28.89,49.02,55.63,54.620000000000005,41.29,56.65,52.53,50.230000000000004,72.2,55.86000000000001,59.46000000000001,54.81,59.09,41.78,45.57,62.37,37.88,69.68,62.23,64.41,49.13000000000001,50.14,60.349999999999994,63.09,51.68,55.099999999999994,67.02,53.54,52.39,56.190000000000005,57.35,63.44,60.59,45.13,58.67999999999999,66.28,38.230000000000004,55.809999999999995,43.07000000000001,67.19,65.72,60.94,71.22,51.34,58.34,61.22,56.65,59.68,65.34,43.97,55.620000000000005,52.260000000000005,43.49,57.71,48.12,48.76,56.260000000000005,67.88999999999999,29.880000000000003,57.25,64.64,46.93000000000001,47.080000000000005,66.29,59.53,60.760000000000005,50.52,71.30000000000001,60.60999999999999,70.34,43.82000000000001,40.43,56.8,44.129999999999995,62.68000000000001,54.54,55.81999999999999,66.16000000000001,65.64,60.6,57.33,63.19,58.02,56.209999999999994,66.66,64.69,52.64,56.709999999999994,55.769999999999996,46.81,52.24,58.59,80.19,61.480000000000004,41.910000000000004,63.59,55.82,54.019999999999996,69.02,53.580000000000005,61.169999999999995,56.23,55.16,53.03,63.870000000000005,56.120000000000005,71.22,60.839999999999996,66.75,52.66,44.78,50.43,50.95,55.7,46.28999999999999,57.940000000000005,56.33,59.0,57.120000000000005,53.64,39.51,59.470000000000006,63.07,53.85,60.089999999999996,63.86,51.760000000000005,68.85,57.970000000000006,60.57,63.809999999999995,60.21999999999999,53.769999999999996,50.43,66.91,72.16999999999999,58.64,55.169999999999995,51.58,45.33,66.15,66.07,58.58,62.400000000000006,58.62,69.22999999999999,59.120000000000005,59.480000000000004,39.76,67.3,62.59,55.21,62.09,53.6,52.82000000000001,58.07,43.59,66.16,51.29,32.95,60.22,56.59,49.42,52.459999999999994,53.95,58.99,54.52,48.31,54.94,50.46,57.25,63.61,41.26,56.06,56.900000000000006,65.33,50.41,55.83,70.99000000000001,45.29,45.040000000000006,43.519999999999996,65.01,54.76,46.519999999999996,46.38,65.94,52.92,43.150000000000006,64.61,59.970000000000006,46.79,41.49,41.980000000000004,57.43000000000001,62.74,65.22,64.24,64.96000000000001,61.49,65.96000000000001,44.17,53.349999999999994,58.47,66.48,56.660000000000004,53.03,67.62,53.150000000000006,64.46,57.54,52.32,47.71,61.1,55.58,56.01,45.14,61.03,47.26,64.83,68.72,52.33,52.63,66.16,62.11000000000001,56.42,49.919999999999995,42.49,47.470000000000006,60.39,68.64,44.14,50.45,54.69,49.45,47.089999999999996,61.34,57.17,50.849999999999994,51.12,57.37,60.07,57.2,52.92999999999999,45.92,61.61,51.46,40.99,62.78,45.32,35.519999999999996,50.03,55.09,70.21000000000001,50.01,55.46,56.92,59.15,48.12,62.980000000000004,61.39,64.58,56.36000000000001,54.089999999999996,51.839999999999996,55.129999999999995,48.0,46.42,41.2,44.129999999999995,57.41,60.1,49.540000000000006,67.37,48.03,50.28,56.09,67.23,55.050000000000004,58.83,49.019999999999996,63.01,53.739999999999995,44.64,45.78,57.220000000000006,44.32,59.14000000000001,49.39,56.169999999999995,59.660000000000004,66.72,43.76,51.32,47.34,61.699999999999996,40.7,58.21,49.22,56.33,46.58,41.019999999999996,52.05,45.03,59.1,47.650000000000006,56.010000000000005,66.96000000000001,51.71,52.059999999999995,58.15,74.22,61.28,63.5,51.66,48.25,56.13,58.779999999999994,61.529999999999994,43.339999999999996,51.47,65.37,43.7,45.84,67.12,62.24,66.22,46.82,32.56999999999999,35.81,60.21,77.21000000000001,54.59,45.17,33.589999999999996,29.1,64.0,67.09,49.28,58.81,67.29,66.86,56.35,48.51,41.6,65.50999999999999,52.290000000000006,65.2,62.96,46.49,44.81,45.97,48.669999999999995,60.86,67.8,57.910000000000004,57.260000000000005,78.52,64.06,79.84,42.89,61.18,68.22,58.519999999999996,60.35,43.01,48.400000000000006,53.35,59.730000000000004,65.09,54.74999999999999,68.07,47.82,48.64,58.86,46.95,57.95,63.73,57.54,47.63,52.88999999999999,66.12,47.519999999999996,48.11000000000001,68.50999999999999,59.42,53.81,68.65,68.09,34.93,38.92,57.809999999999995,58.129999999999995,60.410000000000004,63.5,54.089999999999996,49.22,62.290000000000006,57.940000000000005,54.559999999999995,50.55,44.67,39.04,56.75,45.839999999999996,64.17999999999999,67.42999999999999,50.39,54.300000000000004,60.8,62.449999999999996,54.91,55.15,70.9,58.71,36.79,48.25,51.51,63.519999999999996,54.510000000000005,53.73,66.94,49.0,38.06,57.48,52.55,64.33000000000001,47.38999999999999,68.87,61.86,60.67,52.22999999999999,55.0,64.56,38.0,59.15,61.12,58.980000000000004,56.57,46.809999999999995,55.89,37.65,68.08,66.76,62.089999999999996,60.95,61.3,66.16,56.660000000000004,67.11999999999999,66.9,67.24,50.76,59.529999999999994,58.18,64.22,57.04,46.690000000000005,59.89999999999999,50.39,64.45,55.60999999999999,50.56,71.63,48.14999999999999,52.21,56.43000000000001,45.349999999999994,46.79,61.53,65.56,57.029999999999994,62.25,43.18000000000001,43.63,58.28,55.24,52.95,53.55,52.18,49.76,53.910000000000004,63.48,51.31,58.370000000000005,36.83,57.309999999999995,63.25,58.589999999999996,58.269999999999996,60.480000000000004,58.34,59.83,34.05,56.669999999999995,51.98,55.910000000000004,61.69,47.64,61.68,61.82,68.75,62.3,63.059999999999995,61.50999999999999,56.08,38.95,56.0,48.21,59.35,41.07,50.510000000000005,61.68,46.480000000000004,54.3,53.21000000000001,65.94000000000001,51.470000000000006,58.95,66.81,61.81,55.55,70.83,47.010000000000005,70.65,60.45,48.35,49.1,45.709999999999994,55.019999999999996,59.92000000000001,50.75999999999999,50.190000000000005,63.709999999999994,78.24,62.91,58.46,61.0,67.98,66.39999999999999,63.19,57.78,62.66,59.5,49.09,51.07,44.699999999999996,70.35000000000001,58.3,45.39,55.34,70.76,43.370000000000005,51.56,50.910000000000004,65.16,68.82,67.47,55.53,65.24,54.99,52.19,52.94,53.559999999999995,45.089999999999996,69.73,53.160000000000004,65.7,67.06,42.739999999999995,47.69,67.43,58.17,28.42,63.599999999999994,58.580000000000005,61.81,68.19000000000001,47.269999999999996,60.88,61.77000000000001,50.459999999999994,58.54,64.92,69.23,43.56999999999999,71.36,60.51,60.11,60.92,56.82,48.81,48.45,33.25,57.95,59.31,55.54,60.050000000000004,68.72,48.03,63.24,51.839999999999996,44.760000000000005,57.09,63.93000000000001,48.65,80.94,49.51,63.709999999999994,44.76,59.900000000000006,64.49000000000001,68.95,43.879999999999995,59.330000000000005,56.96,56.85,61.68,58.410000000000004,40.01,57.410000000000004,47.53,65.25,55.400000000000006,54.71,56.63,42.21,44.489999999999995,63.2,63.68000000000001,61.2,56.73,63.43000000000001,35.010000000000005,42.42,59.36000000000001,61.67,44.96,64.17,36.34,54.58,50.71,47.790000000000006,64.52,66.72,46.6,53.49,51.81999999999999,72.89,56.29,46.64,67.97,42.59,54.22,61.39,45.41,61.31,54.09,51.89,60.24,60.83,46.35,68.2,59.9,61.67,46.57,51.190000000000005,66.17,44.22,67.36,55.33,59.849999999999994,38.2,65.56,46.69,60.260000000000005,51.37,55.28,29.669999999999998,69.7,52.72,53.52,54.480000000000004,50.78999999999999,54.61,66.22999999999999,66.87,61.35999999999999,65.19,67.01,65.7,56.99,49.86,63.45,56.17,68.73,64.07000000000001,47.519999999999996,40.980000000000004,65.26,57.11000000000001,56.099999999999994,59.13,48.07,57.57,52.25000000000001,52.73,64.3,50.72,42.24,56.2,72.17999999999999,52.22,44.62,70.57000000000001,59.290000000000006,51.44,55.59,61.37,60.32,48.36,56.699999999999996,43.199999999999996,54.61,57.75,63.169999999999995,60.52,50.07,63.04,64.91,59.07000000000001,52.49,33.61,68.60000000000001,43.25,60.37,54.87,66.2,56.71,44.28,45.73,59.27,60.900000000000006,46.26,65.61,65.36,35.26,62.44,58.400000000000006,58.26,50.059999999999995,63.57,61.480000000000004,52.230000000000004,78.13,40.9,57.72,67.49000000000001,66.56,55.92,60.5,52.39,35.93000000000001,46.25,48.81,58.86,55.41,51.35,33.480000000000004,56.93,60.43000000000001,59.67999999999999,51.86,46.769999999999996,60.97,38.309999999999995,30.5,52.57,55.709999999999994,56.160000000000004,58.5,45.62,61.04,49.04,57.82,60.55,57.16,47.550000000000004,57.760000000000005,61.88,52.25,58.17,52.71,65.37,59.93,59.69,55.73,43.61,64.51,41.72,47.53,55.089999999999996,61.05,57.129999999999995,64.00999999999999,68.86,58.870000000000005,69.3,50.11,51.98,41.58,60.800000000000004,74.31,63.61,53.34,65.27000000000001,61.04,62.05,56.33,42.85,32.21,47.45,53.85,51.36,46.97,47.720000000000006,58.06,47.629999999999995,59.879999999999995,48.589999999999996,50.61,49.050000000000004,51.42,43.019999999999996,39.4,66.22,47.010000000000005,59.959999999999994,38.06,49.9,64.7,68.42,49.81,66.47,51.69,61.89,45.93000000000001,50.43000000000001,55.42,41.3,56.720000000000006,65.41,56.07000000000001,63.129999999999995,48.69,63.6,59.910000000000004,53.129999999999995,64.18,58.67,61.41,60.68,59.78999999999999,61.839999999999996,69.76,61.61,59.53,66.71000000000001,43.669999999999995,58.99,55.43,63.88,47.25,57.46,59.89,56.11,63.33,55.99999999999999,52.36,49.93,33.75,57.13,48.44,55.06999999999999,52.4,42.03,68.37,30.9,56.83,44.800000000000004,55.629999999999995,70.81,35.95,48.99,49.959999999999994,51.68,54.08,58.56999999999999,27.92,55.8,53.06,52.71,61.06,70.63,54.02,49.54,54.75,62.349999999999994,49.77,51.24,72.42,51.67],\"type\":\"scatter3d\"},{\"hovertemplate\":\"churn=True<br>total_calls=%{x}<br>total_minutes=%{y}<br>total_charges=%{z}<extra></extra>\",\"legendgroup\":\"True\",\"marker\":{\"color\":\"#EF553B\",\"symbol\":\"circle\"},\"mode\":\"markers\",\"name\":\"True\",\"scene\":\"scene\",\"showlegend\":true,\"x\":[331,292,274,327,270,283,311,282,301,290,286,323,331,307,337,277,277,356,305,350,303,282,325,283,329,278,258,317,269,298,393,334,295,305,268,366,260,259,262,240,285,277,277,315,304,294,276,326,351,318,330,274,302,333,243,291,327,337,289,244,294,299,219,294,313,277,380,299,290,318,292,260,290,228,263,275,293,320,282,261,342,288,276,348,293,285,372,288,330,327,331,269,278,274,260,380,320,307,349,342,355,265,303,324,305,323,334,236,283,318,340,329,314,331,268,348,336,367,358,299,334,313,331,253,312,319,277,276,323,254,282,361,267,281,294,292,281,327,249,310,298,332,304,293,218,241,370,277,296,308,369,278,309,294,263,280,271,318,311,339,313,280,278,313,308,284,312,317,354,238,396,353,287,290,283,295,301,313,284,236,275,311,251,300,340,407,295,264,327,261,293,334,260,285,288,341,268,261,293,330,300,378,353,329,319,286,313,314,355,292,297,298,326,355,343,304,364,314,355,321,258,329,298,302,298,310,334,239,297,247,307,328,309,316,223,313,309,336,325,326,300,300,300,271,292,305,293,327,325,296,342,317,281,276,277,281,296,316,261,265,298,280,341,279,360,321,363,322,352,254,267,259,294,296,329,236,364,290,317,292,323,358,266,319,336,279,295,327,328,325,280,243,260,236,253,276,217,333,355,313,223,315,333,377,294,226,320,351,304,290,309,326,272,300,350,306,299,289,310,241,303,298,336,311,293,257,268,299,314,259,315,316,251,315,253,208,239,331,291,303,308,325,285,337,351,290,306,356,223,279,288,322,309,326,224,371,249,323,305,299,272,269,283,228,304,259,257,263,334,348,298,337,310,323,259,302,353,278,339,315,353,319,341,277,311,296,316,273,283,243,339,308,278,312,304,299,235,256,351,389,258,346,306,334,311,299,279,259,348,270,261,271,273,263,284,262,308,283,322,321,315,223,314,300,304,329,332,327,268,328,309,360,283,254,289,333,260,292,295,302,284,287,354,329,257,310,365,284,250,294,297,275,271,272,325,288,296,223,372,329,263,342,290,265,326,272,285,289,305,342,352,293,271,270,348,327,346,349,300,294,305,303,285,314,232,280,320,270,249,326,299,240,280,313,305,237,328,352,314,300,292,322,274,283,243,318,312,339,263,332,241,255,315,226,317,356,271,277,267,315,324,344,318,273,263,310,257,259,285,318,315,334,305,298,270,256,271,258,267,348,273,326,280,238,306,292,313,285,286,337,330,242,300,318,258,292,303,332,255,256,248,354,253,295,291,240,278,318,280,288,305,253,287,316,318,298,314,332,301,296,245,352,320,310,332,293,254,294,298,259,302,271,336,256,309,261,328,247],\"y\":[566.4000000000001,811.3000000000001,441.9,782.2,499.2,454.9,496.6,751.4000000000001,311.7,502.5,694.4,590.3,588.7,732.7,590.0,672.4,383.0,559.8,594.0,718.6999999999999,333.7,684.5,747.9,659.0,539.3000000000001,492.29999999999995,554.5,464.9,527.4000000000001,876.9,738.6000000000001,754.4000000000001,645.1,734.4,718.6999999999999,463.79999999999995,652.2,648.9,752.3,601.5999999999999,650.6,601.5,589.0,539.2,543.9,705.9000000000001,674.2,753.0,670.7,528.1,666.5999999999999,575.3,651.7,635.5,492.79999999999995,646.0,771.8,540.0,589.8,474.29999999999995,756.0999999999999,699.5,471.3,738.5,682.8,784.4000000000001,802.7,711.1999999999999,519.9,813.0,628.9,748.7,610.6,729.0,583.2,767.1,757.4,644.0999999999999,423.2,695.4,544.5,656.5,439.0,527.0,656.9000000000001,690.3,566.4,769.5,502.7,713.3,667.1,483.4,753.5999999999999,585.4000000000001,484.70000000000005,714.3000000000001,705.2,467.6,841.3,540.9,551.6,722.9,674.0,587.7,717.4,483.29999999999995,768.5,871.6999999999999,709.3000000000001,664.3,698.5,663.8,372.70000000000005,707.0999999999999,493.4,602.7,539.9000000000001,562.6,677.2,529.0,739.5,511.2,618.7,772.8,451.8,654.5,611.2,593.7,674.0999999999999,479.5,509.1,758.5,684.5,582.7,715.2,636.5,629.4000000000001,450.09999999999997,463.6,449.5,682.8000000000001,635.5,502.8,684.2,326.7,503.4,747.3,715.7,765.9,514.6,772.9000000000001,691.5,464.5,568.0,535.8,607.5,702.1000000000001,557.3000000000001,593.4,748.9,400.0,492.3,720.3,350.9,649.1,743.7,807.8,492.2,504.79999999999995,506.7,657.3,473.1,506.8,523.5,693.0,805.2,682.0,718.4000000000001,588.5,744.4000000000001,639.2,498.5,536.1,716.9,683.5,736.7,544.8,547.7,591.7,738.6999999999999,481.6,521.9,707.5,600.7,713.5,611.8,529.2,708.5,587.9,681.3,663.2,610.0999999999999,499.8,757.7,491.29999999999995,685.0,486.2,548.8000000000001,790.2,566.9,744.6,430.9,465.6,553.3,777.5999999999999,689.2,538.5,503.1,540.9,517.2,745.7,785.5999999999999,541.8,533.9,464.5,709.6,618.8,590.8,614.5,536.5,657.7,678.8,783.3,535.0,747.3,756.1,720.6,688.0,692.6,807.5999999999999,714.1,601.5,737.0999999999999,507.1,788.2,582.3,724.0,743.9000000000001,453.1,678.5,711.8,695.1,547.3,602.3,622.1,785.7,559.0,679.1,724.3,717.6999999999999,600.1,588.7,678.1,682.4000000000001,747.9,464.6,709.5,588.3,748.0,486.29999999999995,529.7,540.5,571.1,688.0,832.6,683.1999999999999,588.5999999999999,562.3,508.8,704.9,460.1,534.9,617.8,654.3,584.0,509.00000000000006,503.9,550.4,680.0999999999999,508.8,532.3,539.5,521.9,482.3,686.2,438.79999999999995,721.7,701.7,704.3999999999999,656.3,594.1,660.6,562.0999999999999,739.3,766.2,712.1999999999999,738.4000000000001,458.29999999999995,676.1999999999999,613.0,777.1999999999999,692.1,569.5,563.9,705.7,690.5999999999999,658.1,554.2,696.2,697.1999999999999,703.7,708.9,677.1,705.5,459.70000000000005,789.4000000000001,677.4,505.4,659.0,713.5,525.4,599.4,640.0,645.5,451.30000000000007,748.7,558.1999999999999,506.3,786.8,725.0999999999999,769.2,533.9,713.2,653.9,541.1,761.7,778.1999999999999,814.8000000000001,518.6,680.1,700.2,773.2,736.9,503.9,704.5999999999999,725.0,543.5,550.5,553.1,702.9,389.0,462.5,722.0,716.0,712.5999999999999,406.20000000000005,497.9,675.8,566.0999999999999,719.1,546.7,728.5,490.5,743.3,482.6,741.9000000000001,564.1,595.7,794.2,511.99999999999994,685.3,788.2,494.5,776.3,422.4,661.5,490.9,563.2,849.4,716.6,721.2,719.7,612.9,423.4,543.0,344.7,619.5999999999999,748.3,748.0,617.3,519.1,545.7,639.0,591.2,456.5,767.1,594.7,490.09999999999997,560.4,806.0999999999999,827.4,736.4,650.4000000000001,437.7,486.9,717.9,508.1,740.3,837.8,588.3,779.9999999999999,508.9,588.0999999999999,777.8000000000001,523.6,605.4,751.4,684.6,679.5,542.6,552.1,531.0,690.3,471.9,733.4,653.1,762.4000000000001,643.7,704.5,603.0,613.8,673.5,608.3,662.3,757.0000000000001,519.3,788.0,707.5,806.6999999999999,674.4,662.0999999999999,436.2,663.1,478.5,702.4000000000001,700.8000000000001,547.0,699.8,706.2,517.5999999999999,534.3,644.0,724.4,491.59999999999997,707.5,646.2,641.1,809.5,446.1,686.5999999999999,498.2,785.5,568.5,750.5,510.6,674.9,452.20000000000005,834.0999999999999,575.9,476.5,649.3000000000001,525.8,625.2,750.0,704.0,538.4,495.0,537.8,657.0,584.3,696.2,546.0,555.1,760.9000000000001,565.5,758.5,684.8000000000001,642.0,780.5,797.2,580.7,693.3,769.7,692.0,658.0999999999999,501.5,633.1,449.9,689.5,468.5,500.0,553.1,718.2,520.5,767.0,732.8999999999999,610.5,787.4000000000001,583.3,507.0,587.8000000000001,486.9,732.9,818.6999999999999,519.8,736.3,481.2,623.8,534.2,602.5,452.70000000000005,465.99999999999994,503.1,524.5,395.9,601.6,503.6,628.2,772.5,585.5,733.6,825.5999999999999,584.1,763.2,723.7,384.5,698.5,738.4000000000001,503.1,539.4,508.0,663.4,672.0,519.2,509.0,686.5,470.20000000000005,488.40000000000003,747.3000000000001,707.5,660.0999999999999,709.0,655.8,411.29999999999995,639.0999999999999,734.4,490.4,521.5,706.1,626.7,668.2,500.0,585.4,737.1,565.6,490.4,723.4000000000001,750.8,501.90000000000003,702.8,828.6,733.0,682.8,501.79999999999995,680.1,719.1999999999999,557.7,667.3,531.5,771.9,494.50000000000006,526.1,734.5000000000001,497.9,433.7,663.6,734.6,849.4],\"z\":[50.77,90.83000000000001,34.48,76.49,52.26,48.279999999999994,51.47,78.59,24.81,48.55,70.89,59.63,61.379999999999995,72.67,61.35,74.37,32.38,54.5,54.72,83.62,27.84,78.68,78.24999999999999,73.82999999999998,49.52,44.41,49.34,35.97,52.400000000000006,87.88,77.15,78.7,74.68,72.94,76.36,44.790000000000006,63.04,67.46,78.49,58.89,61.42,63.99000000000001,56.620000000000005,51.3,52.32,73.47999999999999,72.16,76.89,73.1,52.739999999999995,65.54,50.580000000000005,63.56,55.36,52.82000000000001,64.48,67.17,53.64,68.4,36.96,73.85,76.4,46.349999999999994,79.57,62.53,74.87,76.19,73.0,45.01,87.03,64.59,77.89,62.41,73.94,53.71,79.81,74.97,69.92,36.71,73.29,49.66,68.13,42.29,52.540000000000006,71.11,75.13999999999999,52.83,80.74,47.33,80.6,60.230000000000004,55.16,76.32,56.050000000000004,43.7,82.41,72.65,47.87,85.29,48.37,53.44,75.15,59.68000000000001,58.239999999999995,81.75,45.019999999999996,79.98,92.56,75.93,72.03999999999999,65.67999999999999,66.17,35.32,80.99,48.43,62.16,53.019999999999996,51.36,63.96,48.92,75.67000000000002,47.9,70.86,74.24,48.71,69.67,65.23,53.849999999999994,61.68,55.040000000000006,43.150000000000006,76.28999999999999,72.55,48.63,75.21000000000001,71.66000000000001,59.339999999999996,37.57,42.940000000000005,38.03,77.6,64.52,49.96,72.63,21.09,46.879999999999995,78.58,68.26,75.11999999999999,44.9,75.17,73.14,42.32,46.089999999999996,49.66,57.459999999999994,76.30000000000001,49.06,61.3,75.0,31.259999999999998,47.73,71.73,27.130000000000003,60.83,70.98,81.73,43.78,49.93000000000001,49.91,74.63,53.78,48.02,48.37,70.58,85.8,73.66,73.28999999999999,49.65,81.11,73.21000000000001,45.24,47.44,71.84,74.78,78.78999999999999,45.41,49.78,60.83,74.05,47.089999999999996,47.55,71.97,55.55,76.86,57.37,42.71000000000001,74.44,53.22,63.23,72.11,58.64,50.82000000000001,73.32,46.91,72.75,48.02,45.08,76.36,51.76,77.05,43.19,45.72,60.44,76.4,73.08,57.23,51.830000000000005,49.92,40.76,76.33,82.58,47.33,49.19,45.61,72.82,64.21,52.78,65.74,56.38,72.71,73.47999999999999,82.33,50.64,71.99,76.91,73.82,73.64,70.0,82.79999999999998,77.44999999999999,61.26,73.65,48.269999999999996,81.93,55.14,73.5,73.3,40.870000000000005,72.24000000000001,72.46000000000001,75.28999999999999,41.16,51.89,69.5,77.45,53.230000000000004,60.46,75.06,71.58,53.58,54.5,71.11999999999999,73.1,81.46,54.120000000000005,72.98,53.61,77.04,48.04,51.69,53.61,57.01,73.55,83.28,78.02,60.37,57.93000000000001,53.48,72.95,47.06999999999999,57.38,61.260000000000005,76.83,51.120000000000005,52.99000000000001,41.3,48.76,54.269999999999996,49.150000000000006,53.379999999999995,42.33,47.43,40.980000000000004,64.45,40.64,78.55,70.47,74.91000000000001,72.57,72.58,75.93,48.91,72.87,85.78,76.4,72.55,47.61,78.55,63.24,81.2,79.14,50.42,56.88999999999999,69.38000000000001,72.04,74.22,51.07,70.48,72.24,72.78,74.43,72.58000000000001,71.08,41.03,79.04,67.21,49.19,69.57000000000001,71.74,54.080000000000005,51.41,68.09,69.47,46.98,83.73,49.83,43.64,77.24,62.17,80.67,45.24,74.51,72.81000000000002,46.31999999999999,77.26,79.51,82.0,47.21,73.74,77.82000000000001,76.99,72.48,50.2,72.34,72.82000000000001,61.150000000000006,55.07,50.18,70.89,37.55,43.65,73.08000000000001,74.49,71.74000000000001,40.43,41.989999999999995,73.5,52.8,75.82000000000001,52.49,78.44,45.51,72.71,46.83,78.67,52.260000000000005,48.879999999999995,85.24000000000001,46.64,67.67,74.33,47.33,75.13,36.67,68.88,49.85,60.709999999999994,86.84,71.62,73.28,74.96000000000001,65.57,39.59,46.78999999999999,39.17,71.14,76.22,79.47999999999999,50.72,53.71000000000001,55.02,71.85000000000001,57.809999999999995,45.89,85.28,51.54,46.44,51.28,80.8,81.17,72.24,73.65,46.64,46.67,72.39,52.36,72.10999999999999,89.39,64.97999999999999,79.24,53.27,51.07000000000001,84.53,52.010000000000005,57.19,74.82000000000001,76.79,75.08,53.870000000000005,45.1,47.67,73.67,40.28,73.53999999999999,61.93000000000001,74.25999999999999,72.64,74.35,57.53,72.52,76.51,58.57000000000001,63.44,82.69999999999999,52.93,73.26,76.91000000000001,77.33000000000001,72.62,56.14,39.160000000000004,75.63000000000001,41.760000000000005,66.75,72.63,54.24,74.66,80.33999999999999,56.65,50.56999999999999,69.84,72.66,49.059999999999995,77.28,67.0,61.12,75.69,36.72,70.2,53.66,80.56,53.949999999999996,72.59,47.47,75.07000000000001,43.66,89.75,47.81,47.01,61.58,43.57000000000001,55.54,76.17,72.74000000000001,46.65,48.38,59.48,74.19,54.45,71.28,59.41,62.96,81.8,51.95,77.1,77.11,65.27000000000001,76.41,76.78999999999999,59.13,65.93,73.44,60.56,71.52000000000001,54.7,58.71,35.86,72.72,40.85,50.910000000000004,62.84,73.87,53.7,73.83999999999999,77.86999999999999,59.269999999999996,72.68,56.809999999999995,48.82,59.55,42.7,77.75999999999999,87.13,46.300000000000004,71.74,51.22,71.59,53.28999999999999,63.85999999999999,46.36,48.45,62.120000000000005,53.49,43.43,52.01,45.23,67.08,77.01,56.02,74.81,89.86,52.4,75.5,76.14000000000001,38.05,71.49,77.97999999999999,36.98,50.91,44.96,71.75,71.32,44.589999999999996,39.35,73.33,53.760000000000005,39.15,78.21,71.53999999999999,65.64,74.72,72.86,38.03,62.559999999999995,75.81,50.699999999999996,54.07,72.17999999999999,53.46,71.9,46.37,50.86,73.57000000000001,51.580000000000005,46.4,73.86,77.05000000000001,54.39000000000001,78.07000000000001,80.76,76.13,76.81,49.59,57.9,80.81,55.82,76.06,49.37,81.98,50.24,46.78,77.68,46.26,39.36,78.15,73.99,83.41],\"type\":\"scatter3d\"}],                        {\"template\":{\"data\":{\"histogram2dcontour\":[{\"type\":\"histogram2dcontour\",\"colorbar\":{\"outlinewidth\":0,\"ticks\":\"\"},\"colorscale\":[[0.0,\"#0d0887\"],[0.1111111111111111,\"#46039f\"],[0.2222222222222222,\"#7201a8\"],[0.3333333333333333,\"#9c179e\"],[0.4444444444444444,\"#bd3786\"],[0.5555555555555556,\"#d8576b\"],[0.6666666666666666,\"#ed7953\"],[0.7777777777777778,\"#fb9f3a\"],[0.8888888888888888,\"#fdca26\"],[1.0,\"#f0f921\"]]}],\"choropleth\":[{\"type\":\"choropleth\",\"colorbar\":{\"outlinewidth\":0,\"ticks\":\"\"}}],\"histogram2d\":[{\"type\":\"histogram2d\",\"colorbar\":{\"outlinewidth\":0,\"ticks\":\"\"},\"colorscale\":[[0.0,\"#0d0887\"],[0.1111111111111111,\"#46039f\"],[0.2222222222222222,\"#7201a8\"],[0.3333333333333333,\"#9c179e\"],[0.4444444444444444,\"#bd3786\"],[0.5555555555555556,\"#d8576b\"],[0.6666666666666666,\"#ed7953\"],[0.7777777777777778,\"#fb9f3a\"],[0.8888888888888888,\"#fdca26\"],[1.0,\"#f0f921\"]]}],\"heatmap\":[{\"type\":\"heatmap\",\"colorbar\":{\"outlinewidth\":0,\"ticks\":\"\"},\"colorscale\":[[0.0,\"#0d0887\"],[0.1111111111111111,\"#46039f\"],[0.2222222222222222,\"#7201a8\"],[0.3333333333333333,\"#9c179e\"],[0.4444444444444444,\"#bd3786\"],[0.5555555555555556,\"#d8576b\"],[0.6666666666666666,\"#ed7953\"],[0.7777777777777778,\"#fb9f3a\"],[0.8888888888888888,\"#fdca26\"],[1.0,\"#f0f921\"]]}],\"heatmapgl\":[{\"type\":\"heatmapgl\",\"colorbar\":{\"outlinewidth\":0,\"ticks\":\"\"},\"colorscale\":[[0.0,\"#0d0887\"],[0.1111111111111111,\"#46039f\"],[0.2222222222222222,\"#7201a8\"],[0.3333333333333333,\"#9c179e\"],[0.4444444444444444,\"#bd3786\"],[0.5555555555555556,\"#d8576b\"],[0.6666666666666666,\"#ed7953\"],[0.7777777777777778,\"#fb9f3a\"],[0.8888888888888888,\"#fdca26\"],[1.0,\"#f0f921\"]]}],\"contourcarpet\":[{\"type\":\"contourcarpet\",\"colorbar\":{\"outlinewidth\":0,\"ticks\":\"\"}}],\"contour\":[{\"type\":\"contour\",\"colorbar\":{\"outlinewidth\":0,\"ticks\":\"\"},\"colorscale\":[[0.0,\"#0d0887\"],[0.1111111111111111,\"#46039f\"],[0.2222222222222222,\"#7201a8\"],[0.3333333333333333,\"#9c179e\"],[0.4444444444444444,\"#bd3786\"],[0.5555555555555556,\"#d8576b\"],[0.6666666666666666,\"#ed7953\"],[0.7777777777777778,\"#fb9f3a\"],[0.8888888888888888,\"#fdca26\"],[1.0,\"#f0f921\"]]}],\"surface\":[{\"type\":\"surface\",\"colorbar\":{\"outlinewidth\":0,\"ticks\":\"\"},\"colorscale\":[[0.0,\"#0d0887\"],[0.1111111111111111,\"#46039f\"],[0.2222222222222222,\"#7201a8\"],[0.3333333333333333,\"#9c179e\"],[0.4444444444444444,\"#bd3786\"],[0.5555555555555556,\"#d8576b\"],[0.6666666666666666,\"#ed7953\"],[0.7777777777777778,\"#fb9f3a\"],[0.8888888888888888,\"#fdca26\"],[1.0,\"#f0f921\"]]}],\"mesh3d\":[{\"type\":\"mesh3d\",\"colorbar\":{\"outlinewidth\":0,\"ticks\":\"\"}}],\"scatter\":[{\"fillpattern\":{\"fillmode\":\"overlay\",\"size\":10,\"solidity\":0.2},\"type\":\"scatter\"}],\"parcoords\":[{\"type\":\"parcoords\",\"line\":{\"colorbar\":{\"outlinewidth\":0,\"ticks\":\"\"}}}],\"scatterpolargl\":[{\"type\":\"scatterpolargl\",\"marker\":{\"colorbar\":{\"outlinewidth\":0,\"ticks\":\"\"}}}],\"bar\":[{\"error_x\":{\"color\":\"#2a3f5f\"},\"error_y\":{\"color\":\"#2a3f5f\"},\"marker\":{\"line\":{\"color\":\"#E5ECF6\",\"width\":0.5},\"pattern\":{\"fillmode\":\"overlay\",\"size\":10,\"solidity\":0.2}},\"type\":\"bar\"}],\"scattergeo\":[{\"type\":\"scattergeo\",\"marker\":{\"colorbar\":{\"outlinewidth\":0,\"ticks\":\"\"}}}],\"scatterpolar\":[{\"type\":\"scatterpolar\",\"marker\":{\"colorbar\":{\"outlinewidth\":0,\"ticks\":\"\"}}}],\"histogram\":[{\"marker\":{\"pattern\":{\"fillmode\":\"overlay\",\"size\":10,\"solidity\":0.2}},\"type\":\"histogram\"}],\"scattergl\":[{\"type\":\"scattergl\",\"marker\":{\"colorbar\":{\"outlinewidth\":0,\"ticks\":\"\"}}}],\"scatter3d\":[{\"type\":\"scatter3d\",\"line\":{\"colorbar\":{\"outlinewidth\":0,\"ticks\":\"\"}},\"marker\":{\"colorbar\":{\"outlinewidth\":0,\"ticks\":\"\"}}}],\"scattermapbox\":[{\"type\":\"scattermapbox\",\"marker\":{\"colorbar\":{\"outlinewidth\":0,\"ticks\":\"\"}}}],\"scatterternary\":[{\"type\":\"scatterternary\",\"marker\":{\"colorbar\":{\"outlinewidth\":0,\"ticks\":\"\"}}}],\"scattercarpet\":[{\"type\":\"scattercarpet\",\"marker\":{\"colorbar\":{\"outlinewidth\":0,\"ticks\":\"\"}}}],\"carpet\":[{\"aaxis\":{\"endlinecolor\":\"#2a3f5f\",\"gridcolor\":\"white\",\"linecolor\":\"white\",\"minorgridcolor\":\"white\",\"startlinecolor\":\"#2a3f5f\"},\"baxis\":{\"endlinecolor\":\"#2a3f5f\",\"gridcolor\":\"white\",\"linecolor\":\"white\",\"minorgridcolor\":\"white\",\"startlinecolor\":\"#2a3f5f\"},\"type\":\"carpet\"}],\"table\":[{\"cells\":{\"fill\":{\"color\":\"#EBF0F8\"},\"line\":{\"color\":\"white\"}},\"header\":{\"fill\":{\"color\":\"#C8D4E3\"},\"line\":{\"color\":\"white\"}},\"type\":\"table\"}],\"barpolar\":[{\"marker\":{\"line\":{\"color\":\"#E5ECF6\",\"width\":0.5},\"pattern\":{\"fillmode\":\"overlay\",\"size\":10,\"solidity\":0.2}},\"type\":\"barpolar\"}],\"pie\":[{\"automargin\":true,\"type\":\"pie\"}]},\"layout\":{\"autotypenumbers\":\"strict\",\"colorway\":[\"#636efa\",\"#EF553B\",\"#00cc96\",\"#ab63fa\",\"#FFA15A\",\"#19d3f3\",\"#FF6692\",\"#B6E880\",\"#FF97FF\",\"#FECB52\"],\"font\":{\"color\":\"#2a3f5f\"},\"hovermode\":\"closest\",\"hoverlabel\":{\"align\":\"left\"},\"paper_bgcolor\":\"white\",\"plot_bgcolor\":\"#E5ECF6\",\"polar\":{\"bgcolor\":\"#E5ECF6\",\"angularaxis\":{\"gridcolor\":\"white\",\"linecolor\":\"white\",\"ticks\":\"\"},\"radialaxis\":{\"gridcolor\":\"white\",\"linecolor\":\"white\",\"ticks\":\"\"}},\"ternary\":{\"bgcolor\":\"#E5ECF6\",\"aaxis\":{\"gridcolor\":\"white\",\"linecolor\":\"white\",\"ticks\":\"\"},\"baxis\":{\"gridcolor\":\"white\",\"linecolor\":\"white\",\"ticks\":\"\"},\"caxis\":{\"gridcolor\":\"white\",\"linecolor\":\"white\",\"ticks\":\"\"}},\"coloraxis\":{\"colorbar\":{\"outlinewidth\":0,\"ticks\":\"\"}},\"colorscale\":{\"sequential\":[[0.0,\"#0d0887\"],[0.1111111111111111,\"#46039f\"],[0.2222222222222222,\"#7201a8\"],[0.3333333333333333,\"#9c179e\"],[0.4444444444444444,\"#bd3786\"],[0.5555555555555556,\"#d8576b\"],[0.6666666666666666,\"#ed7953\"],[0.7777777777777778,\"#fb9f3a\"],[0.8888888888888888,\"#fdca26\"],[1.0,\"#f0f921\"]],\"sequentialminus\":[[0.0,\"#0d0887\"],[0.1111111111111111,\"#46039f\"],[0.2222222222222222,\"#7201a8\"],[0.3333333333333333,\"#9c179e\"],[0.4444444444444444,\"#bd3786\"],[0.5555555555555556,\"#d8576b\"],[0.6666666666666666,\"#ed7953\"],[0.7777777777777778,\"#fb9f3a\"],[0.8888888888888888,\"#fdca26\"],[1.0,\"#f0f921\"]],\"diverging\":[[0,\"#8e0152\"],[0.1,\"#c51b7d\"],[0.2,\"#de77ae\"],[0.3,\"#f1b6da\"],[0.4,\"#fde0ef\"],[0.5,\"#f7f7f7\"],[0.6,\"#e6f5d0\"],[0.7,\"#b8e186\"],[0.8,\"#7fbc41\"],[0.9,\"#4d9221\"],[1,\"#276419\"]]},\"xaxis\":{\"gridcolor\":\"white\",\"linecolor\":\"white\",\"ticks\":\"\",\"title\":{\"standoff\":15},\"zerolinecolor\":\"white\",\"automargin\":true,\"zerolinewidth\":2},\"yaxis\":{\"gridcolor\":\"white\",\"linecolor\":\"white\",\"ticks\":\"\",\"title\":{\"standoff\":15},\"zerolinecolor\":\"white\",\"automargin\":true,\"zerolinewidth\":2},\"scene\":{\"xaxis\":{\"backgroundcolor\":\"#E5ECF6\",\"gridcolor\":\"white\",\"linecolor\":\"white\",\"showbackground\":true,\"ticks\":\"\",\"zerolinecolor\":\"white\",\"gridwidth\":2},\"yaxis\":{\"backgroundcolor\":\"#E5ECF6\",\"gridcolor\":\"white\",\"linecolor\":\"white\",\"showbackground\":true,\"ticks\":\"\",\"zerolinecolor\":\"white\",\"gridwidth\":2},\"zaxis\":{\"backgroundcolor\":\"#E5ECF6\",\"gridcolor\":\"white\",\"linecolor\":\"white\",\"showbackground\":true,\"ticks\":\"\",\"zerolinecolor\":\"white\",\"gridwidth\":2}},\"shapedefaults\":{\"line\":{\"color\":\"#2a3f5f\"}},\"annotationdefaults\":{\"arrowcolor\":\"#2a3f5f\",\"arrowhead\":0,\"arrowwidth\":1},\"geo\":{\"bgcolor\":\"white\",\"landcolor\":\"#E5ECF6\",\"subunitcolor\":\"white\",\"showland\":true,\"showlakes\":true,\"lakecolor\":\"white\"},\"title\":{\"x\":0.05},\"mapbox\":{\"style\":\"light\"}}},\"scene\":{\"domain\":{\"x\":[0.0,1.0],\"y\":[0.0,1.0]},\"xaxis\":{\"title\":{\"text\":\"Total Calls\"}},\"yaxis\":{\"title\":{\"text\":\"Total Minutes\"}},\"zaxis\":{\"title\":{\"text\":\"Total Charges\"}}},\"legend\":{\"title\":{\"text\":\"churn\"},\"tracegroupgap\":0},\"margin\":{\"t\":60},\"width\":800,\"height\":600,\"autosize\":true,\"title\":{\"text\":\"Churning rate based on total values\"}},                        {\"responsive\": true}                    ).then(function(){\n",
              "                            \n",
              "var gd = document.getElementById('d6ea32ca-2628-40c5-9359-690672de6765');\n",
              "var x = new MutationObserver(function (mutations, observer) {{\n",
              "        var display = window.getComputedStyle(gd).display;\n",
              "        if (!display || display === 'none') {{\n",
              "            console.log([gd, 'removed!']);\n",
              "            Plotly.purge(gd);\n",
              "            observer.disconnect();\n",
              "        }}\n",
              "}});\n",
              "\n",
              "// Listen for the removal of the full notebook cells\n",
              "var notebookContainer = gd.closest('#notebook-container');\n",
              "if (notebookContainer) {{\n",
              "    x.observe(notebookContainer, {childList: true});\n",
              "}}\n",
              "\n",
              "// Listen for the clearing of the current output cell\n",
              "var outputEl = gd.closest('.output');\n",
              "if (outputEl) {{\n",
              "    x.observe(outputEl, {childList: true});\n",
              "}}\n",
              "\n",
              "                        })                };                            </script>        </div>\n",
              "</body>\n",
              "</html>"
            ]
          },
          "metadata": {}
        }
      ]
    },
    {
      "cell_type": "markdown",
      "source": [
        "- The 3D scatter plot showed some clustering of not churned customers, although churned customers were still present.\n",
        "- There were more not churned customers than churned ones, and higher levels of calls, minutes, and charges were associated with a higher likelihood of churn."
      ],
      "metadata": {
        "id": "GrsDOPChpYpa"
      }
    },
    {
      "cell_type": "markdown",
      "source": [
        "# THE END"
      ],
      "metadata": {
        "id": "ZGVZJDR5qnCB"
      }
    }
  ]
}